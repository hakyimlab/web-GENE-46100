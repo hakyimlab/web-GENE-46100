{
 "cells": [
  {
   "cell_type": "markdown",
   "id": "3875b55e",
   "metadata": {},
   "source": [
    "---\n",
    "title: Predicting alternative polyadenylation with Borzoi\n",
    "date: 2025-05-05\n",
    "author: Sofia Salazar\n",
    "categories:\n",
    "    - notebook\n",
    "    - gene46100\n",
    "---"
   ]
  },
  {
   "cell_type": "markdown",
   "id": "801726ed",
   "metadata": {},
   "source": [
    "## Predicting alternative polyadenylation with Borzoi\n",
    "\n",
    "### Overview\n",
    "\n",
    "[Borzoi](https://www.nature.com/articles/s41588-024-02053-6) is a deep learning model that, similarily to Enformer: \n",
    "\n",
    "- Takes DNA sequences as input (one-hot encoded) \n",
    "\n",
    "- Uses a convolutional neural network architecture and transformer layers \n",
    "\n",
    "- Predicts multiple genomic features simultaneously\n",
    "\n",
    "However, Borzoi was rained to predict RNA-seq coverage as well, which makes it useful for the following aplication: predicting 3'UTR alternative polyadenylation (APA).\n",
    "\n",
    "3'UTR APA is a post-transcriptional regulatory mechanism that allows transcripts from a gene to have different lengths due to differential polyA signal usage leading to different lengths of 3'UTR regions. Variants on the 3'UTR sequence that alter the length of the region are refered to 3'aQTLs [read more here](https://www.nature.com/articles/s41588-021-00864-5).\n",
    "\n",
    "### Objective\n",
    "\n",
    "In this notebook we will learn how to use borzoi to predict RNA-seq coverage around one 3'aQTL by predicting on both the reference and the alternative sequence. We will plot the differences on RNA-seq prediction at the 3'UTR for the whole blood borzoi tracks."
   ]
  },
  {
   "cell_type": "markdown",
   "id": "6014e684",
   "metadata": {},
   "source": [
    "## 1. Set up a borzoi-adequate environment\n",
    "\n",
    "The requirements for running borzoi are outlined [here](https://github.com/calico/borzoi/). The most important dependencies are **python ==3.10** and **tensorflow==2.15.x**.\n",
    "\n",
    "I had to install python 3.10 and found that working with a `venv` worked as of may 5th 2025.\n",
    "\n",
    "I followed the instructions to use the GPU of my macbook [here](https://developer.apple.com/metal/tensorflow-plugin/)"
   ]
  },
  {
   "cell_type": "markdown",
   "id": "61cf80fb",
   "metadata": {},
   "source": [
    "```{bash}\n",
    "brew install python@3.10\n",
    "python3.10 -m venv ~/borzoiTools\n",
    "source ~/borzoiTools/bin/activate\n",
    "python -m pip install -U pip\n",
    "python -m pip install ipykernel\n",
    "python3 -m ipykernel install --user --name=borzoiTools\n",
    "python3 -m pip install tensorflow==2.15\n",
    "python3 -m pip install tensorflow-metal\n",
    "```"
   ]
  },
  {
   "cell_type": "markdown",
   "id": "1a48d982",
   "metadata": {},
   "source": [
    "To verify python and tensforflow versions, run the following chunks:"
   ]
  },
  {
   "cell_type": "code",
   "execution_count": 1,
   "id": "b0d1b574",
   "metadata": {},
   "outputs": [],
   "source": [
    "import tensorflow as tf"
   ]
  },
  {
   "cell_type": "code",
   "execution_count": 2,
   "id": "0f48df34",
   "metadata": {},
   "outputs": [
    {
     "data": {
      "text/plain": [
       "[PhysicalDevice(name='/physical_device:GPU:0', device_type='GPU')]"
      ]
     },
     "execution_count": 2,
     "metadata": {},
     "output_type": "execute_result"
    }
   ],
   "source": [
    "gpus = tf.config.experimental.list_physical_devices('GPU')\n",
    "gpus"
   ]
  },
  {
   "cell_type": "code",
   "execution_count": 3,
   "id": "9810fd30",
   "metadata": {},
   "outputs": [
    {
     "name": "stdout",
     "output_type": "stream",
     "text": [
      "PhysicalDevice(name='/physical_device:GPU:0', device_type='GPU')\n",
      "TensorFlow is using the GPU.\n"
     ]
    }
   ],
   "source": [
    "if gpus:\n",
    "    try:\n",
    "        # Currently, memory growth needs to be the same across GPUs\n",
    "        for gpu in gpus:\n",
    "            print(gpu)\n",
    "            tf.config.experimental.set_memory_growth(gpu, True)\n",
    "        print(\"TensorFlow is using the GPU.\")\n",
    "    except RuntimeError as e:\n",
    "        print(e)\n",
    "else:\n",
    "    print(\"TensorFlow is not using the GPU. Check your TensorFlow installation.\")\n"
   ]
  },
  {
   "cell_type": "code",
   "execution_count": 4,
   "id": "f5683c0c",
   "metadata": {},
   "outputs": [
    {
     "name": "stdout",
     "output_type": "stream",
     "text": [
      "3.10.17 (main, Apr  8 2025, 12:10:59) [Clang 16.0.0 (clang-1600.0.26.6)]\n"
     ]
    }
   ],
   "source": [
    "import sys\n",
    "print(sys.version)"
   ]
  },
  {
   "cell_type": "code",
   "execution_count": 5,
   "id": "40d86aeb",
   "metadata": {},
   "outputs": [
    {
     "name": "stdout",
     "output_type": "stream",
     "text": [
      "2.15.0\n"
     ]
    }
   ],
   "source": [
    "print(tf.__version__)"
   ]
  },
  {
   "cell_type": "markdown",
   "id": "4b253e9c",
   "metadata": {},
   "source": [
    "## 2. Install borzoi and dependencies\n",
    "\n",
    "Borzoi depends on the baskerville software, run the following chunks to install both on your environment:"
   ]
  },
  {
   "cell_type": "code",
   "execution_count": 6,
   "id": "54959645",
   "metadata": {},
   "outputs": [
    {
     "name": "stdout",
     "output_type": "stream",
     "text": [
      "/Users/sofiasalazar/Desktop/IM_lab/borzoi_folder\n"
     ]
    },
    {
     "name": "stderr",
     "output_type": "stream",
     "text": [
      "/Users/sofiasalazar/borzoiTools/lib/python3.10/site-packages/IPython/core/magics/osm.py:417: UserWarning: This is now an optional IPython functionality, setting dhist requires you to install the `pickleshare` library.\n",
      "  self.shell.db['dhist'] = compress_dhist(dhist)[-100:]\n"
     ]
    }
   ],
   "source": [
    "%cd /Users/sofiasalazar/Desktop/IM_lab/borzoi_folder"
   ]
  },
  {
   "cell_type": "code",
   "execution_count": 7,
   "id": "9df1d9d9",
   "metadata": {},
   "outputs": [
    {
     "name": "stdout",
     "output_type": "stream",
     "text": [
      "Cloning into 'baskerville'...\n",
      "remote: Enumerating objects: 1802, done.\u001b[K\n",
      "remote: Counting objects: 100% (464/464), done.\u001b[K\n",
      "remote: Compressing objects: 100% (187/187), done.\u001b[K\n",
      "remote: Total 1802 (delta 324), reused 347 (delta 277), pack-reused 1338 (from 2)\u001b[K\n",
      "Receiving objects: 100% (1802/1802), 20.98 MiB | 1.07 MiB/s, done.\n",
      "Resolving deltas: 100% (973/973), done.\n"
     ]
    }
   ],
   "source": [
    "!git clone https://github.com/calico/baskerville.git"
   ]
  },
  {
   "cell_type": "code",
   "execution_count": 8,
   "id": "00e446ed",
   "metadata": {},
   "outputs": [
    {
     "name": "stdout",
     "output_type": "stream",
     "text": [
      "/Users/sofiasalazar/Desktop/IM_lab/borzoi_folder/baskerville\n",
      "Obtaining file:///Users/sofiasalazar/Desktop/IM_lab/borzoi_folder/baskerville\n",
      "  Installing build dependencies ... \u001b[?25ldone\n",
      "\u001b[?25h  Checking if build backend supports build_editable ... \u001b[?25ldone\n",
      "\u001b[?25h  Getting requirements to build editable ... \u001b[?25ldone\n",
      "\u001b[?25h  Preparing editable metadata (pyproject.toml) ... \u001b[?25ldone\n",
      "\u001b[?25hCollecting h5py~=3.10.0 (from baskerville==0.1.dev272+gaf9e2df)\n",
      "  Downloading h5py-3.10.0-cp310-cp310-macosx_11_0_arm64.whl.metadata (2.5 kB)\n",
      "Collecting intervaltree~=3.1.0 (from baskerville==0.1.dev272+gaf9e2df)\n",
      "  Downloading intervaltree-3.1.0.tar.gz (32 kB)\n",
      "  Preparing metadata (setup.py) ... \u001b[?25ldone\n",
      "\u001b[?25hCollecting joblib~=1.1.1 (from baskerville==0.1.dev272+gaf9e2df)\n",
      "  Downloading joblib-1.1.1-py2.py3-none-any.whl.metadata (5.2 kB)\n",
      "Collecting matplotlib~=3.7.1 (from baskerville==0.1.dev272+gaf9e2df)\n",
      "  Downloading matplotlib-3.7.5-cp310-cp310-macosx_11_0_arm64.whl.metadata (5.7 kB)\n",
      "Collecting google-cloud-storage~=2.0.0 (from baskerville==0.1.dev272+gaf9e2df)\n",
      "  Downloading google_cloud_storage-2.0.0-py2.py3-none-any.whl.metadata (5.3 kB)\n",
      "Collecting natsort~=7.1.1 (from baskerville==0.1.dev272+gaf9e2df)\n",
      "  Downloading natsort-7.1.1-py3-none-any.whl.metadata (22 kB)\n",
      "Collecting networkx~=2.8.4 (from baskerville==0.1.dev272+gaf9e2df)\n",
      "  Downloading networkx-2.8.8-py3-none-any.whl.metadata (5.1 kB)\n",
      "Collecting numpy~=1.24.3 (from baskerville==0.1.dev272+gaf9e2df)\n",
      "  Downloading numpy-1.24.4-cp310-cp310-macosx_11_0_arm64.whl.metadata (5.6 kB)\n",
      "Collecting pandas~=1.5.3 (from baskerville==0.1.dev272+gaf9e2df)\n",
      "  Downloading pandas-1.5.3-cp310-cp310-macosx_11_0_arm64.whl.metadata (11 kB)\n",
      "Collecting pybigwig~=0.3.18 (from baskerville==0.1.dev272+gaf9e2df)\n",
      "  Downloading pybigwig-0.3.24.tar.gz (75 kB)\n",
      "  Installing build dependencies ... \u001b[?25ldone\n",
      "\u001b[?25h  Getting requirements to build wheel ... \u001b[?25ldone\n",
      "\u001b[?25h  Preparing metadata (pyproject.toml) ... \u001b[?25ldone\n",
      "\u001b[?25hCollecting pybedtools~=0.10.0 (from baskerville==0.1.dev272+gaf9e2df)\n",
      "  Downloading pybedtools-0.10.0.tar.gz (12.6 MB)\n",
      "\u001b[2K     \u001b[90m━━━━━━━━━━━━━━━━━━━━━━━━━━━━━━━━━━━━━━━━\u001b[0m \u001b[32m12.6/12.6 MB\u001b[0m \u001b[31m3.5 MB/s\u001b[0m eta \u001b[36m0:00:00\u001b[0ma \u001b[36m0:00:01\u001b[0m\n",
      "\u001b[?25h  Preparing metadata (setup.py) ... \u001b[?25ldone\n",
      "\u001b[?25hCollecting pysam~=0.22.0 (from baskerville==0.1.dev272+gaf9e2df)\n",
      "  Downloading pysam-0.22.1-cp310-cp310-macosx_11_0_arm64.whl.metadata (1.5 kB)\n",
      "Collecting qnorm~=0.8.1 (from baskerville==0.1.dev272+gaf9e2df)\n",
      "  Downloading qnorm-0.8.1-py3-none-any.whl.metadata (10 kB)\n",
      "Collecting seaborn~=0.12.2 (from baskerville==0.1.dev272+gaf9e2df)\n",
      "  Downloading seaborn-0.12.2-py3-none-any.whl.metadata (5.4 kB)\n",
      "Collecting scikit-learn~=1.2.2 (from baskerville==0.1.dev272+gaf9e2df)\n",
      "  Downloading scikit_learn-1.2.2-cp310-cp310-macosx_12_0_arm64.whl.metadata (11 kB)\n",
      "Collecting scipy~=1.9.1 (from baskerville==0.1.dev272+gaf9e2df)\n",
      "  Downloading scipy-1.9.3-cp310-cp310-macosx_12_0_arm64.whl.metadata (53 kB)\n",
      "Collecting statsmodels~=0.13.5 (from baskerville==0.1.dev272+gaf9e2df)\n",
      "  Downloading statsmodels-0.13.5-cp310-cp310-macosx_11_0_arm64.whl.metadata (9.5 kB)\n",
      "Collecting tabulate~=0.8.10 (from baskerville==0.1.dev272+gaf9e2df)\n",
      "  Downloading tabulate-0.8.10-py3-none-any.whl.metadata (25 kB)\n",
      "Requirement already satisfied: tensorflow~=2.15.0 in /Users/sofiasalazar/borzoiTools/lib/python3.10/site-packages (from baskerville==0.1.dev272+gaf9e2df) (2.15.0)\n",
      "Collecting tqdm~=4.65.0 (from baskerville==0.1.dev272+gaf9e2df)\n",
      "  Downloading tqdm-4.65.2-py3-none-any.whl.metadata (56 kB)\n",
      "Collecting pyfaidx~=0.7.1 (from baskerville==0.1.dev272+gaf9e2df)\n",
      "  Downloading pyfaidx-0.7.2.2-py3-none-any.whl.metadata (25 kB)\n",
      "Requirement already satisfied: google-auth<3.0dev,>=1.25.0 in /Users/sofiasalazar/borzoiTools/lib/python3.10/site-packages (from google-cloud-storage~=2.0.0->baskerville==0.1.dev272+gaf9e2df) (2.39.0)\n",
      "Collecting google-api-core<3.0dev,>=1.29.0 (from google-cloud-storage~=2.0.0->baskerville==0.1.dev272+gaf9e2df)\n",
      "  Downloading google_api_core-2.25.0rc0-py3-none-any.whl.metadata (3.0 kB)\n",
      "Collecting google-cloud-core<3.0dev,>=1.6.0 (from google-cloud-storage~=2.0.0->baskerville==0.1.dev272+gaf9e2df)\n",
      "  Downloading google_cloud_core-2.4.3-py2.py3-none-any.whl.metadata (2.7 kB)\n",
      "Collecting google-resumable-media>=1.3.0 (from google-cloud-storage~=2.0.0->baskerville==0.1.dev272+gaf9e2df)\n",
      "  Downloading google_resumable_media-2.7.2-py2.py3-none-any.whl.metadata (2.2 kB)\n",
      "Requirement already satisfied: requests<3.0.0dev,>=2.18.0 in /Users/sofiasalazar/borzoiTools/lib/python3.10/site-packages (from google-cloud-storage~=2.0.0->baskerville==0.1.dev272+gaf9e2df) (2.32.3)\n",
      "Requirement already satisfied: protobuf in /Users/sofiasalazar/borzoiTools/lib/python3.10/site-packages (from google-cloud-storage~=2.0.0->baskerville==0.1.dev272+gaf9e2df) (4.25.7)\n",
      "Collecting googleapis-common-protos<2.0.0,>=1.56.2 (from google-api-core<3.0dev,>=1.29.0->google-cloud-storage~=2.0.0->baskerville==0.1.dev272+gaf9e2df)\n",
      "  Downloading googleapis_common_protos-1.70.0-py3-none-any.whl.metadata (9.3 kB)\n",
      "Collecting proto-plus<2.0.0,>=1.22.3 (from google-api-core<3.0dev,>=1.29.0->google-cloud-storage~=2.0.0->baskerville==0.1.dev272+gaf9e2df)\n",
      "  Using cached proto_plus-1.26.1-py3-none-any.whl.metadata (2.2 kB)\n",
      "Requirement already satisfied: cachetools<6.0,>=2.0.0 in /Users/sofiasalazar/borzoiTools/lib/python3.10/site-packages (from google-auth<3.0dev,>=1.25.0->google-cloud-storage~=2.0.0->baskerville==0.1.dev272+gaf9e2df) (5.5.2)\n",
      "Requirement already satisfied: pyasn1-modules>=0.2.1 in /Users/sofiasalazar/borzoiTools/lib/python3.10/site-packages (from google-auth<3.0dev,>=1.25.0->google-cloud-storage~=2.0.0->baskerville==0.1.dev272+gaf9e2df) (0.4.2)\n",
      "Requirement already satisfied: rsa<5,>=3.1.4 in /Users/sofiasalazar/borzoiTools/lib/python3.10/site-packages (from google-auth<3.0dev,>=1.25.0->google-cloud-storage~=2.0.0->baskerville==0.1.dev272+gaf9e2df) (4.9.1)\n",
      "Collecting sortedcontainers<3.0,>=2.0 (from intervaltree~=3.1.0->baskerville==0.1.dev272+gaf9e2df)\n",
      "  Using cached sortedcontainers-2.4.0-py2.py3-none-any.whl.metadata (10 kB)\n",
      "Collecting contourpy>=1.0.1 (from matplotlib~=3.7.1->baskerville==0.1.dev272+gaf9e2df)\n",
      "  Downloading contourpy-1.3.2-cp310-cp310-macosx_11_0_arm64.whl.metadata (5.5 kB)\n",
      "Collecting cycler>=0.10 (from matplotlib~=3.7.1->baskerville==0.1.dev272+gaf9e2df)\n",
      "  Using cached cycler-0.12.1-py3-none-any.whl.metadata (3.8 kB)\n",
      "Collecting fonttools>=4.22.0 (from matplotlib~=3.7.1->baskerville==0.1.dev272+gaf9e2df)\n",
      "  Downloading fonttools-4.57.0-cp310-cp310-macosx_10_9_universal2.whl.metadata (102 kB)\n",
      "Collecting kiwisolver>=1.0.1 (from matplotlib~=3.7.1->baskerville==0.1.dev272+gaf9e2df)\n",
      "  Downloading kiwisolver-1.4.8-cp310-cp310-macosx_11_0_arm64.whl.metadata (6.2 kB)\n",
      "Requirement already satisfied: packaging>=20.0 in /Users/sofiasalazar/borzoiTools/lib/python3.10/site-packages (from matplotlib~=3.7.1->baskerville==0.1.dev272+gaf9e2df) (25.0)\n",
      "Collecting pillow>=6.2.0 (from matplotlib~=3.7.1->baskerville==0.1.dev272+gaf9e2df)\n",
      "  Downloading pillow-11.2.1-cp310-cp310-macosx_11_0_arm64.whl.metadata (8.9 kB)\n",
      "Collecting pyparsing>=2.3.1 (from matplotlib~=3.7.1->baskerville==0.1.dev272+gaf9e2df)\n",
      "  Using cached pyparsing-3.2.3-py3-none-any.whl.metadata (5.0 kB)\n",
      "Requirement already satisfied: python-dateutil>=2.7 in /Users/sofiasalazar/borzoiTools/lib/python3.10/site-packages (from matplotlib~=3.7.1->baskerville==0.1.dev272+gaf9e2df) (2.9.0.post0)\n",
      "Collecting pytz>=2020.1 (from pandas~=1.5.3->baskerville==0.1.dev272+gaf9e2df)\n",
      "  Using cached pytz-2025.2-py2.py3-none-any.whl.metadata (22 kB)\n",
      "Requirement already satisfied: six in /Users/sofiasalazar/borzoiTools/lib/python3.10/site-packages (from pyfaidx~=0.7.1->baskerville==0.1.dev272+gaf9e2df) (1.17.0)\n",
      "Requirement already satisfied: setuptools in /Users/sofiasalazar/borzoiTools/lib/python3.10/site-packages (from pyfaidx~=0.7.1->baskerville==0.1.dev272+gaf9e2df) (78.1.0)\n",
      "Collecting importlib-metadata (from pyfaidx~=0.7.1->baskerville==0.1.dev272+gaf9e2df)\n",
      "  Downloading importlib_metadata-8.7.0-py3-none-any.whl.metadata (4.8 kB)\n",
      "Collecting numba (from qnorm~=0.8.1->baskerville==0.1.dev272+gaf9e2df)\n",
      "  Downloading numba-0.61.2-cp310-cp310-macosx_11_0_arm64.whl.metadata (2.8 kB)\n",
      "Requirement already satisfied: charset-normalizer<4,>=2 in /Users/sofiasalazar/borzoiTools/lib/python3.10/site-packages (from requests<3.0.0dev,>=2.18.0->google-cloud-storage~=2.0.0->baskerville==0.1.dev272+gaf9e2df) (3.4.2)\n",
      "Requirement already satisfied: idna<4,>=2.5 in /Users/sofiasalazar/borzoiTools/lib/python3.10/site-packages (from requests<3.0.0dev,>=2.18.0->google-cloud-storage~=2.0.0->baskerville==0.1.dev272+gaf9e2df) (3.10)\n",
      "Requirement already satisfied: urllib3<3,>=1.21.1 in /Users/sofiasalazar/borzoiTools/lib/python3.10/site-packages (from requests<3.0.0dev,>=2.18.0->google-cloud-storage~=2.0.0->baskerville==0.1.dev272+gaf9e2df) (2.4.0)\n",
      "Requirement already satisfied: certifi>=2017.4.17 in /Users/sofiasalazar/borzoiTools/lib/python3.10/site-packages (from requests<3.0.0dev,>=2.18.0->google-cloud-storage~=2.0.0->baskerville==0.1.dev272+gaf9e2df) (2025.4.26)\n",
      "Requirement already satisfied: pyasn1>=0.1.3 in /Users/sofiasalazar/borzoiTools/lib/python3.10/site-packages (from rsa<5,>=3.1.4->google-auth<3.0dev,>=1.25.0->google-cloud-storage~=2.0.0->baskerville==0.1.dev272+gaf9e2df) (0.6.1)\n",
      "Collecting threadpoolctl>=2.0.0 (from scikit-learn~=1.2.2->baskerville==0.1.dev272+gaf9e2df)\n",
      "  Using cached threadpoolctl-3.6.0-py3-none-any.whl.metadata (13 kB)\n",
      "Collecting patsy>=0.5.2 (from statsmodels~=0.13.5->baskerville==0.1.dev272+gaf9e2df)\n",
      "  Using cached patsy-1.0.1-py2.py3-none-any.whl.metadata (3.3 kB)\n",
      "Requirement already satisfied: tensorflow-macos==2.15.0 in /Users/sofiasalazar/borzoiTools/lib/python3.10/site-packages (from tensorflow~=2.15.0->baskerville==0.1.dev272+gaf9e2df) (2.15.0)\n",
      "Requirement already satisfied: absl-py>=1.0.0 in /Users/sofiasalazar/borzoiTools/lib/python3.10/site-packages (from tensorflow-macos==2.15.0->tensorflow~=2.15.0->baskerville==0.1.dev272+gaf9e2df) (2.2.2)\n",
      "Requirement already satisfied: astunparse>=1.6.0 in /Users/sofiasalazar/borzoiTools/lib/python3.10/site-packages (from tensorflow-macos==2.15.0->tensorflow~=2.15.0->baskerville==0.1.dev272+gaf9e2df) (1.6.3)\n",
      "Requirement already satisfied: flatbuffers>=23.5.26 in /Users/sofiasalazar/borzoiTools/lib/python3.10/site-packages (from tensorflow-macos==2.15.0->tensorflow~=2.15.0->baskerville==0.1.dev272+gaf9e2df) (25.2.10)\n",
      "Requirement already satisfied: gast!=0.5.0,!=0.5.1,!=0.5.2,>=0.2.1 in /Users/sofiasalazar/borzoiTools/lib/python3.10/site-packages (from tensorflow-macos==2.15.0->tensorflow~=2.15.0->baskerville==0.1.dev272+gaf9e2df) (0.6.0)\n",
      "Requirement already satisfied: google-pasta>=0.1.1 in /Users/sofiasalazar/borzoiTools/lib/python3.10/site-packages (from tensorflow-macos==2.15.0->tensorflow~=2.15.0->baskerville==0.1.dev272+gaf9e2df) (0.2.0)\n",
      "Requirement already satisfied: libclang>=13.0.0 in /Users/sofiasalazar/borzoiTools/lib/python3.10/site-packages (from tensorflow-macos==2.15.0->tensorflow~=2.15.0->baskerville==0.1.dev272+gaf9e2df) (18.1.1)\n",
      "Requirement already satisfied: ml-dtypes~=0.2.0 in /Users/sofiasalazar/borzoiTools/lib/python3.10/site-packages (from tensorflow-macos==2.15.0->tensorflow~=2.15.0->baskerville==0.1.dev272+gaf9e2df) (0.2.0)\n",
      "Requirement already satisfied: opt-einsum>=2.3.2 in /Users/sofiasalazar/borzoiTools/lib/python3.10/site-packages (from tensorflow-macos==2.15.0->tensorflow~=2.15.0->baskerville==0.1.dev272+gaf9e2df) (3.4.0)\n",
      "Requirement already satisfied: termcolor>=1.1.0 in /Users/sofiasalazar/borzoiTools/lib/python3.10/site-packages (from tensorflow-macos==2.15.0->tensorflow~=2.15.0->baskerville==0.1.dev272+gaf9e2df) (3.1.0)\n",
      "Requirement already satisfied: typing-extensions>=3.6.6 in /Users/sofiasalazar/borzoiTools/lib/python3.10/site-packages (from tensorflow-macos==2.15.0->tensorflow~=2.15.0->baskerville==0.1.dev272+gaf9e2df) (4.13.2)\n",
      "Requirement already satisfied: wrapt<1.15,>=1.11.0 in /Users/sofiasalazar/borzoiTools/lib/python3.10/site-packages (from tensorflow-macos==2.15.0->tensorflow~=2.15.0->baskerville==0.1.dev272+gaf9e2df) (1.14.1)\n",
      "Requirement already satisfied: tensorflow-io-gcs-filesystem>=0.23.1 in /Users/sofiasalazar/borzoiTools/lib/python3.10/site-packages (from tensorflow-macos==2.15.0->tensorflow~=2.15.0->baskerville==0.1.dev272+gaf9e2df) (0.37.1)\n",
      "Requirement already satisfied: grpcio<2.0,>=1.24.3 in /Users/sofiasalazar/borzoiTools/lib/python3.10/site-packages (from tensorflow-macos==2.15.0->tensorflow~=2.15.0->baskerville==0.1.dev272+gaf9e2df) (1.71.0)\n",
      "Requirement already satisfied: tensorboard<2.16,>=2.15 in /Users/sofiasalazar/borzoiTools/lib/python3.10/site-packages (from tensorflow-macos==2.15.0->tensorflow~=2.15.0->baskerville==0.1.dev272+gaf9e2df) (2.15.2)\n",
      "Requirement already satisfied: tensorflow-estimator<2.16,>=2.15.0 in /Users/sofiasalazar/borzoiTools/lib/python3.10/site-packages (from tensorflow-macos==2.15.0->tensorflow~=2.15.0->baskerville==0.1.dev272+gaf9e2df) (2.15.0)\n",
      "Requirement already satisfied: keras<2.16,>=2.15.0 in /Users/sofiasalazar/borzoiTools/lib/python3.10/site-packages (from tensorflow-macos==2.15.0->tensorflow~=2.15.0->baskerville==0.1.dev272+gaf9e2df) (2.15.0)\n",
      "Requirement already satisfied: google-auth-oauthlib<2,>=0.5 in /Users/sofiasalazar/borzoiTools/lib/python3.10/site-packages (from tensorboard<2.16,>=2.15->tensorflow-macos==2.15.0->tensorflow~=2.15.0->baskerville==0.1.dev272+gaf9e2df) (1.2.2)\n",
      "Requirement already satisfied: markdown>=2.6.8 in /Users/sofiasalazar/borzoiTools/lib/python3.10/site-packages (from tensorboard<2.16,>=2.15->tensorflow-macos==2.15.0->tensorflow~=2.15.0->baskerville==0.1.dev272+gaf9e2df) (3.8)\n",
      "Requirement already satisfied: tensorboard-data-server<0.8.0,>=0.7.0 in /Users/sofiasalazar/borzoiTools/lib/python3.10/site-packages (from tensorboard<2.16,>=2.15->tensorflow-macos==2.15.0->tensorflow~=2.15.0->baskerville==0.1.dev272+gaf9e2df) (0.7.2)\n",
      "Requirement already satisfied: werkzeug>=1.0.1 in /Users/sofiasalazar/borzoiTools/lib/python3.10/site-packages (from tensorboard<2.16,>=2.15->tensorflow-macos==2.15.0->tensorflow~=2.15.0->baskerville==0.1.dev272+gaf9e2df) (3.1.3)\n",
      "Requirement already satisfied: requests-oauthlib>=0.7.0 in /Users/sofiasalazar/borzoiTools/lib/python3.10/site-packages (from google-auth-oauthlib<2,>=0.5->tensorboard<2.16,>=2.15->tensorflow-macos==2.15.0->tensorflow~=2.15.0->baskerville==0.1.dev272+gaf9e2df) (2.0.0)\n",
      "Requirement already satisfied: wheel<1.0,>=0.23.0 in /Users/sofiasalazar/borzoiTools/lib/python3.10/site-packages (from astunparse>=1.6.0->tensorflow-macos==2.15.0->tensorflow~=2.15.0->baskerville==0.1.dev272+gaf9e2df) (0.45.1)\n",
      "Collecting google-crc32c<2.0dev,>=1.0 (from google-resumable-media>=1.3.0->google-cloud-storage~=2.0.0->baskerville==0.1.dev272+gaf9e2df)\n",
      "  Downloading google_crc32c-1.7.1-cp310-cp310-macosx_12_0_arm64.whl.metadata (2.3 kB)\n",
      "Requirement already satisfied: oauthlib>=3.0.0 in /Users/sofiasalazar/borzoiTools/lib/python3.10/site-packages (from requests-oauthlib>=0.7.0->google-auth-oauthlib<2,>=0.5->tensorboard<2.16,>=2.15->tensorflow-macos==2.15.0->tensorflow~=2.15.0->baskerville==0.1.dev272+gaf9e2df) (3.2.2)\n",
      "Requirement already satisfied: MarkupSafe>=2.1.1 in /Users/sofiasalazar/borzoiTools/lib/python3.10/site-packages (from werkzeug>=1.0.1->tensorboard<2.16,>=2.15->tensorflow-macos==2.15.0->tensorflow~=2.15.0->baskerville==0.1.dev272+gaf9e2df) (3.0.2)\n",
      "Collecting zipp>=3.20 (from importlib-metadata->pyfaidx~=0.7.1->baskerville==0.1.dev272+gaf9e2df)\n",
      "  Using cached zipp-3.21.0-py3-none-any.whl.metadata (3.7 kB)\n",
      "Collecting llvmlite<0.45,>=0.44.0dev0 (from numba->qnorm~=0.8.1->baskerville==0.1.dev272+gaf9e2df)\n",
      "  Downloading llvmlite-0.44.0-cp310-cp310-macosx_11_0_arm64.whl.metadata (4.8 kB)\n",
      "Downloading google_cloud_storage-2.0.0-py2.py3-none-any.whl (106 kB)\n",
      "Downloading google_api_core-2.25.0rc0-py3-none-any.whl (160 kB)\n",
      "Downloading google_cloud_core-2.4.3-py2.py3-none-any.whl (29 kB)\n",
      "Downloading googleapis_common_protos-1.70.0-py3-none-any.whl (294 kB)\n",
      "Downloading h5py-3.10.0-cp310-cp310-macosx_11_0_arm64.whl (2.7 MB)\n",
      "\u001b[2K   \u001b[90m━━━━━━━━━━━━━━━━━━━━━━━━━━━━━━━━━━━━━━━━\u001b[0m \u001b[32m2.7/2.7 MB\u001b[0m \u001b[31m3.2 MB/s\u001b[0m eta \u001b[36m0:00:00\u001b[0m00:01\u001b[0m00:01\u001b[0m\n",
      "\u001b[?25hDownloading joblib-1.1.1-py2.py3-none-any.whl (309 kB)\n",
      "Downloading matplotlib-3.7.5-cp310-cp310-macosx_11_0_arm64.whl (7.3 MB)\n",
      "\u001b[2K   \u001b[90m━━━━━━━━━━━━━━━━━━━━━━━━━━━━━━━━━━━━━━━━\u001b[0m \u001b[32m7.3/7.3 MB\u001b[0m \u001b[31m3.3 MB/s\u001b[0m eta \u001b[36m0:00:00\u001b[0ma \u001b[36m0:00:01\u001b[0m\n",
      "\u001b[?25hDownloading natsort-7.1.1-py3-none-any.whl (35 kB)\n",
      "Downloading networkx-2.8.8-py3-none-any.whl (2.0 MB)\n",
      "\u001b[2K   \u001b[90m━━━━━━━━━━━━━━━━━━━━━━━━━━━━━━━━━━━━━━━━\u001b[0m \u001b[32m2.0/2.0 MB\u001b[0m \u001b[31m3.3 MB/s\u001b[0m eta \u001b[36m0:00:00\u001b[0ma \u001b[36m0:00:01\u001b[0m\n",
      "\u001b[?25hDownloading numpy-1.24.4-cp310-cp310-macosx_11_0_arm64.whl (13.9 MB)\n",
      "\u001b[2K   \u001b[90m━━━━━━━━━━━━━━━━━━━━━━━━━━━━━━━━━━━━━━━━\u001b[0m \u001b[32m13.9/13.9 MB\u001b[0m \u001b[31m3.4 MB/s\u001b[0m eta \u001b[36m0:00:00\u001b[0ma \u001b[36m0:00:01\u001b[0m\n",
      "\u001b[?25hDownloading pandas-1.5.3-cp310-cp310-macosx_11_0_arm64.whl (10.9 MB)\n",
      "\u001b[2K   \u001b[90m━━━━━━━━━━━━━━━━━━━━━━━━━━━━━━━━━━━━━━━━\u001b[0m \u001b[32m10.9/10.9 MB\u001b[0m \u001b[31m3.5 MB/s\u001b[0m eta \u001b[36m0:00:00\u001b[0ma \u001b[36m0:00:01\u001b[0m\n",
      "\u001b[?25hUsing cached proto_plus-1.26.1-py3-none-any.whl (50 kB)\n",
      "Downloading pyfaidx-0.7.2.2-py3-none-any.whl (28 kB)\n",
      "Downloading pysam-0.22.1-cp310-cp310-macosx_11_0_arm64.whl (8.0 MB)\n",
      "\u001b[2K   \u001b[90m━━━━━━━━━━━━━━━━━━━━━━━━━━━━━━━━━━━━━━━━\u001b[0m \u001b[32m8.0/8.0 MB\u001b[0m \u001b[31m3.8 MB/s\u001b[0m eta \u001b[36m0:00:00\u001b[0ma \u001b[36m0:00:01\u001b[0m\n",
      "\u001b[?25hDownloading qnorm-0.8.1-py3-none-any.whl (15 kB)\n",
      "Downloading scikit_learn-1.2.2-cp310-cp310-macosx_12_0_arm64.whl (8.5 MB)\n",
      "\u001b[2K   \u001b[90m━━━━━━━━━━━━━━━━━━━━━━━━━━━━━━━━━━━━━━━━\u001b[0m \u001b[32m8.5/8.5 MB\u001b[0m \u001b[31m4.0 MB/s\u001b[0m eta \u001b[36m0:00:00\u001b[0ma \u001b[36m0:00:01\u001b[0m\n",
      "\u001b[?25hDownloading scipy-1.9.3-cp310-cp310-macosx_12_0_arm64.whl (28.5 MB)\n",
      "\u001b[2K   \u001b[90m━━━━━━━━━━━━━━━━━━━━━━━━━━━━━━━━━━━━━━━━\u001b[0m \u001b[32m28.5/28.5 MB\u001b[0m \u001b[31m3.5 MB/s\u001b[0m eta \u001b[36m0:00:00\u001b[0m00:01\u001b[0m00:01\u001b[0m\n",
      "\u001b[?25hDownloading seaborn-0.12.2-py3-none-any.whl (293 kB)\n",
      "Using cached sortedcontainers-2.4.0-py2.py3-none-any.whl (29 kB)\n",
      "Downloading statsmodels-0.13.5-cp310-cp310-macosx_11_0_arm64.whl (9.2 MB)\n",
      "\u001b[2K   \u001b[90m━━━━━━━━━━━━━━━━━━━━━━━━━━━━━━━━━━━━━━━━\u001b[0m \u001b[32m9.2/9.2 MB\u001b[0m \u001b[31m3.0 MB/s\u001b[0m eta \u001b[36m0:00:00\u001b[0ma \u001b[36m0:00:01\u001b[0m\n",
      "\u001b[?25hDownloading tabulate-0.8.10-py3-none-any.whl (29 kB)\n",
      "Downloading tqdm-4.65.2-py3-none-any.whl (77 kB)\n",
      "Downloading contourpy-1.3.2-cp310-cp310-macosx_11_0_arm64.whl (253 kB)\n",
      "Using cached cycler-0.12.1-py3-none-any.whl (8.3 kB)\n",
      "Downloading fonttools-4.57.0-cp310-cp310-macosx_10_9_universal2.whl (2.8 MB)\n",
      "\u001b[2K   \u001b[90m━━━━━━━━━━━━━━━━━━━━━━━━━━━━━━━━━━━━━━━━\u001b[0m \u001b[32m2.8/2.8 MB\u001b[0m \u001b[31m3.6 MB/s\u001b[0m eta \u001b[36m0:00:00\u001b[0ma \u001b[36m0:00:01\u001b[0m\n",
      "\u001b[?25hDownloading google_resumable_media-2.7.2-py2.py3-none-any.whl (81 kB)\n",
      "Downloading google_crc32c-1.7.1-cp310-cp310-macosx_12_0_arm64.whl (30 kB)\n",
      "Downloading kiwisolver-1.4.8-cp310-cp310-macosx_11_0_arm64.whl (65 kB)\n",
      "Using cached patsy-1.0.1-py2.py3-none-any.whl (232 kB)\n",
      "Downloading pillow-11.2.1-cp310-cp310-macosx_11_0_arm64.whl (3.0 MB)\n",
      "\u001b[2K   \u001b[90m━━━━━━━━━━━━━━━━━━━━━━━━━━━━━━━━━━━━━━━━\u001b[0m \u001b[32m3.0/3.0 MB\u001b[0m \u001b[31m3.5 MB/s\u001b[0m eta \u001b[36m0:00:00\u001b[0ma \u001b[36m0:00:01\u001b[0m\n",
      "\u001b[?25hUsing cached pyparsing-3.2.3-py3-none-any.whl (111 kB)\n",
      "Using cached pytz-2025.2-py2.py3-none-any.whl (509 kB)\n",
      "Using cached threadpoolctl-3.6.0-py3-none-any.whl (18 kB)\n",
      "Downloading importlib_metadata-8.7.0-py3-none-any.whl (27 kB)\n",
      "Using cached zipp-3.21.0-py3-none-any.whl (9.6 kB)\n",
      "Downloading numba-0.61.2-cp310-cp310-macosx_11_0_arm64.whl (2.8 MB)\n",
      "\u001b[2K   \u001b[90m━━━━━━━━━━━━━━━━━━━━━━━━━━━━━━━━━━━━━━━━\u001b[0m \u001b[32m2.8/2.8 MB\u001b[0m \u001b[31m2.3 MB/s\u001b[0m eta \u001b[36m0:00:00\u001b[0ma \u001b[36m0:00:01\u001b[0m\n",
      "\u001b[?25hDownloading llvmlite-0.44.0-cp310-cp310-macosx_11_0_arm64.whl (26.2 MB)\n",
      "\u001b[2K   \u001b[90m━━━━━━━━━━━━━━━━━━━━━━━━━━━━━━━━━━━━━━━━\u001b[0m \u001b[32m26.2/26.2 MB\u001b[0m \u001b[31m3.2 MB/s\u001b[0m eta \u001b[36m0:00:00\u001b[0ma \u001b[36m0:00:01\u001b[0m\n",
      "\u001b[?25hBuilding wheels for collected packages: baskerville, intervaltree, pybedtools, pybigwig\n",
      "  Building editable for baskerville (pyproject.toml) ... \u001b[?25ldone\n",
      "\u001b[?25h  Created wheel for baskerville: filename=baskerville-0.1.dev272+gaf9e2df-0.editable-py3-none-any.whl size=6079 sha256=5a18dc9f1b5fc7c6cce8c02c9214ea936b53361a0ed6a2c950966aa8c005a857\n",
      "  Stored in directory: /private/var/folders/rl/w_hnqr4533qff8zrnlk9dwzw0000gq/T/pip-ephem-wheel-cache-_jjbpoe5/wheels/0f/56/74/d5894a0e13c9a9f059875f8f42ff310565887376453cd2005f\n",
      "\u001b[33m  DEPRECATION: Building 'intervaltree' using the legacy setup.py bdist_wheel mechanism, which will be removed in a future version. pip 25.3 will enforce this behaviour change. A possible replacement is to use the standardized build interface by setting the `--use-pep517` option, (possibly combined with `--no-build-isolation`), or adding a `pyproject.toml` file to the source tree of 'intervaltree'. Discussion can be found at https://github.com/pypa/pip/issues/6334\u001b[0m\u001b[33m\n",
      "\u001b[0m  Building wheel for intervaltree (setup.py) ... \u001b[?25ldone\n",
      "\u001b[?25h  Created wheel for intervaltree: filename=intervaltree-3.1.0-py2.py3-none-any.whl size=26189 sha256=97959a40b4b3cf71adafe5a9293226756246808c187f0e9dcd76c81ab44f2c6e\n",
      "  Stored in directory: /Users/sofiasalazar/Library/Caches/pip/wheels/fa/80/8c/43488a924a046b733b64de3fac99252674c892a4c3801c0a61\n",
      "\u001b[33m  DEPRECATION: Building 'pybedtools' using the legacy setup.py bdist_wheel mechanism, which will be removed in a future version. pip 25.3 will enforce this behaviour change. A possible replacement is to use the standardized build interface by setting the `--use-pep517` option, (possibly combined with `--no-build-isolation`), or adding a `pyproject.toml` file to the source tree of 'pybedtools'. Discussion can be found at https://github.com/pypa/pip/issues/6334\u001b[0m\u001b[33m\n",
      "\u001b[0m  Building wheel for pybedtools (setup.py) ... \u001b[?25ldone\n",
      "\u001b[?25h  Created wheel for pybedtools: filename=pybedtools-0.10.0-cp310-cp310-macosx_15_0_arm64.whl size=12808822 sha256=434bdb13cbda1ded43b1f821fb2c8351459e450cfe6321019b0d380b0dc4e570\n",
      "  Stored in directory: /Users/sofiasalazar/Library/Caches/pip/wheels/e5/26/a4/6913af11fdcfbc926c98fee0768b4fe955f6e3cc7ebe2c9d9e\n",
      "  Building wheel for pybigwig (pyproject.toml) ... \u001b[?25ldone\n",
      "\u001b[?25h  Created wheel for pybigwig: filename=pybigwig-0.3.24-cp310-cp310-macosx_15_0_arm64.whl size=66428 sha256=ed5b5873f7398ed1841b1d270a74fda1a3b458d1a5d30f54317e6114b4414566\n",
      "  Stored in directory: /Users/sofiasalazar/Library/Caches/pip/wheels/4c/dc/e5/71b35cd736373cb2732292f5c0297e1d77daf2a930e35229e0\n",
      "Successfully built baskerville intervaltree pybedtools pybigwig\n",
      "Installing collected packages: sortedcontainers, pytz, zipp, tqdm, threadpoolctl, tabulate, pysam, pyparsing, pybigwig, proto-plus, pillow, numpy, networkx, natsort, llvmlite, kiwisolver, joblib, intervaltree, googleapis-common-protos, google-crc32c, fonttools, cycler, scipy, pybedtools, patsy, pandas, numba, importlib-metadata, h5py, google-resumable-media, contourpy, statsmodels, scikit-learn, qnorm, pyfaidx, matplotlib, google-api-core, seaborn, google-cloud-core, google-cloud-storage, baskerville\n",
      "\u001b[2K  Attempting uninstall: numpym\u001b[90m━━━━━━━━━━━━━━━━━━━━━━━━━━━━━━━\u001b[0m \u001b[32m 9/41\u001b[0m [proto-plus]\n",
      "\u001b[2K    Found existing installation: numpy 1.26.4━━━━━━━━━━━━━━━━━\u001b[0m \u001b[32m 9/41\u001b[0m [proto-plus]\n",
      "\u001b[2K    Uninstalling numpy-1.26.4:0m\u001b[90m━━━━━━━━━━━━━━━━━━━━━━━━━━━━━\u001b[0m \u001b[32m11/41\u001b[0m [numpy]]\n",
      "\u001b[2K      Successfully uninstalled numpy-1.26.4━━━━━━━━━━━━━━━━━━━\u001b[0m \u001b[32m11/41\u001b[0m [numpy]\n",
      "\u001b[2K  Attempting uninstall: h5py━━━━━\u001b[0m\u001b[90m╺\u001b[0m\u001b[90m━━━━━━━━━━━━━━\u001b[0m \u001b[32m26/41\u001b[0m [numba]]ls]\n",
      "\u001b[2K    Found existing installation: h5py 3.13.0[90m━━━━━━━━━━━━━━\u001b[0m \u001b[32m26/41\u001b[0m [numba]\n",
      "\u001b[2K    Uninstalling h5py-3.13.0:\u001b[0m\u001b[90m╺\u001b[0m\u001b[90m━━━━━━━━━━━━━━\u001b[0m \u001b[32m26/41\u001b[0m [numba]\n",
      "\u001b[2K      Successfully uninstalled h5py-3.13.0m\u001b[90m━━━━━━━━━━━━━━\u001b[0m \u001b[32m26/41\u001b[0m [numba]\n",
      "\u001b[2K   \u001b[90m━━━━━━━━━━━━━━━━━━━━━━━━━━━━━━━━━━━━━━━━\u001b[0m \u001b[32m41/41\u001b[0m [baskerville]\u001b[0m [google-cloud-storage]\n",
      "\u001b[1A\u001b[2KSuccessfully installed baskerville-0.1.dev272+gaf9e2df contourpy-1.3.2 cycler-0.12.1 fonttools-4.57.0 google-api-core-2.25.0rc0 google-cloud-core-2.4.3 google-cloud-storage-2.0.0 google-crc32c-1.7.1 google-resumable-media-2.7.2 googleapis-common-protos-1.70.0 h5py-3.10.0 importlib-metadata-8.7.0 intervaltree-3.1.0 joblib-1.1.1 kiwisolver-1.4.8 llvmlite-0.44.0 matplotlib-3.7.5 natsort-7.1.1 networkx-2.8.8 numba-0.61.2 numpy-1.24.4 pandas-1.5.3 patsy-1.0.1 pillow-11.2.1 proto-plus-1.26.1 pybedtools-0.10.0 pybigwig-0.3.24 pyfaidx-0.7.2.2 pyparsing-3.2.3 pysam-0.22.1 pytz-2025.2 qnorm-0.8.1 scikit-learn-1.2.2 scipy-1.9.3 seaborn-0.12.2 sortedcontainers-2.4.0 statsmodels-0.13.5 tabulate-0.8.10 threadpoolctl-3.6.0 tqdm-4.65.2 zipp-3.21.0\n",
      "Note: you may need to restart the kernel to use updated packages.\n"
     ]
    }
   ],
   "source": [
    "%cd baskerville\n",
    "%pip install -e ."
   ]
  },
  {
   "cell_type": "code",
   "execution_count": 9,
   "id": "05073560",
   "metadata": {},
   "outputs": [
    {
     "name": "stdout",
     "output_type": "stream",
     "text": [
      "/Users/sofiasalazar/Desktop/IM_lab/borzoi_folder\n",
      "Cloning into 'borzoi'...\n",
      "remote: Enumerating objects: 682, done.\u001b[K\n",
      "remote: Counting objects: 100% (187/187), done.\u001b[K\n",
      "remote: Compressing objects: 100% (70/70), done.\u001b[K\n",
      "remote: Total 682 (delta 133), reused 143 (delta 116), pack-reused 495 (from 1)\u001b[K\n",
      "Receiving objects: 100% (682/682), 11.68 MiB | 1.16 MiB/s, done.\n",
      "Resolving deltas: 100% (415/415), done.\n"
     ]
    }
   ],
   "source": [
    "%cd ..\n",
    "!git clone https://github.com/calico/borzoi.git"
   ]
  },
  {
   "cell_type": "code",
   "execution_count": 10,
   "id": "43318e15",
   "metadata": {},
   "outputs": [
    {
     "name": "stdout",
     "output_type": "stream",
     "text": [
      "/Users/sofiasalazar/Desktop/IM_lab/borzoi_folder/borzoi\n",
      "Obtaining file:///Users/sofiasalazar/Desktop/IM_lab/borzoi_folder/borzoi\n",
      "  Installing build dependencies ... \u001b[?25ldone\n",
      "\u001b[?25h  Checking if build backend supports build_editable ... \u001b[?25ldone\n",
      "\u001b[?25h  Getting requirements to build editable ... \u001b[?25ldone\n",
      "\u001b[?25h  Preparing editable metadata (pyproject.toml) ... \u001b[?25ldone\n",
      "\u001b[?25hRequirement already satisfied: h5py~=3.10.0 in /Users/sofiasalazar/borzoiTools/lib/python3.10/site-packages (from borzoi==1.0.1.dev5+g77670d9) (3.10.0)\n",
      "Requirement already satisfied: intervaltree~=3.1.0 in /Users/sofiasalazar/borzoiTools/lib/python3.10/site-packages (from borzoi==1.0.1.dev5+g77670d9) (3.1.0)\n",
      "Requirement already satisfied: joblib~=1.1.1 in /Users/sofiasalazar/borzoiTools/lib/python3.10/site-packages (from borzoi==1.0.1.dev5+g77670d9) (1.1.1)\n",
      "Requirement already satisfied: matplotlib~=3.7.1 in /Users/sofiasalazar/borzoiTools/lib/python3.10/site-packages (from borzoi==1.0.1.dev5+g77670d9) (3.7.5)\n",
      "Requirement already satisfied: google-cloud-storage~=2.0.0 in /Users/sofiasalazar/borzoiTools/lib/python3.10/site-packages (from borzoi==1.0.1.dev5+g77670d9) (2.0.0)\n",
      "Requirement already satisfied: natsort~=7.1.1 in /Users/sofiasalazar/borzoiTools/lib/python3.10/site-packages (from borzoi==1.0.1.dev5+g77670d9) (7.1.1)\n",
      "Requirement already satisfied: networkx~=2.8.4 in /Users/sofiasalazar/borzoiTools/lib/python3.10/site-packages (from borzoi==1.0.1.dev5+g77670d9) (2.8.8)\n",
      "Requirement already satisfied: numpy~=1.24.3 in /Users/sofiasalazar/borzoiTools/lib/python3.10/site-packages (from borzoi==1.0.1.dev5+g77670d9) (1.24.4)\n",
      "Requirement already satisfied: pandas~=1.5.3 in /Users/sofiasalazar/borzoiTools/lib/python3.10/site-packages (from borzoi==1.0.1.dev5+g77670d9) (1.5.3)\n",
      "Requirement already satisfied: pybigwig~=0.3.18 in /Users/sofiasalazar/borzoiTools/lib/python3.10/site-packages (from borzoi==1.0.1.dev5+g77670d9) (0.3.24)\n",
      "Requirement already satisfied: pybedtools~=0.10.0 in /Users/sofiasalazar/borzoiTools/lib/python3.10/site-packages (from borzoi==1.0.1.dev5+g77670d9) (0.10.0)\n",
      "Requirement already satisfied: pysam~=0.22.0 in /Users/sofiasalazar/borzoiTools/lib/python3.10/site-packages (from borzoi==1.0.1.dev5+g77670d9) (0.22.1)\n",
      "Requirement already satisfied: qnorm~=0.8.1 in /Users/sofiasalazar/borzoiTools/lib/python3.10/site-packages (from borzoi==1.0.1.dev5+g77670d9) (0.8.1)\n",
      "Requirement already satisfied: seaborn~=0.12.2 in /Users/sofiasalazar/borzoiTools/lib/python3.10/site-packages (from borzoi==1.0.1.dev5+g77670d9) (0.12.2)\n",
      "Requirement already satisfied: scikit-learn~=1.2.2 in /Users/sofiasalazar/borzoiTools/lib/python3.10/site-packages (from borzoi==1.0.1.dev5+g77670d9) (1.2.2)\n",
      "Requirement already satisfied: scipy~=1.9.1 in /Users/sofiasalazar/borzoiTools/lib/python3.10/site-packages (from borzoi==1.0.1.dev5+g77670d9) (1.9.3)\n",
      "Requirement already satisfied: tensorflow~=2.15.0 in /Users/sofiasalazar/borzoiTools/lib/python3.10/site-packages (from borzoi==1.0.1.dev5+g77670d9) (2.15.0)\n",
      "Requirement already satisfied: tqdm~=4.65.0 in /Users/sofiasalazar/borzoiTools/lib/python3.10/site-packages (from borzoi==1.0.1.dev5+g77670d9) (4.65.2)\n",
      "Requirement already satisfied: pyfaidx~=0.7.1 in /Users/sofiasalazar/borzoiTools/lib/python3.10/site-packages (from borzoi==1.0.1.dev5+g77670d9) (0.7.2.2)\n",
      "Collecting pyranges~=0.0.129 (from borzoi==1.0.1.dev5+g77670d9)\n",
      "  Downloading pyranges-0.0.133-py3-none-any.whl.metadata (3.6 kB)\n",
      "Requirement already satisfied: google-auth<3.0dev,>=1.25.0 in /Users/sofiasalazar/borzoiTools/lib/python3.10/site-packages (from google-cloud-storage~=2.0.0->borzoi==1.0.1.dev5+g77670d9) (2.39.0)\n",
      "Requirement already satisfied: google-api-core<3.0dev,>=1.29.0 in /Users/sofiasalazar/borzoiTools/lib/python3.10/site-packages (from google-cloud-storage~=2.0.0->borzoi==1.0.1.dev5+g77670d9) (2.25.0rc0)\n",
      "Requirement already satisfied: google-cloud-core<3.0dev,>=1.6.0 in /Users/sofiasalazar/borzoiTools/lib/python3.10/site-packages (from google-cloud-storage~=2.0.0->borzoi==1.0.1.dev5+g77670d9) (2.4.3)\n",
      "Requirement already satisfied: google-resumable-media>=1.3.0 in /Users/sofiasalazar/borzoiTools/lib/python3.10/site-packages (from google-cloud-storage~=2.0.0->borzoi==1.0.1.dev5+g77670d9) (2.7.2)\n",
      "Requirement already satisfied: requests<3.0.0dev,>=2.18.0 in /Users/sofiasalazar/borzoiTools/lib/python3.10/site-packages (from google-cloud-storage~=2.0.0->borzoi==1.0.1.dev5+g77670d9) (2.32.3)\n",
      "Requirement already satisfied: protobuf in /Users/sofiasalazar/borzoiTools/lib/python3.10/site-packages (from google-cloud-storage~=2.0.0->borzoi==1.0.1.dev5+g77670d9) (4.25.7)\n",
      "Requirement already satisfied: googleapis-common-protos<2.0.0,>=1.56.2 in /Users/sofiasalazar/borzoiTools/lib/python3.10/site-packages (from google-api-core<3.0dev,>=1.29.0->google-cloud-storage~=2.0.0->borzoi==1.0.1.dev5+g77670d9) (1.70.0)\n",
      "Requirement already satisfied: proto-plus<2.0.0,>=1.22.3 in /Users/sofiasalazar/borzoiTools/lib/python3.10/site-packages (from google-api-core<3.0dev,>=1.29.0->google-cloud-storage~=2.0.0->borzoi==1.0.1.dev5+g77670d9) (1.26.1)\n",
      "Requirement already satisfied: cachetools<6.0,>=2.0.0 in /Users/sofiasalazar/borzoiTools/lib/python3.10/site-packages (from google-auth<3.0dev,>=1.25.0->google-cloud-storage~=2.0.0->borzoi==1.0.1.dev5+g77670d9) (5.5.2)\n",
      "Requirement already satisfied: pyasn1-modules>=0.2.1 in /Users/sofiasalazar/borzoiTools/lib/python3.10/site-packages (from google-auth<3.0dev,>=1.25.0->google-cloud-storage~=2.0.0->borzoi==1.0.1.dev5+g77670d9) (0.4.2)\n",
      "Requirement already satisfied: rsa<5,>=3.1.4 in /Users/sofiasalazar/borzoiTools/lib/python3.10/site-packages (from google-auth<3.0dev,>=1.25.0->google-cloud-storage~=2.0.0->borzoi==1.0.1.dev5+g77670d9) (4.9.1)\n",
      "Requirement already satisfied: sortedcontainers<3.0,>=2.0 in /Users/sofiasalazar/borzoiTools/lib/python3.10/site-packages (from intervaltree~=3.1.0->borzoi==1.0.1.dev5+g77670d9) (2.4.0)\n",
      "Requirement already satisfied: contourpy>=1.0.1 in /Users/sofiasalazar/borzoiTools/lib/python3.10/site-packages (from matplotlib~=3.7.1->borzoi==1.0.1.dev5+g77670d9) (1.3.2)\n",
      "Requirement already satisfied: cycler>=0.10 in /Users/sofiasalazar/borzoiTools/lib/python3.10/site-packages (from matplotlib~=3.7.1->borzoi==1.0.1.dev5+g77670d9) (0.12.1)\n",
      "Requirement already satisfied: fonttools>=4.22.0 in /Users/sofiasalazar/borzoiTools/lib/python3.10/site-packages (from matplotlib~=3.7.1->borzoi==1.0.1.dev5+g77670d9) (4.57.0)\n",
      "Requirement already satisfied: kiwisolver>=1.0.1 in /Users/sofiasalazar/borzoiTools/lib/python3.10/site-packages (from matplotlib~=3.7.1->borzoi==1.0.1.dev5+g77670d9) (1.4.8)\n",
      "Requirement already satisfied: packaging>=20.0 in /Users/sofiasalazar/borzoiTools/lib/python3.10/site-packages (from matplotlib~=3.7.1->borzoi==1.0.1.dev5+g77670d9) (25.0)\n",
      "Requirement already satisfied: pillow>=6.2.0 in /Users/sofiasalazar/borzoiTools/lib/python3.10/site-packages (from matplotlib~=3.7.1->borzoi==1.0.1.dev5+g77670d9) (11.2.1)\n",
      "Requirement already satisfied: pyparsing>=2.3.1 in /Users/sofiasalazar/borzoiTools/lib/python3.10/site-packages (from matplotlib~=3.7.1->borzoi==1.0.1.dev5+g77670d9) (3.2.3)\n",
      "Requirement already satisfied: python-dateutil>=2.7 in /Users/sofiasalazar/borzoiTools/lib/python3.10/site-packages (from matplotlib~=3.7.1->borzoi==1.0.1.dev5+g77670d9) (2.9.0.post0)\n",
      "Requirement already satisfied: pytz>=2020.1 in /Users/sofiasalazar/borzoiTools/lib/python3.10/site-packages (from pandas~=1.5.3->borzoi==1.0.1.dev5+g77670d9) (2025.2)\n",
      "Requirement already satisfied: six in /Users/sofiasalazar/borzoiTools/lib/python3.10/site-packages (from pyfaidx~=0.7.1->borzoi==1.0.1.dev5+g77670d9) (1.17.0)\n",
      "Requirement already satisfied: setuptools in /Users/sofiasalazar/borzoiTools/lib/python3.10/site-packages (from pyfaidx~=0.7.1->borzoi==1.0.1.dev5+g77670d9) (78.1.0)\n",
      "Requirement already satisfied: importlib-metadata in /Users/sofiasalazar/borzoiTools/lib/python3.10/site-packages (from pyfaidx~=0.7.1->borzoi==1.0.1.dev5+g77670d9) (8.7.0)\n",
      "Collecting ncls>=0.0.63 (from pyranges~=0.0.129->borzoi==1.0.1.dev5+g77670d9)\n",
      "  Using cached ncls-0.0.68.tar.gz (483 kB)\n",
      "  Installing build dependencies ... \u001b[?25ldone\n",
      "\u001b[?25h  Getting requirements to build wheel ... \u001b[?25ldone\n",
      "\u001b[?25h  Preparing metadata (pyproject.toml) ... \u001b[?25ldone\n",
      "\u001b[?25hRequirement already satisfied: tabulate in /Users/sofiasalazar/borzoiTools/lib/python3.10/site-packages (from pyranges~=0.0.129->borzoi==1.0.1.dev5+g77670d9) (0.8.10)\n",
      "Collecting sorted-nearest>=0.0.33 (from pyranges~=0.0.129->borzoi==1.0.1.dev5+g77670d9)\n",
      "  Using cached sorted_nearest-0.0.39.tar.gz (1.2 MB)\n",
      "  Installing build dependencies ... \u001b[?25ldone\n",
      "\u001b[?25h  Getting requirements to build wheel ... \u001b[?25ldone\n",
      "\u001b[?25h  Preparing metadata (pyproject.toml) ... \u001b[?25ldone\n",
      "\u001b[?25hRequirement already satisfied: numba in /Users/sofiasalazar/borzoiTools/lib/python3.10/site-packages (from qnorm~=0.8.1->borzoi==1.0.1.dev5+g77670d9) (0.61.2)\n",
      "Requirement already satisfied: charset-normalizer<4,>=2 in /Users/sofiasalazar/borzoiTools/lib/python3.10/site-packages (from requests<3.0.0dev,>=2.18.0->google-cloud-storage~=2.0.0->borzoi==1.0.1.dev5+g77670d9) (3.4.2)\n",
      "Requirement already satisfied: idna<4,>=2.5 in /Users/sofiasalazar/borzoiTools/lib/python3.10/site-packages (from requests<3.0.0dev,>=2.18.0->google-cloud-storage~=2.0.0->borzoi==1.0.1.dev5+g77670d9) (3.10)\n",
      "Requirement already satisfied: urllib3<3,>=1.21.1 in /Users/sofiasalazar/borzoiTools/lib/python3.10/site-packages (from requests<3.0.0dev,>=2.18.0->google-cloud-storage~=2.0.0->borzoi==1.0.1.dev5+g77670d9) (2.4.0)\n",
      "Requirement already satisfied: certifi>=2017.4.17 in /Users/sofiasalazar/borzoiTools/lib/python3.10/site-packages (from requests<3.0.0dev,>=2.18.0->google-cloud-storage~=2.0.0->borzoi==1.0.1.dev5+g77670d9) (2025.4.26)\n",
      "Requirement already satisfied: pyasn1>=0.1.3 in /Users/sofiasalazar/borzoiTools/lib/python3.10/site-packages (from rsa<5,>=3.1.4->google-auth<3.0dev,>=1.25.0->google-cloud-storage~=2.0.0->borzoi==1.0.1.dev5+g77670d9) (0.6.1)\n",
      "Requirement already satisfied: threadpoolctl>=2.0.0 in /Users/sofiasalazar/borzoiTools/lib/python3.10/site-packages (from scikit-learn~=1.2.2->borzoi==1.0.1.dev5+g77670d9) (3.6.0)\n",
      "Requirement already satisfied: tensorflow-macos==2.15.0 in /Users/sofiasalazar/borzoiTools/lib/python3.10/site-packages (from tensorflow~=2.15.0->borzoi==1.0.1.dev5+g77670d9) (2.15.0)\n",
      "Requirement already satisfied: absl-py>=1.0.0 in /Users/sofiasalazar/borzoiTools/lib/python3.10/site-packages (from tensorflow-macos==2.15.0->tensorflow~=2.15.0->borzoi==1.0.1.dev5+g77670d9) (2.2.2)\n",
      "Requirement already satisfied: astunparse>=1.6.0 in /Users/sofiasalazar/borzoiTools/lib/python3.10/site-packages (from tensorflow-macos==2.15.0->tensorflow~=2.15.0->borzoi==1.0.1.dev5+g77670d9) (1.6.3)\n",
      "Requirement already satisfied: flatbuffers>=23.5.26 in /Users/sofiasalazar/borzoiTools/lib/python3.10/site-packages (from tensorflow-macos==2.15.0->tensorflow~=2.15.0->borzoi==1.0.1.dev5+g77670d9) (25.2.10)\n",
      "Requirement already satisfied: gast!=0.5.0,!=0.5.1,!=0.5.2,>=0.2.1 in /Users/sofiasalazar/borzoiTools/lib/python3.10/site-packages (from tensorflow-macos==2.15.0->tensorflow~=2.15.0->borzoi==1.0.1.dev5+g77670d9) (0.6.0)\n",
      "Requirement already satisfied: google-pasta>=0.1.1 in /Users/sofiasalazar/borzoiTools/lib/python3.10/site-packages (from tensorflow-macos==2.15.0->tensorflow~=2.15.0->borzoi==1.0.1.dev5+g77670d9) (0.2.0)\n",
      "Requirement already satisfied: libclang>=13.0.0 in /Users/sofiasalazar/borzoiTools/lib/python3.10/site-packages (from tensorflow-macos==2.15.0->tensorflow~=2.15.0->borzoi==1.0.1.dev5+g77670d9) (18.1.1)\n",
      "Requirement already satisfied: ml-dtypes~=0.2.0 in /Users/sofiasalazar/borzoiTools/lib/python3.10/site-packages (from tensorflow-macos==2.15.0->tensorflow~=2.15.0->borzoi==1.0.1.dev5+g77670d9) (0.2.0)\n",
      "Requirement already satisfied: opt-einsum>=2.3.2 in /Users/sofiasalazar/borzoiTools/lib/python3.10/site-packages (from tensorflow-macos==2.15.0->tensorflow~=2.15.0->borzoi==1.0.1.dev5+g77670d9) (3.4.0)\n",
      "Requirement already satisfied: termcolor>=1.1.0 in /Users/sofiasalazar/borzoiTools/lib/python3.10/site-packages (from tensorflow-macos==2.15.0->tensorflow~=2.15.0->borzoi==1.0.1.dev5+g77670d9) (3.1.0)\n",
      "Requirement already satisfied: typing-extensions>=3.6.6 in /Users/sofiasalazar/borzoiTools/lib/python3.10/site-packages (from tensorflow-macos==2.15.0->tensorflow~=2.15.0->borzoi==1.0.1.dev5+g77670d9) (4.13.2)\n",
      "Requirement already satisfied: wrapt<1.15,>=1.11.0 in /Users/sofiasalazar/borzoiTools/lib/python3.10/site-packages (from tensorflow-macos==2.15.0->tensorflow~=2.15.0->borzoi==1.0.1.dev5+g77670d9) (1.14.1)\n",
      "Requirement already satisfied: tensorflow-io-gcs-filesystem>=0.23.1 in /Users/sofiasalazar/borzoiTools/lib/python3.10/site-packages (from tensorflow-macos==2.15.0->tensorflow~=2.15.0->borzoi==1.0.1.dev5+g77670d9) (0.37.1)\n",
      "Requirement already satisfied: grpcio<2.0,>=1.24.3 in /Users/sofiasalazar/borzoiTools/lib/python3.10/site-packages (from tensorflow-macos==2.15.0->tensorflow~=2.15.0->borzoi==1.0.1.dev5+g77670d9) (1.71.0)\n",
      "Requirement already satisfied: tensorboard<2.16,>=2.15 in /Users/sofiasalazar/borzoiTools/lib/python3.10/site-packages (from tensorflow-macos==2.15.0->tensorflow~=2.15.0->borzoi==1.0.1.dev5+g77670d9) (2.15.2)\n",
      "Requirement already satisfied: tensorflow-estimator<2.16,>=2.15.0 in /Users/sofiasalazar/borzoiTools/lib/python3.10/site-packages (from tensorflow-macos==2.15.0->tensorflow~=2.15.0->borzoi==1.0.1.dev5+g77670d9) (2.15.0)\n",
      "Requirement already satisfied: keras<2.16,>=2.15.0 in /Users/sofiasalazar/borzoiTools/lib/python3.10/site-packages (from tensorflow-macos==2.15.0->tensorflow~=2.15.0->borzoi==1.0.1.dev5+g77670d9) (2.15.0)\n",
      "Requirement already satisfied: google-auth-oauthlib<2,>=0.5 in /Users/sofiasalazar/borzoiTools/lib/python3.10/site-packages (from tensorboard<2.16,>=2.15->tensorflow-macos==2.15.0->tensorflow~=2.15.0->borzoi==1.0.1.dev5+g77670d9) (1.2.2)\n",
      "Requirement already satisfied: markdown>=2.6.8 in /Users/sofiasalazar/borzoiTools/lib/python3.10/site-packages (from tensorboard<2.16,>=2.15->tensorflow-macos==2.15.0->tensorflow~=2.15.0->borzoi==1.0.1.dev5+g77670d9) (3.8)\n",
      "Requirement already satisfied: tensorboard-data-server<0.8.0,>=0.7.0 in /Users/sofiasalazar/borzoiTools/lib/python3.10/site-packages (from tensorboard<2.16,>=2.15->tensorflow-macos==2.15.0->tensorflow~=2.15.0->borzoi==1.0.1.dev5+g77670d9) (0.7.2)\n",
      "Requirement already satisfied: werkzeug>=1.0.1 in /Users/sofiasalazar/borzoiTools/lib/python3.10/site-packages (from tensorboard<2.16,>=2.15->tensorflow-macos==2.15.0->tensorflow~=2.15.0->borzoi==1.0.1.dev5+g77670d9) (3.1.3)\n",
      "Requirement already satisfied: requests-oauthlib>=0.7.0 in /Users/sofiasalazar/borzoiTools/lib/python3.10/site-packages (from google-auth-oauthlib<2,>=0.5->tensorboard<2.16,>=2.15->tensorflow-macos==2.15.0->tensorflow~=2.15.0->borzoi==1.0.1.dev5+g77670d9) (2.0.0)\n",
      "Requirement already satisfied: wheel<1.0,>=0.23.0 in /Users/sofiasalazar/borzoiTools/lib/python3.10/site-packages (from astunparse>=1.6.0->tensorflow-macos==2.15.0->tensorflow~=2.15.0->borzoi==1.0.1.dev5+g77670d9) (0.45.1)\n",
      "Requirement already satisfied: google-crc32c<2.0dev,>=1.0 in /Users/sofiasalazar/borzoiTools/lib/python3.10/site-packages (from google-resumable-media>=1.3.0->google-cloud-storage~=2.0.0->borzoi==1.0.1.dev5+g77670d9) (1.7.1)\n",
      "Requirement already satisfied: oauthlib>=3.0.0 in /Users/sofiasalazar/borzoiTools/lib/python3.10/site-packages (from requests-oauthlib>=0.7.0->google-auth-oauthlib<2,>=0.5->tensorboard<2.16,>=2.15->tensorflow-macos==2.15.0->tensorflow~=2.15.0->borzoi==1.0.1.dev5+g77670d9) (3.2.2)\n",
      "Requirement already satisfied: MarkupSafe>=2.1.1 in /Users/sofiasalazar/borzoiTools/lib/python3.10/site-packages (from werkzeug>=1.0.1->tensorboard<2.16,>=2.15->tensorflow-macos==2.15.0->tensorflow~=2.15.0->borzoi==1.0.1.dev5+g77670d9) (3.0.2)\n",
      "Requirement already satisfied: zipp>=3.20 in /Users/sofiasalazar/borzoiTools/lib/python3.10/site-packages (from importlib-metadata->pyfaidx~=0.7.1->borzoi==1.0.1.dev5+g77670d9) (3.21.0)\n",
      "Requirement already satisfied: llvmlite<0.45,>=0.44.0dev0 in /Users/sofiasalazar/borzoiTools/lib/python3.10/site-packages (from numba->qnorm~=0.8.1->borzoi==1.0.1.dev5+g77670d9) (0.44.0)\n",
      "Downloading pyranges-0.0.133-py3-none-any.whl (1.5 MB)\n",
      "\u001b[2K   \u001b[90m━━━━━━━━━━━━━━━━━━━━━━━━━━━━━━━━━━━━━━━━\u001b[0m \u001b[32m1.5/1.5 MB\u001b[0m \u001b[31m8.2 MB/s\u001b[0m eta \u001b[36m0:00:00\u001b[0m\n",
      "\u001b[?25hBuilding wheels for collected packages: borzoi, ncls, sorted-nearest\n",
      "  Building editable for borzoi (pyproject.toml) ... \u001b[?25ldone\n",
      "\u001b[?25h  Created wheel for borzoi: filename=borzoi-1.0.1.dev5+g77670d9-0.editable-py3-none-any.whl size=8795 sha256=d8bc5e16d1a2384890eab58e98d602bb8ebc4e4ed15e1de40de1f7aa778025f2\n",
      "  Stored in directory: /private/var/folders/rl/w_hnqr4533qff8zrnlk9dwzw0000gq/T/pip-ephem-wheel-cache-zsaipyop/wheels/c9/9b/d5/8703891c994a9e7c0e3f779c8adcaaa9d55d38b8ce398e7e27\n",
      "  Building wheel for ncls (pyproject.toml) ... \u001b[?25ldone\n",
      "\u001b[?25h  Created wheel for ncls: filename=ncls-0.0.68-cp310-cp310-macosx_15_0_arm64.whl size=929557 sha256=9b2bb528affbf16a673b4b1537815245ac139dd58631dd9ecb1106e9e003c7ae\n",
      "  Stored in directory: /Users/sofiasalazar/Library/Caches/pip/wheels/3d/bb/c6/ddd371cd19a3169b5a94cd5906b05aa56a2d1ce382df1d486a\n",
      "  Building wheel for sorted-nearest (pyproject.toml) ... \u001b[?25ldone\n",
      "\u001b[?25h  Created wheel for sorted-nearest: filename=sorted_nearest-0.0.39-cp310-cp310-macosx_15_0_arm64.whl size=2501079 sha256=892210e5760b2a2fff3b6ed41d8619f7bbdf05bb53ca56a4c6985aa825d96cf0\n",
      "  Stored in directory: /Users/sofiasalazar/Library/Caches/pip/wheels/46/56/bb/42c251764b345b69bade41e3c1f91f52dfc49a5e2074989767\n",
      "Successfully built borzoi ncls sorted-nearest\n",
      "Installing collected packages: sorted-nearest, ncls, pyranges, borzoi\n",
      "\u001b[2K   \u001b[90m━━━━━━━━━━━━━━━━━━━━━━━━━━━━━━━━━━━━━━━━\u001b[0m \u001b[32m4/4\u001b[0m [borzoi]\n",
      "\u001b[1A\u001b[2KSuccessfully installed borzoi-1.0.1.dev5+g77670d9 ncls-0.0.68 pyranges-0.0.133 sorted-nearest-0.0.39\n",
      "Note: you may need to restart the kernel to use updated packages.\n"
     ]
    }
   ],
   "source": [
    "%cd borzoi\n",
    "%pip install -e ."
   ]
  },
  {
   "cell_type": "markdown",
   "id": "ac364198",
   "metadata": {},
   "source": [
    "Then I installed other libraries that we will be using as well"
   ]
  },
  {
   "cell_type": "code",
   "execution_count": 11,
   "id": "7c4c6854",
   "metadata": {},
   "outputs": [
    {
     "name": "stdout",
     "output_type": "stream",
     "text": [
      "Collecting kipoiseq\n",
      "  Using cached kipoiseq-0.7.1-py3-none-any.whl.metadata (1.4 kB)\n",
      "Collecting kipoi>=0.5.5 (from kipoiseq)\n",
      "  Using cached kipoi-0.8.6-py3-none-any.whl.metadata (1.6 kB)\n",
      "Requirement already satisfied: pyfaidx in /Users/sofiasalazar/borzoiTools/lib/python3.10/site-packages (from kipoiseq) (0.7.2.2)\n",
      "Requirement already satisfied: numpy in /Users/sofiasalazar/borzoiTools/lib/python3.10/site-packages (from kipoiseq) (1.24.4)\n",
      "Requirement already satisfied: pandas in /Users/sofiasalazar/borzoiTools/lib/python3.10/site-packages (from kipoiseq) (1.5.3)\n",
      "Requirement already satisfied: tqdm in /Users/sofiasalazar/borzoiTools/lib/python3.10/site-packages (from kipoiseq) (4.65.2)\n",
      "Collecting gffutils (from kipoiseq)\n",
      "  Using cached gffutils-0.13-py3-none-any.whl.metadata (1.5 kB)\n",
      "Collecting kipoi-utils>=0.1.1 (from kipoiseq)\n",
      "  Using cached kipoi_utils-0.7.7-py3-none-any.whl.metadata (921 bytes)\n",
      "Collecting kipoi-conda>=0.1.0 (from kipoiseq)\n",
      "  Using cached kipoi_conda-0.3.1-py3-none-any.whl.metadata (935 bytes)\n",
      "Requirement already satisfied: pyranges in /Users/sofiasalazar/borzoiTools/lib/python3.10/site-packages (from kipoiseq) (0.0.133)\n",
      "Collecting pyyaml (from kipoi>=0.5.5->kipoiseq)\n",
      "  Using cached PyYAML-6.0.2-cp310-cp310-macosx_11_0_arm64.whl.metadata (2.1 kB)\n",
      "Collecting related>=0.6.0 (from kipoi>=0.5.5->kipoiseq)\n",
      "  Using cached related-0.7.3-py2.py3-none-any.whl.metadata (13 kB)\n",
      "Collecting colorlog (from kipoi>=0.5.5->kipoiseq)\n",
      "  Using cached colorlog-6.9.0-py3-none-any.whl.metadata (10 kB)\n",
      "Collecting jinja2 (from kipoi>=0.5.5->kipoiseq)\n",
      "  Using cached jinja2-3.1.6-py3-none-any.whl.metadata (2.9 kB)\n",
      "Collecting cookiecutter>=1.6.0 (from kipoi>=0.5.5->kipoiseq)\n",
      "  Using cached cookiecutter-2.6.0-py3-none-any.whl.metadata (7.3 kB)\n",
      "Requirement already satisfied: h5py in /Users/sofiasalazar/borzoiTools/lib/python3.10/site-packages (from kipoi>=0.5.5->kipoiseq) (3.10.0)\n",
      "Requirement already satisfied: urllib3>=1.21.1 in /Users/sofiasalazar/borzoiTools/lib/python3.10/site-packages (from kipoi>=0.5.5->kipoiseq) (2.4.0)\n",
      "Collecting tinydb (from kipoi>=0.5.5->kipoiseq)\n",
      "  Using cached tinydb-4.8.2-py3-none-any.whl.metadata (6.7 kB)\n",
      "Collecting deprecation>=2.0.6 (from kipoi>=0.5.5->kipoiseq)\n",
      "  Using cached deprecation-2.1.0-py2.py3-none-any.whl.metadata (4.6 kB)\n",
      "Collecting attrs<=21.4.0 (from kipoi>=0.5.5->kipoiseq)\n",
      "  Using cached attrs-21.4.0-py2.py3-none-any.whl.metadata (9.8 kB)\n",
      "Collecting binaryornot>=0.4.4 (from cookiecutter>=1.6.0->kipoi>=0.5.5->kipoiseq)\n",
      "  Using cached binaryornot-0.4.4-py2.py3-none-any.whl.metadata (6.0 kB)\n",
      "Collecting click<9.0.0,>=7.0 (from cookiecutter>=1.6.0->kipoi>=0.5.5->kipoiseq)\n",
      "  Using cached click-8.1.8-py3-none-any.whl.metadata (2.3 kB)\n",
      "Collecting python-slugify>=4.0.0 (from cookiecutter>=1.6.0->kipoi>=0.5.5->kipoiseq)\n",
      "  Using cached python_slugify-8.0.4-py2.py3-none-any.whl.metadata (8.5 kB)\n",
      "Requirement already satisfied: requests>=2.23.0 in /Users/sofiasalazar/borzoiTools/lib/python3.10/site-packages (from cookiecutter>=1.6.0->kipoi>=0.5.5->kipoiseq) (2.32.3)\n",
      "Collecting arrow (from cookiecutter>=1.6.0->kipoi>=0.5.5->kipoiseq)\n",
      "  Using cached arrow-1.3.0-py3-none-any.whl.metadata (7.5 kB)\n",
      "Collecting rich (from cookiecutter>=1.6.0->kipoi>=0.5.5->kipoiseq)\n",
      "  Using cached rich-14.0.0-py3-none-any.whl.metadata (18 kB)\n",
      "Requirement already satisfied: MarkupSafe>=2.0 in /Users/sofiasalazar/borzoiTools/lib/python3.10/site-packages (from jinja2->kipoi>=0.5.5->kipoiseq) (3.0.2)\n",
      "Collecting chardet>=3.0.2 (from binaryornot>=0.4.4->cookiecutter>=1.6.0->kipoi>=0.5.5->kipoiseq)\n",
      "  Using cached chardet-5.2.0-py3-none-any.whl.metadata (3.4 kB)\n",
      "Requirement already satisfied: packaging in /Users/sofiasalazar/borzoiTools/lib/python3.10/site-packages (from deprecation>=2.0.6->kipoi>=0.5.5->kipoiseq) (25.0)\n",
      "Requirement already satisfied: python-dateutil>=2.8.1 in /Users/sofiasalazar/borzoiTools/lib/python3.10/site-packages (from pandas->kipoiseq) (2.9.0.post0)\n",
      "Requirement already satisfied: pytz>=2020.1 in /Users/sofiasalazar/borzoiTools/lib/python3.10/site-packages (from pandas->kipoiseq) (2025.2)\n",
      "Requirement already satisfied: six>=1.5 in /Users/sofiasalazar/borzoiTools/lib/python3.10/site-packages (from python-dateutil>=2.8.1->pandas->kipoiseq) (1.17.0)\n",
      "Collecting text-unidecode>=1.3 (from python-slugify>=4.0.0->cookiecutter>=1.6.0->kipoi>=0.5.5->kipoiseq)\n",
      "  Using cached text_unidecode-1.3-py2.py3-none-any.whl.metadata (2.4 kB)\n",
      "Collecting future (from related>=0.6.0->kipoi>=0.5.5->kipoiseq)\n",
      "  Using cached future-1.0.0-py3-none-any.whl.metadata (4.0 kB)\n",
      "Requirement already satisfied: charset-normalizer<4,>=2 in /Users/sofiasalazar/borzoiTools/lib/python3.10/site-packages (from requests>=2.23.0->cookiecutter>=1.6.0->kipoi>=0.5.5->kipoiseq) (3.4.2)\n",
      "Requirement already satisfied: idna<4,>=2.5 in /Users/sofiasalazar/borzoiTools/lib/python3.10/site-packages (from requests>=2.23.0->cookiecutter>=1.6.0->kipoi>=0.5.5->kipoiseq) (3.10)\n",
      "Requirement already satisfied: certifi>=2017.4.17 in /Users/sofiasalazar/borzoiTools/lib/python3.10/site-packages (from requests>=2.23.0->cookiecutter>=1.6.0->kipoi>=0.5.5->kipoiseq) (2025.4.26)\n",
      "Collecting types-python-dateutil>=2.8.10 (from arrow->cookiecutter>=1.6.0->kipoi>=0.5.5->kipoiseq)\n",
      "  Using cached types_python_dateutil-2.9.0.20241206-py3-none-any.whl.metadata (2.1 kB)\n",
      "Collecting argh>=0.26.2 (from gffutils->kipoiseq)\n",
      "  Using cached argh-0.31.3-py3-none-any.whl.metadata (7.4 kB)\n",
      "Collecting argcomplete>=1.9.4 (from gffutils->kipoiseq)\n",
      "  Downloading argcomplete-3.6.2-py3-none-any.whl.metadata (16 kB)\n",
      "Collecting simplejson (from gffutils->kipoiseq)\n",
      "  Downloading simplejson-3.20.1-cp310-cp310-macosx_11_0_arm64.whl.metadata (3.3 kB)\n",
      "Requirement already satisfied: setuptools in /Users/sofiasalazar/borzoiTools/lib/python3.10/site-packages (from pyfaidx->kipoiseq) (78.1.0)\n",
      "Requirement already satisfied: importlib-metadata in /Users/sofiasalazar/borzoiTools/lib/python3.10/site-packages (from pyfaidx->kipoiseq) (8.7.0)\n",
      "Requirement already satisfied: zipp>=3.20 in /Users/sofiasalazar/borzoiTools/lib/python3.10/site-packages (from importlib-metadata->pyfaidx->kipoiseq) (3.21.0)\n",
      "Requirement already satisfied: ncls>=0.0.63 in /Users/sofiasalazar/borzoiTools/lib/python3.10/site-packages (from pyranges->kipoiseq) (0.0.68)\n",
      "Requirement already satisfied: tabulate in /Users/sofiasalazar/borzoiTools/lib/python3.10/site-packages (from pyranges->kipoiseq) (0.8.10)\n",
      "Requirement already satisfied: sorted-nearest>=0.0.33 in /Users/sofiasalazar/borzoiTools/lib/python3.10/site-packages (from pyranges->kipoiseq) (0.0.39)\n",
      "Requirement already satisfied: natsort in /Users/sofiasalazar/borzoiTools/lib/python3.10/site-packages (from pyranges->kipoiseq) (7.1.1)\n",
      "Collecting markdown-it-py>=2.2.0 (from rich->cookiecutter>=1.6.0->kipoi>=0.5.5->kipoiseq)\n",
      "  Using cached markdown_it_py-3.0.0-py3-none-any.whl.metadata (6.9 kB)\n",
      "Requirement already satisfied: pygments<3.0.0,>=2.13.0 in /Users/sofiasalazar/borzoiTools/lib/python3.10/site-packages (from rich->cookiecutter>=1.6.0->kipoi>=0.5.5->kipoiseq) (2.19.1)\n",
      "Requirement already satisfied: typing-extensions<5.0,>=4.0.0 in /Users/sofiasalazar/borzoiTools/lib/python3.10/site-packages (from rich->cookiecutter>=1.6.0->kipoi>=0.5.5->kipoiseq) (4.13.2)\n",
      "Collecting mdurl~=0.1 (from markdown-it-py>=2.2.0->rich->cookiecutter>=1.6.0->kipoi>=0.5.5->kipoiseq)\n",
      "  Using cached mdurl-0.1.2-py3-none-any.whl.metadata (1.6 kB)\n",
      "Using cached kipoiseq-0.7.1-py3-none-any.whl (44 kB)\n",
      "Using cached kipoi-0.8.6-py3-none-any.whl (102 kB)\n",
      "Using cached attrs-21.4.0-py2.py3-none-any.whl (60 kB)\n",
      "Using cached cookiecutter-2.6.0-py3-none-any.whl (39 kB)\n",
      "Using cached click-8.1.8-py3-none-any.whl (98 kB)\n",
      "Using cached jinja2-3.1.6-py3-none-any.whl (134 kB)\n",
      "Using cached binaryornot-0.4.4-py2.py3-none-any.whl (9.0 kB)\n",
      "Using cached chardet-5.2.0-py3-none-any.whl (199 kB)\n",
      "Using cached deprecation-2.1.0-py2.py3-none-any.whl (11 kB)\n",
      "Using cached kipoi_conda-0.3.1-py3-none-any.whl (8.7 kB)\n",
      "Using cached kipoi_utils-0.7.7-py3-none-any.whl (30 kB)\n",
      "Using cached python_slugify-8.0.4-py2.py3-none-any.whl (10 kB)\n",
      "Using cached PyYAML-6.0.2-cp310-cp310-macosx_11_0_arm64.whl (171 kB)\n",
      "Using cached related-0.7.3-py2.py3-none-any.whl (16 kB)\n",
      "Using cached text_unidecode-1.3-py2.py3-none-any.whl (78 kB)\n",
      "Using cached arrow-1.3.0-py3-none-any.whl (66 kB)\n",
      "Using cached types_python_dateutil-2.9.0.20241206-py3-none-any.whl (14 kB)\n",
      "Using cached colorlog-6.9.0-py3-none-any.whl (11 kB)\n",
      "Using cached future-1.0.0-py3-none-any.whl (491 kB)\n",
      "Using cached gffutils-0.13-py3-none-any.whl (1.6 MB)\n",
      "Downloading argcomplete-3.6.2-py3-none-any.whl (43 kB)\n",
      "Using cached argh-0.31.3-py3-none-any.whl (44 kB)\n",
      "Using cached rich-14.0.0-py3-none-any.whl (243 kB)\n",
      "Using cached markdown_it_py-3.0.0-py3-none-any.whl (87 kB)\n",
      "Using cached mdurl-0.1.2-py3-none-any.whl (10.0 kB)\n",
      "Downloading simplejson-3.20.1-cp310-cp310-macosx_11_0_arm64.whl (75 kB)\n",
      "Using cached tinydb-4.8.2-py3-none-any.whl (24 kB)\n",
      "Installing collected packages: text-unidecode, types-python-dateutil, tinydb, simplejson, pyyaml, python-slugify, mdurl, jinja2, future, deprecation, colorlog, click, chardet, attrs, argh, argcomplete, related, markdown-it-py, binaryornot, arrow, rich, kipoi-utils, gffutils, kipoi-conda, cookiecutter, kipoi, kipoiseq\n",
      "\u001b[2K   \u001b[90m━━━━━━━━━━━━━━━━━━━━━━━━━━━━━━━━━━━━━━━━\u001b[0m \u001b[32m27/27\u001b[0m [kipoiseq]/27\u001b[0m [gffutils]ot]\n",
      "\u001b[1A\u001b[2KSuccessfully installed argcomplete-3.6.2 argh-0.31.3 arrow-1.3.0 attrs-21.4.0 binaryornot-0.4.4 chardet-5.2.0 click-8.1.8 colorlog-6.9.0 cookiecutter-2.6.0 deprecation-2.1.0 future-1.0.0 gffutils-0.13 jinja2-3.1.6 kipoi-0.8.6 kipoi-conda-0.3.1 kipoi-utils-0.7.7 kipoiseq-0.7.1 markdown-it-py-3.0.0 mdurl-0.1.2 python-slugify-8.0.4 pyyaml-6.0.2 related-0.7.3 rich-14.0.0 simplejson-3.20.1 text-unidecode-1.3 tinydb-4.8.2 types-python-dateutil-2.9.0.20241206\n",
      "Note: you may need to restart the kernel to use updated packages.\n",
      "Requirement already satisfied: h5py in /Users/sofiasalazar/borzoiTools/lib/python3.10/site-packages (3.10.0)\n",
      "Requirement already satisfied: numpy>=1.17.3 in /Users/sofiasalazar/borzoiTools/lib/python3.10/site-packages (from h5py) (1.24.4)\n",
      "Note: you may need to restart the kernel to use updated packages.\n"
     ]
    }
   ],
   "source": [
    "%pip install kipoiseq\n",
    "%pip install h5py"
   ]
  },
  {
   "cell_type": "markdown",
   "id": "59324d2f",
   "metadata": {},
   "source": [
    "**Here I had to restart the kernel to use baskerville**"
   ]
  },
  {
   "cell_type": "markdown",
   "id": "4b988a66",
   "metadata": {},
   "source": [
    "## 3. Download models\n",
    "\n",
    "The borzoi models are each ~1GB (~4GB in total as there are 4 models, each correspond to a cross validation fold from the training process). Further down you'll see that we can choose to predict using the 4 models or only a couple of them."
   ]
  },
  {
   "cell_type": "code",
   "execution_count": 6,
   "id": "7a44cc2f",
   "metadata": {},
   "outputs": [
    {
     "name": "stderr",
     "output_type": "stream",
     "text": [
      "/Users/sofiasalazar/borzoiTools/lib/python3.10/site-packages/IPython/core/magics/osm.py:417: UserWarning: This is now an optional IPython functionality, setting dhist requires you to install the `pickleshare` library.\n",
      "  self.shell.db['dhist'] = compress_dhist(dhist)[-100:]\n"
     ]
    },
    {
     "name": "stdout",
     "output_type": "stream",
     "text": [
      "/Users/sofiasalazar/Desktop/IM_lab/borzoi_folder/borzoi\n",
      "--2025-05-05 11:17:15--  https://storage.googleapis.com/seqnn-share/borzoi/f0/model0_best.h5\n",
      "Resolving storage.googleapis.com (storage.googleapis.com)... 142.250.190.91, 142.250.190.155, 172.217.0.187, ...\n",
      "Connecting to storage.googleapis.com (storage.googleapis.com)|142.250.190.91|:443... connected.\n",
      "HTTP request sent, awaiting response... 200 OK\n",
      "Length: 744112468 (710M) [application/octet-stream]\n",
      "Saving to: ‘examples/saved_models/f3c0/train/model0_best.h5’\n",
      "\n",
      "examples/saved_mode 100%[===================>] 709.64M  7.29MB/s    in 1m 43s  \n",
      "\n",
      "2025-05-05 11:18:57 (6.92 MB/s) - ‘examples/saved_models/f3c0/train/model0_best.h5’ saved [744112468/744112468]\n",
      "\n",
      "--2025-05-05 11:18:57--  https://storage.googleapis.com/seqnn-share/borzoi/f1/model0_best.h5\n",
      "Resolving storage.googleapis.com (storage.googleapis.com)... 142.250.190.91, 142.250.190.155, 172.217.0.187, ...\n",
      "Connecting to storage.googleapis.com (storage.googleapis.com)|142.250.190.91|:443... connected.\n",
      "HTTP request sent, awaiting response... 200 OK\n",
      "Length: 744112468 (710M) [application/octet-stream]\n",
      "Saving to: ‘examples/saved_models/f3c1/train/model0_best.h5’\n",
      "\n",
      "examples/saved_mode 100%[===================>] 709.64M  5.03MB/s    in 95s     \n",
      "\n",
      "2025-05-05 11:20:33 (7.44 MB/s) - ‘examples/saved_models/f3c1/train/model0_best.h5’ saved [744112468/744112468]\n",
      "\n",
      "--2025-05-05 11:20:33--  https://storage.googleapis.com/seqnn-share/borzoi/f2/model0_best.h5\n",
      "Resolving storage.googleapis.com (storage.googleapis.com)... 142.250.190.91, 142.250.190.155, 172.217.0.187, ...\n",
      "Connecting to storage.googleapis.com (storage.googleapis.com)|142.250.190.91|:443... connected.\n",
      "HTTP request sent, awaiting response... 200 OK\n",
      "Length: 744112468 (710M) [application/octet-stream]\n",
      "Saving to: ‘examples/saved_models/f3c2/train/model0_best.h5’\n",
      "\n",
      "examples/saved_mode 100%[===================>] 709.64M  5.20MB/s    in 1m 49s  \n",
      "\n",
      "2025-05-05 11:22:22 (6.54 MB/s) - ‘examples/saved_models/f3c2/train/model0_best.h5’ saved [744112468/744112468]\n",
      "\n",
      "--2025-05-05 11:22:22--  https://storage.googleapis.com/seqnn-share/borzoi/f3/model0_best.h5\n",
      "Resolving storage.googleapis.com (storage.googleapis.com)... 172.217.4.91, 172.217.4.59, 142.250.191.187, ...\n",
      "Connecting to storage.googleapis.com (storage.googleapis.com)|172.217.4.91|:443... connected.\n",
      "HTTP request sent, awaiting response... 200 OK\n",
      "Length: 744112468 (710M) [application/octet-stream]\n",
      "Saving to: ‘examples/saved_models/f3c3/train/model0_best.h5’\n",
      "\n",
      "examples/saved_mode 100%[===================>] 709.64M  9.27MB/s    in 1m 47s  \n",
      "\n",
      "2025-05-05 11:24:09 (6.64 MB/s) - ‘examples/saved_models/f3c3/train/model0_best.h5’ saved [744112468/744112468]\n",
      "\n",
      "--2025-05-05 11:24:09--  https://storage.googleapis.com/seqnn-share/helper/gencode41_basic_nort.gtf.gz\n",
      "Resolving storage.googleapis.com (storage.googleapis.com)... 172.217.4.91, 172.217.4.59, 142.250.191.187, ...\n",
      "Connecting to storage.googleapis.com (storage.googleapis.com)|172.217.4.91|:443... connected.\n",
      "HTTP request sent, awaiting response... 200 OK\n",
      "Length: 30909907 (29M) [application/octet-stream]\n",
      "Saving to: ‘STDOUT’\n",
      "\n",
      "-                   100%[===================>]  29.48M  9.61MB/s    in 3.1s    \n",
      "\n",
      "2025-05-05 11:24:12 (9.61 MB/s) - written to stdout [30909907/30909907]\n",
      "\n",
      "--2025-05-05 11:24:12--  https://storage.googleapis.com/seqnn-share/helper/gencode41_basic_nort_protein.gtf.gz\n",
      "Resolving storage.googleapis.com (storage.googleapis.com)... 172.217.4.91, 172.217.4.59, 142.250.191.187, ...\n",
      "Connecting to storage.googleapis.com (storage.googleapis.com)|172.217.4.91|:443... connected.\n",
      "HTTP request sent, awaiting response... 200 OK\n",
      "Length: 23949234 (23M) [application/x-gzip]\n",
      "Saving to: ‘STDOUT’\n",
      "\n",
      "-                   100%[===================>]  22.84M  7.77MB/s    in 2.9s    \n",
      "\n",
      "2025-05-05 11:24:15 (7.77 MB/s) - written to stdout [23949234/23949234]\n",
      "\n",
      "--2025-05-05 11:24:15--  https://storage.googleapis.com/seqnn-share/helper/gencode41_basic_protein.gtf.gz\n",
      "Resolving storage.googleapis.com (storage.googleapis.com)... 172.217.4.91, 172.217.4.59, 142.250.191.187, ...\n",
      "Connecting to storage.googleapis.com (storage.googleapis.com)|172.217.4.91|:443... connected.\n",
      "HTTP request sent, awaiting response... 200 OK\n",
      "Length: 24113047 (23M) [application/x-gzip]\n",
      "Saving to: ‘STDOUT’\n",
      "\n",
      "-                   100%[===================>]  23.00M  7.08MB/s    in 3.2s    \n",
      "\n",
      "2025-05-05 11:24:19 (7.09 MB/s) - written to stdout [24113047/24113047]\n",
      "\n",
      "--2025-05-05 11:24:19--  https://storage.googleapis.com/seqnn-share/helper/gencode41_basic_tss2.bed.gz\n",
      "Resolving storage.googleapis.com (storage.googleapis.com)... 172.217.4.91, 172.217.4.59, 142.250.191.187, ...\n",
      "Connecting to storage.googleapis.com (storage.googleapis.com)|172.217.4.91|:443... connected.\n",
      "HTTP request sent, awaiting response... 200 OK\n",
      "Length: 1925276 (1.8M) [application/x-gzip]\n",
      "Saving to: ‘STDOUT’\n",
      "\n",
      "-                   100%[===================>]   1.84M  10.4MB/s    in 0.2s    \n",
      "\n",
      "2025-05-05 11:24:19 (10.4 MB/s) - written to stdout [1925276/1925276]\n",
      "\n",
      "--2025-05-05 11:24:19--  https://storage.googleapis.com/seqnn-share/helper/gencode41_basic_protein_splice.csv.gz\n",
      "Resolving storage.googleapis.com (storage.googleapis.com)... 172.217.4.91, 172.217.4.59, 142.250.191.187, ...\n",
      "Connecting to storage.googleapis.com (storage.googleapis.com)|172.217.4.91|:443... connected.\n",
      "HTTP request sent, awaiting response... 200 OK\n",
      "Length: 3729563 (3.6M) [text/csv]\n",
      "Saving to: ‘examples/hg38/genes/gencode41/gencode41_basic_protein_splice.csv.gz’\n",
      "\n",
      "examples/hg38/genes 100%[===================>]   3.56M  10.5MB/s    in 0.3s    \n",
      "\n",
      "2025-05-05 11:24:20 (10.5 MB/s) - ‘examples/hg38/genes/gencode41/gencode41_basic_protein_splice.csv.gz’ saved [3729563/3729563]\n",
      "\n",
      "--2025-05-05 11:24:20--  https://storage.googleapis.com/seqnn-share/helper/gencode41_basic_protein_splice.gff.gz\n",
      "Resolving storage.googleapis.com (storage.googleapis.com)... 172.217.4.91, 172.217.4.59, 142.250.191.187, ...\n",
      "Connecting to storage.googleapis.com (storage.googleapis.com)|172.217.4.91|:443... connected.\n",
      "HTTP request sent, awaiting response... 200 OK\n",
      "Length: 12496136 (12M) [application/x-gzip]\n",
      "Saving to: ‘STDOUT’\n",
      "\n",
      "-                   100%[===================>]  11.92M  9.36MB/s    in 1.3s    \n",
      "\n",
      "2025-05-05 11:24:21 (9.36 MB/s) - written to stdout [12496136/12496136]\n",
      "\n",
      "--2025-05-05 11:24:21--  https://storage.googleapis.com/seqnn-share/helper/polyadb_human_v3.csv.gz\n",
      "Resolving storage.googleapis.com (storage.googleapis.com)... 172.217.4.91, 172.217.4.59, 142.250.191.187, ...\n",
      "Connecting to storage.googleapis.com (storage.googleapis.com)|172.217.4.91|:443... connected.\n",
      "HTTP request sent, awaiting response... 200 OK\n",
      "Length: 5889770 (5.6M) [text/csv]\n",
      "Saving to: ‘examples/hg38/genes/polyadb/polyadb_human_v3.csv.gz’\n",
      "\n",
      "examples/hg38/genes 100%[===================>]   5.62M  8.76MB/s    in 0.6s    \n",
      "\n",
      "2025-05-05 11:24:22 (8.76 MB/s) - ‘examples/hg38/genes/polyadb/polyadb_human_v3.csv.gz’ saved [5889770/5889770]\n",
      "\n",
      "--2025-05-05 11:24:22--  http://hgdownload.cse.ucsc.edu/goldenPath/hg38/bigZips/hg38.fa.gz\n",
      "Resolving hgdownload.cse.ucsc.edu (hgdownload.cse.ucsc.edu)... 128.114.119.163\n",
      "Connecting to hgdownload.cse.ucsc.edu (hgdownload.cse.ucsc.edu)|128.114.119.163|:80... connected.\n",
      "HTTP request sent, awaiting response... 200 OK\n",
      "Length: 983659424 (938M) [application/x-gzip]\n",
      "Saving to: ‘STDOUT’\n",
      "\n",
      "-                    84%[===============>    ] 792.18M  --.-KB/s    in 53m 37s \n",
      "\n",
      "2025-05-05 12:17:59 (252 KB/s) - Read error at byte 830660782/983659424 (Operation timed out). Retrying.\n",
      "\n",
      "--2025-05-05 12:18:00--  (try: 2)  http://hgdownload.cse.ucsc.edu/goldenPath/hg38/bigZips/hg38.fa.gz\n",
      "Connecting to hgdownload.cse.ucsc.edu (hgdownload.cse.ucsc.edu)|128.114.119.163|:80... connected.\n",
      "HTTP request sent, awaiting response... 206 Partial Content\n",
      "Length: 983659424 (938M), 152998642 (146M) remaining [application/x-gzip]\n",
      "Saving to: ‘STDOUT’\n",
      "\n",
      "-                    95%[++++++++++++++++==> ] 900.48M   243KB/s    in 4m 50s  \n",
      "\n",
      "2025-05-05 12:27:40 (382 KB/s) - Read error at byte 944223569/983659424 (Connection reset by peer). Retrying.\n",
      "\n",
      "--2025-05-05 12:27:42--  (try: 3)  http://hgdownload.cse.ucsc.edu/goldenPath/hg38/bigZips/hg38.fa.gz\n",
      "Connecting to hgdownload.cse.ucsc.edu (hgdownload.cse.ucsc.edu)|128.114.119.163|:80... connected.\n",
      "HTTP request sent, awaiting response... 206 Partial Content\n",
      "Length: 983659424 (938M), 39435855 (38M) remaining [application/x-gzip]\n",
      "Saving to: ‘STDOUT’\n",
      "\n",
      "-                   100%[+++++++++++++++++++>] 938.09M   298KB/s    in 97s     \n",
      "\n",
      "2025-05-05 12:29:19 (396 KB/s) - written to stdout [983659424/983659424]\n",
      "\n"
     ]
    }
   ],
   "source": [
    "%cd /Users/sofiasalazar/Desktop/IM_lab/borzoi_folder/borzoi\n",
    "! ./download_models.sh "
   ]
  },
  {
   "cell_type": "markdown",
   "id": "b450a8ce",
   "metadata": {},
   "source": [
    "## 4. Set up borzoi and helper functions\n",
    "\n",
    "The previous steps are run only once, afterwards, we can set up the borzoi functions as well as other utilities to extract the reference sequence and mutate it."
   ]
  },
  {
   "cell_type": "code",
   "execution_count": 1,
   "id": "0f3c45c0",
   "metadata": {},
   "outputs": [],
   "source": [
    "import os\n",
    "import h5py\n",
    "import numpy as np\n",
    "import pandas as pd\n",
    "import tensorflow as tf\n",
    "import baskerville\n",
    "from baskerville import seqnn\n",
    "from baskerville import gene as bgene\n",
    "from baskerville import dna\n",
    "import json\n",
    "import kipoiseq\n",
    "import pyfaidx"
   ]
  },
  {
   "cell_type": "code",
   "execution_count": 2,
   "id": "01753c08",
   "metadata": {},
   "outputs": [
    {
     "data": {
      "text/plain": [
       "[PhysicalDevice(name='/physical_device:GPU:0', device_type='GPU')]"
      ]
     },
     "execution_count": 2,
     "metadata": {},
     "output_type": "execute_result"
    }
   ],
   "source": [
    "gpus = tf.config.experimental.list_physical_devices('GPU')\n",
    "gpus"
   ]
  },
  {
   "cell_type": "code",
   "execution_count": 7,
   "id": "181b9176",
   "metadata": {},
   "outputs": [],
   "source": [
    "DEVICE = \"/GPU:0\""
   ]
  },
  {
   "cell_type": "markdown",
   "id": "d28480d0",
   "metadata": {},
   "source": [
    "Change the following paths to your personal paths"
   ]
  },
  {
   "cell_type": "code",
   "execution_count": 8,
   "id": "ff765d8c",
   "metadata": {},
   "outputs": [],
   "source": [
    "BORZOI_PATH = \"/Users/sofiasalazar/Desktop/IM_lab/borzoi_folder/borzoi\"\n",
    "models_path = os.path.join(BORZOI_PATH, \"examples/saved_models\" )\n",
    "fasta_file = \"/Users/sofiasalazar/Library/CloudStorage/Box-Box/imlab-data/Reference-Data/ref_sequences/hg38/Homo_sapiens_assembly38.fasta\"\n",
    "params_file = os.path.join(BORZOI_PATH, \"examples/params_pred.json\")\n",
    "targets_file = os.path.join(BORZOI_PATH, \"examples/targets_human.txt\")"
   ]
  },
  {
   "cell_type": "markdown",
   "id": "c882762f",
   "metadata": {},
   "source": [
    "The following classes will help us extract the reference genome sequence, mutate it and one hot encode it."
   ]
  },
  {
   "cell_type": "code",
   "execution_count": 20,
   "id": "81408721",
   "metadata": {},
   "outputs": [],
   "source": [
    "class FastaStringExtractor:\n",
    "\n",
    "    def __init__(self, fasta_file):\n",
    "        self.fasta = pyfaidx.Fasta(fasta_file)\n",
    "        self._chromosome_sizes = {k: len(v) for k, v in self.fasta.items()}\n",
    "    #import pd.Interval as Interval\n",
    "    def extract(self, interval: kipoiseq.Interval, snp_position = None, snp_base=None, **kwargs) -> str:\n",
    "        # Truncate interval if it extends beyond the chromosome lengths.\n",
    "        chromosome_length = self._chromosome_sizes[interval.chrom]\n",
    "        trimmed_interval = kipoiseq.Interval(interval.chrom,\n",
    "                                    max(interval.start, 0),\n",
    "                                    min(interval.end, chromosome_length),\n",
    "                                    )\n",
    "        \n",
    "        # pyfaidx wants a 1-based interval\n",
    "        sequence = str(self.fasta.get_seq(trimmed_interval.chrom,\n",
    "                                          trimmed_interval.start + 1,\n",
    "                                          trimmed_interval.stop).seq).upper()\n",
    "        \n",
    "        # Apply SNP modification if specified\n",
    "        if snp_position and snp_base:\n",
    "            pos = snp_position - trimmed_interval.start - 1\n",
    "            if 0 <= pos < len(sequence):\n",
    "                print(sequence[pos-1:pos+2])\n",
    "                sequence = sequence[:pos] + snp_base + sequence[pos + 1:]\n",
    "                print(sequence[pos-1:pos+2])\n",
    "                \n",
    "        # Fill truncated values with N's.\n",
    "        pad_upstream = 'N' * max(-interval.start, 0)\n",
    "        pad_downstream = 'N' * max(interval.end - chromosome_length, 0)\n",
    "        return pad_upstream + sequence + pad_downstream\n",
    "\n",
    "    def close(self):\n",
    "        return self.fasta.close()\n",
    "    \n",
    "def one_hot_encode(sequence):\n",
    "  return kipoiseq.transforms.functional.one_hot_dna(sequence).astype(np.float32)\n"
   ]
  },
  {
   "cell_type": "markdown",
   "id": "ef75e0d0",
   "metadata": {},
   "source": [
    "Borzoi prediction functions\n",
    "\n",
    "**Here we define how many model folds we want to use for the prediction**"
   ]
  },
  {
   "cell_type": "code",
   "execution_count": 10,
   "id": "146d4155",
   "metadata": {},
   "outputs": [],
   "source": [
    "n_reps = 1"
   ]
  },
  {
   "cell_type": "code",
   "execution_count": 11,
   "id": "09d3fe8e",
   "metadata": {},
   "outputs": [
    {
     "name": "stderr",
     "output_type": "stream",
     "text": [
      "2025-05-05 13:09:41.154901: I metal_plugin/src/device/metal_device.cc:1154] Metal device set to: Apple M1 Pro\n",
      "2025-05-05 13:09:41.154939: I metal_plugin/src/device/metal_device.cc:296] systemMemory: 32.00 GB\n",
      "2025-05-05 13:09:41.154952: I metal_plugin/src/device/metal_device.cc:313] maxCacheSize: 10.67 GB\n",
      "2025-05-05 13:09:41.155004: I tensorflow/core/common_runtime/pluggable_device/pluggable_device_factory.cc:306] Could not identify NUMA node of platform GPU ID 0, defaulting to 0. Your kernel may not have been built with NUMA support.\n",
      "2025-05-05 13:09:41.155040: I tensorflow/core/common_runtime/pluggable_device/pluggable_device_factory.cc:272] Created TensorFlow device (/job:localhost/replica:0/task:0/device:GPU:0 with 0 MB memory) -> physical PluggableDevice (device: 0, name: METAL, pci bus id: <undefined>)\n"
     ]
    }
   ],
   "source": [
    "seq_len = 524288\n",
    "rc = True         #Average across reverse-complement prediction\n",
    "\n",
    "with open(params_file) as params_open :\n",
    "    \n",
    "    params = json.load(params_open)\n",
    "    \n",
    "    params_model = params['model']\n",
    "    params_train = params['train']\n",
    "\n",
    "params_model['trunk'][-2]['cropping'] = 0\n",
    "\n",
    "\n",
    "targets_df = pd.read_csv(targets_file, index_col=0, sep='\\t')\n",
    "target_index = targets_df.index \n",
    "\n",
    "#Create local index of strand_pair (relative to sliced targets)\n",
    "if rc :\n",
    "    strand_pair = targets_df.strand_pair\n",
    "    \n",
    "    target_slice_dict = {ix : i for i, ix in enumerate(target_index.values.tolist())}\n",
    "    slice_pair = np.array([\n",
    "        target_slice_dict[ix] if ix in target_slice_dict else ix for ix in strand_pair.values.tolist()\n",
    "    ], dtype='int32')\n",
    "\n",
    "models = []\n",
    "for rep_ix in range(n_reps) :\n",
    "    model_file = os.path.join(BORZOI_PATH, f\"examples/saved_models/f3c{rep_ix}/train/model0_best.h5\")\n",
    "    seqnn_model = seqnn.SeqNN(params_model)\n",
    "    seqnn_model.restore(model_file, 0)\n",
    "    seqnn_model.build_slice(target_index)\n",
    "    if rc :\n",
    "        seqnn_model.strand_pair.append(slice_pair)\n",
    "    seqnn_model.build_ensemble(rc, [0])\n",
    "    \n",
    "    models.append(seqnn_model)\n",
    "\n",
    "def predict_tracks(models, sequence_one_hot):\n",
    "\n",
    "    predicted_tracks = []\n",
    "    for fold_ix in range(len(models)):\n",
    "\n",
    "        yh = models[fold_ix](sequence_one_hot[None, ...])[:, None, ...].astype(\n",
    "            \"float16\"\n",
    "        )\n",
    "\n",
    "        predicted_tracks.append(yh)\n",
    "\n",
    "    predicted_tracks = np.concatenate(predicted_tracks, axis=1)\n",
    "\n",
    "    return predicted_tracks\n",
    "\n",
    "def make_prediction(sequence):\n",
    "    with tf.device(DEVICE):\n",
    "        y_wt = predict_tracks(models, sequence)\n",
    "        return y_wt"
   ]
  },
  {
   "cell_type": "markdown",
   "id": "42b4b82e",
   "metadata": {},
   "source": [
    "## 5. Predict for a 3'aQTL\n",
    "\n",
    "In [this paper](https://www.nature.com/articles/s41588-021-00864-5), 3' alternative polyadenylation QTLs (1'aQTLs) where identified using gtex individuals. They were stored [here](https://doi.org/10.7303/syn22236281). \n",
    "\n",
    "For the purpose of this example, we will focus on the variant **rs10954213**: chr7_128949373_G_A (hg38), which is one of the whole blood 3'aQTLs that was reported on the paper (Figure 1b)"
   ]
  },
  {
   "cell_type": "code",
   "execution_count": 21,
   "id": "52345c66",
   "metadata": {},
   "outputs": [],
   "source": [
    "fasta_extractor = FastaStringExtractor(fasta_file)"
   ]
  },
  {
   "cell_type": "code",
   "execution_count": 13,
   "id": "17c31bf0",
   "metadata": {},
   "outputs": [],
   "source": [
    "sequence_interval = kipoiseq.Interval(\"chr7\", 128949373, 128949374)"
   ]
  },
  {
   "cell_type": "code",
   "execution_count": 22,
   "id": "edb49592",
   "metadata": {},
   "outputs": [],
   "source": [
    "reference_one_hot = one_hot_encode(fasta_extractor.extract(sequence_interval.resize(seq_len)))"
   ]
  },
  {
   "cell_type": "markdown",
   "id": "a1932146",
   "metadata": {},
   "source": [
    "Here the `snp_position` argument of the `extract` function refers to the position in the sequence where we want to introduce the mutation. `snp_base` is the nucleotide which will replace the reference nucleotide.\n",
    "\n",
    "Note that in the output, the reference and mutated nucleotides are printed in the middle of the upstream and downstream nucleotides."
   ]
  },
  {
   "cell_type": "code",
   "execution_count": 23,
   "id": "b86e43d0",
   "metadata": {},
   "outputs": [
    {
     "name": "stdout",
     "output_type": "stream",
     "text": [
      "TGA\n",
      "TAA\n"
     ]
    }
   ],
   "source": [
    "mutated_one_hot = one_hot_encode(fasta_extractor.extract(sequence_interval.resize(seq_len), snp_position=128949373, snp_base='A'))"
   ]
  },
  {
   "cell_type": "code",
   "execution_count": 24,
   "id": "888f3c91",
   "metadata": {},
   "outputs": [],
   "source": [
    "reference_one_hot = reference_one_hot.astype(\"float32\")\n",
    "mutated_one_hot = mutated_one_hot.astype(\"float32\")"
   ]
  },
  {
   "cell_type": "code",
   "execution_count": 29,
   "id": "4f52d91f",
   "metadata": {},
   "outputs": [],
   "source": [
    "pred_reference = make_prediction(reference_one_hot)"
   ]
  },
  {
   "cell_type": "code",
   "execution_count": 30,
   "id": "d4868b97",
   "metadata": {},
   "outputs": [
    {
     "data": {
      "text/plain": [
       "(1, 1, 16384, 7611)"
      ]
     },
     "execution_count": 30,
     "metadata": {},
     "output_type": "execute_result"
    }
   ],
   "source": [
    "pred_reference.shape"
   ]
  },
  {
   "cell_type": "markdown",
   "id": "fa632283",
   "metadata": {},
   "source": [
    "We remove the 0 dimension and average across the 1 dimension (folds)"
   ]
  },
  {
   "cell_type": "code",
   "execution_count": 31,
   "id": "ffc6993d",
   "metadata": {},
   "outputs": [
    {
     "data": {
      "text/plain": [
       "(16384, 7611)"
      ]
     },
     "execution_count": 31,
     "metadata": {},
     "output_type": "execute_result"
    }
   ],
   "source": [
    "pred_reference = pred_reference.squeeze(0).mean(axis = 0)\n",
    "pred_reference.shape"
   ]
  },
  {
   "cell_type": "markdown",
   "id": "8f988f00",
   "metadata": {},
   "source": [
    "Then we keep only the whole blood RNA-seq prediction [see track description here](https://github.com/calico/borzoi/blob/main/examples/targets_human.txt)"
   ]
  },
  {
   "cell_type": "code",
   "execution_count": 32,
   "id": "f5909f71",
   "metadata": {},
   "outputs": [
    {
     "data": {
      "text/plain": [
       "(16384, 3)"
      ]
     },
     "execution_count": 32,
     "metadata": {},
     "output_type": "execute_result"
    }
   ],
   "source": [
    "pred_reference = pred_reference[:, 7531:7534]\n",
    "pred_reference.shape"
   ]
  },
  {
   "cell_type": "markdown",
   "id": "17982a93",
   "metadata": {},
   "source": [
    "Average across the RNA blood tracks"
   ]
  },
  {
   "cell_type": "code",
   "execution_count": null,
   "id": "ea0441b2",
   "metadata": {},
   "outputs": [],
   "source": [
    "pred_reference = pred_reference.mean(axis = 1 )"
   ]
  },
  {
   "cell_type": "code",
   "execution_count": 34,
   "id": "1d01d0c8",
   "metadata": {},
   "outputs": [
    {
     "data": {
      "text/plain": [
       "(16384,)"
      ]
     },
     "execution_count": 34,
     "metadata": {},
     "output_type": "execute_result"
    }
   ],
   "source": [
    "pred_reference.shape"
   ]
  },
  {
   "cell_type": "markdown",
   "id": "0f6dc6fc",
   "metadata": {},
   "source": [
    "We do the same for the mutated sequence"
   ]
  },
  {
   "cell_type": "code",
   "execution_count": 35,
   "id": "53071411",
   "metadata": {},
   "outputs": [],
   "source": [
    "pred_mutated = make_prediction(mutated_one_hot)\n",
    "pred_mutated = pred_mutated.squeeze(0).mean(axis = 0)\n",
    "pred_mutated = pred_mutated[:, 7531:7534]\n",
    "pred_mutated = pred_mutated.mean(axis = 1 )"
   ]
  },
  {
   "cell_type": "code",
   "execution_count": 36,
   "id": "5a046eba",
   "metadata": {},
   "outputs": [
    {
     "data": {
      "text/plain": [
       "(16384,)"
      ]
     },
     "execution_count": 36,
     "metadata": {},
     "output_type": "execute_result"
    }
   ],
   "source": [
    "pred_mutated.shape"
   ]
  },
  {
   "cell_type": "code",
   "execution_count": 38,
   "id": "bd4ef791",
   "metadata": {},
   "outputs": [],
   "source": [
    "import matplotlib.pyplot as plt\n",
    "import seaborn as sns"
   ]
  },
  {
   "cell_type": "code",
   "execution_count": null,
   "id": "ebfc57a6",
   "metadata": {},
   "outputs": [],
   "source": [
    "def plot_tracks_nested(nested_tracks, interval, highlight_position = None, alpha = 0.4, height=1.5):\n",
    "    \"\"\"\n",
    "    nested_tracks: dict of dicts\n",
    "        Outer keys: data sources (e.g., replicates or conditions)\n",
    "        Inner keys: track names to plot (these become the rows)\n",
    "    interval: a kipoiseq interval with .start and .end\n",
    "    \"\"\"\n",
    "    all_inner_keys = set()\n",
    "    for subdict in nested_tracks.values():\n",
    "        all_inner_keys.update(subdict.keys())\n",
    "    all_inner_keys = sorted(all_inner_keys)\n",
    "\n",
    "    n_tracks = len(all_inner_keys)\n",
    "    fig, axes = plt.subplots(n_tracks, 1, figsize=(20, height * n_tracks), sharex=True)\n",
    "\n",
    "    if n_tracks == 1:\n",
    "        axes = [axes]\n",
    "\n",
    "    for ax, inner_key in zip(axes, all_inner_keys):\n",
    "        for outer_key, subdict in nested_tracks.items():\n",
    "            if inner_key in subdict:\n",
    "                y = subdict[inner_key]\n",
    "                x = np.linspace(interval.start, interval.end, num=len(y))\n",
    "                ax.fill_between(x, y, alpha=alpha, label=outer_key)\n",
    "        ax.set_title(inner_key, fontsize=11)\n",
    "        ax.legend(loc='upper right', fontsize=8, frameon=False)\n",
    "        sns.despine(ax=ax, top=True, right=True, bottom=True)\n",
    "        if highlight_position is not None and interval.start <= highlight_position <= interval.end:\n",
    "            ax.axvline(x=highlight_position, color='black', linestyle='--', linewidth=1)\n",
    "\n",
    "    axes[-1].set_xlabel(str(interval))\n",
    "    plt.tight_layout()\n",
    "    plt.show()"
   ]
  },
  {
   "cell_type": "markdown",
   "id": "9c5bebde",
   "metadata": {},
   "source": [
    "Since we are only interested in the 3'UTR region, we will center our plot on the 64 middle bins (for borzoi, each bin is 32 base pair-long). Remember that the prediction is centered at the 3'aQTL (dashed line on the plot). Indeed the coverage difference between the reference and alternative sequences is evident."
   ]
  },
  {
   "cell_type": "code",
   "execution_count": 45,
   "id": "aa4cff97",
   "metadata": {},
   "outputs": [
    {
     "data": {
      "text/plain": [
       "(64,)"
      ]
     },
     "execution_count": 45,
     "metadata": {},
     "output_type": "execute_result"
    }
   ],
   "source": [
    "pred_reference[8160:8224, ].shape"
   ]
  },
  {
   "cell_type": "code",
   "execution_count": 50,
   "id": "2065b9ad",
   "metadata": {},
   "outputs": [
    {
     "data": {
      "image/png": "[encoded data removed]",
      "text/plain": [
       "<Figure size 2000x150 with 1 Axes>"
      ]
     },
     "metadata": {},
     "output_type": "display_data"
    }
   ],
   "source": [
    "tracks = {'Reference': {'Whole Blood RNA-seq': pred_reference[8160:8224, ]},\n",
    "          'Mutated': {'Whole Blood RNA-seq': pred_mutated[8160:8224, ]}}\n",
    "plot_tracks_nested(tracks, sequence_interval.resize(64*32), highlight_position=sequence_interval.start)"
   ]
  }
 ],
 "metadata": {
  "kernelspec": {
   "display_name": "borzoiTools",
   "language": "python",
   "name": "python3"
  },
  "language_info": {
   "codemirror_mode": {
    "name": "ipython",
    "version": 3
   },
   "file_extension": ".py",
   "mimetype": "text/x-python",
   "name": "python",
   "nbconvert_exporter": "python",
   "pygments_lexer": "ipython3",
   "version": "3.10.17"
  }
 },
 "nbformat": 4,
 "nbformat_minor": 5
}
