{
 "cells": [
  {
   "cell_type": "markdown",
   "id": "3875b55e",
   "metadata": {},
   "source": [
    "---\n",
    "title: Predicting alternative polyadenylation with Borzoi\n",
    "date: 2025-05-05\n",
    "author: Sofia Salazar\n",
    "categories:\n",
    "    - notebook\n",
    "    - gene46100\n",
    "---"
   ]
  },
  {
   "cell_type": "markdown",
   "id": "801726ed",
   "metadata": {},
   "source": [
    "## Predicting alternative polyadenylation with Borzoi\n",
    "\n",
    "### Overview\n",
    "\n",
    "[Borzoi](https://www.nature.com/articles/s41588-024-02053-6) is a deep learning model that, similarily to Enformer: \n",
    "\n",
    "- Takes DNA sequences as input (one-hot encoded) \n",
    "\n",
    "- Uses a convolutional neural network architecture and transformer layers \n",
    "\n",
    "- Predicts multiple genomic features simultaneously\n",
    "\n",
    "However, Borzoi was rained to predict RNA-seq coverage as well, which makes it useful for the following aplication: predicting 3'UTR alternative polyadenylation (APA).\n",
    "\n",
    "3'UTR APA is a post-transcriptional regulatory mechanism that allows transcripts from a gene to have different lengths due to differential polyA signal usage leading to different lengths of 3'UTR regions. Variants on the 3'UTR sequence that alter the length of the region are refered to 3'aQTLs [read more here](https://www.nature.com/articles/s41588-021-00864-5).\n",
    "\n",
    "### Objective\n",
    "\n",
    "In this notebook we will learn how to use borzoi to predict RNA-seq coverage around one 3'aQTL by predicting on both the reference and the alternative sequence. We will plot the differences on RNA-seq prediction at the 3'UTR for the whole blood borzoi tracks."
   ]
  },
  {
   "cell_type": "markdown",
   "id": "6014e684",
   "metadata": {},
   "source": [
    "## 1. Set up a borzoi-adequate environment\n",
    "\n",
    "The requirements for running borzoi are outlined [here](https://github.com/calico/borzoi/). The most important dependencies are **python ==3.10** and **tensorflow==2.15.x**.\n",
    "\n",
    "I had to install python 3.10 and found that working with a `venv` worked as of may 5th 2025.\n",
    "\n",
    "I followed the instructions to use the GPU of my macbook [here](https://developer.apple.com/metal/tensorflow-plugin/)"
   ]
  },
  {
   "cell_type": "markdown",
   "id": "61cf80fb",
   "metadata": {},
   "source": [
    "```{bash}\n",
    "brew install python@3.10\n",
    "python3.10 -m venv ~/borzoiTools\n",
    "source ~/borzoiTools/bin/activate\n",
    "python -m pip install -U pip\n",
    "python -m pip install ipykernel\n",
    "python3 -m ipykernel install --user --name=borzoiTools\n",
    "python3 -m pip install tensorflow==2.15\n",
    "python3 -m pip install tensorflow-metal\n",
    "```"
   ]
  },
  {
   "cell_type": "markdown",
   "id": "1a48d982",
   "metadata": {},
   "source": [
    "To verify python and tensforflow versions, run the following chunks:"
   ]
  },
  {
   "cell_type": "code",
   "execution_count": 1,
   "id": "b0d1b574",
   "metadata": {},
   "outputs": [],
   "source": [
    "import tensorflow as tf"
   ]
  },
  {
   "cell_type": "code",
   "execution_count": 2,
   "id": "0f48df34",
   "metadata": {},
   "outputs": [
    {
     "data": {
      "text/plain": [
       "[PhysicalDevice(name='/physical_device:GPU:0', device_type='GPU')]"
      ]
     },
     "execution_count": 2,
     "metadata": {},
     "output_type": "execute_result"
    }
   ],
   "source": [
    "gpus = tf.config.experimental.list_physical_devices('GPU')\n",
    "gpus"
   ]
  },
  {
   "cell_type": "code",
   "execution_count": 3,
   "id": "9810fd30",
   "metadata": {},
   "outputs": [
    {
     "name": "stdout",
     "output_type": "stream",
     "text": [
      "PhysicalDevice(name='/physical_device:GPU:0', device_type='GPU')\n",
      "TensorFlow is using the GPU.\n"
     ]
    }
   ],
   "source": [
    "if gpus:\n",
    "    try:\n",
    "        # Currently, memory growth needs to be the same across GPUs\n",
    "        for gpu in gpus:\n",
    "            print(gpu)\n",
    "            tf.config.experimental.set_memory_growth(gpu, True)\n",
    "        print(\"TensorFlow is using the GPU.\")\n",
    "    except RuntimeError as e:\n",
    "        print(e)\n",
    "else:\n",
    "    print(\"TensorFlow is not using the GPU. Check your TensorFlow installation.\")\n"
   ]
  },
  {
   "cell_type": "code",
   "execution_count": 4,
   "id": "f5683c0c",
   "metadata": {},
   "outputs": [
    {
     "name": "stdout",
     "output_type": "stream",
     "text": [
      "3.10.17 (main, Apr  8 2025, 12:10:59) [Clang 16.0.0 (clang-1600.0.26.6)]\n"
     ]
    }
   ],
   "source": [
    "import sys\n",
    "print(sys.version)"
   ]
  },
  {
   "cell_type": "code",
   "execution_count": 5,
   "id": "40d86aeb",
   "metadata": {},
   "outputs": [
    {
     "name": "stdout",
     "output_type": "stream",
     "text": [
      "2.15.0\n"
     ]
    }
   ],
   "source": [
    "print(tf.__version__)"
   ]
  },
  {
   "cell_type": "markdown",
   "id": "4b253e9c",
   "metadata": {},
   "source": [
    "## 2. Install borzoi and dependencies\n",
    "\n",
    "Borzoi depends on the baskerville software, run the following chunks to install both on your environment:"
   ]
  },
  {
   "cell_type": "code",
   "execution_count": 6,
   "id": "54959645",
   "metadata": {},
   "outputs": [
    {
     "name": "stdout",
     "output_type": "stream",
     "text": [
      "/Users/sofiasalazar/Desktop/IM_lab/borzoi_folder\n"
     ]
    },
    {
     "name": "stderr",
     "output_type": "stream",
     "text": [
      "/Users/sofiasalazar/borzoiTools/lib/python3.10/site-packages/IPython/core/magics/osm.py:417: UserWarning: This is now an optional IPython functionality, setting dhist requires you to install the `pickleshare` library.\n",
      "  self.shell.db['dhist'] = compress_dhist(dhist)[-100:]\n"
     ]
    }
   ],
   "source": [
    "%cd /Users/sofiasalazar/Desktop/IM_lab/borzoi_folder"
   ]
  },
  {
   "cell_type": "code",
   "execution_count": null,
   "id": "9df1d9d9",
   "metadata": {},
   "outputs": [],
   "source": [
    "!git clone https://github.com/calico/baskerville.git"
   ]
  },
  {
   "cell_type": "code",
   "execution_count": null,
   "id": "00e446ed",
   "metadata": {},
   "outputs": [],
   "source": [
    "%cd baskerville\n",
    "%pip install -e ."
   ]
  },
  {
   "cell_type": "code",
   "execution_count": null,
   "id": "05073560",
   "metadata": {},
   "outputs": [],
   "source": [
    "%cd ..\n",
    "!git clone https://github.com/calico/borzoi.git"
   ]
  },
  {
   "cell_type": "code",
   "execution_count": null,
   "id": "43318e15",
   "metadata": {},
   "outputs": [],
   "source": [
    "%cd borzoi\n",
    "%pip install -e ."
   ]
  },
  {
   "cell_type": "markdown",
   "id": "ac364198",
   "metadata": {},
   "source": [
    "Then I installed other libraries that we will be using as well"
   ]
  },
  {
   "cell_type": "code",
   "execution_count": null,
   "id": "7c4c6854",
   "metadata": {},
   "outputs": [],
   "source": [
    "%pip install kipoiseq\n",
    "%pip install h5py"
   ]
  },
  {
   "cell_type": "markdown",
   "id": "59324d2f",
   "metadata": {},
   "source": [
    "**Here I had to restart the kernel to use baskerville**"
   ]
  },
  {
   "cell_type": "markdown",
   "id": "4b988a66",
   "metadata": {},
   "source": [
    "## 3. Download models\n",
    "\n",
    "The borzoi models are each ~1GB (~4GB in total as there are 4 models, each correspond to a cross validation fold from the training process). Further down you'll see that we can choose to predict using the 4 models or only a couple of them."
   ]
  },
  {
   "cell_type": "code",
   "execution_count": null,
   "id": "7a44cc2f",
   "metadata": {},
   "outputs": [],
   "source": [
    "%cd /Users/sofiasalazar/Desktop/IM_lab/borzoi_folder/borzoi\n",
    "! ./download_models.sh "
   ]
  },
  {
   "cell_type": "markdown",
   "id": "b450a8ce",
   "metadata": {},
   "source": [
    "## 4. Set up borzoi and helper functions\n",
    "\n",
    "The previous steps are run only once, afterwards, we can set up the borzoi functions as well as other utilities to extract the reference sequence and mutate it."
   ]
  },
  {
   "cell_type": "code",
   "execution_count": 1,
   "id": "0f3c45c0",
   "metadata": {},
   "outputs": [],
   "source": [
    "import os\n",
    "import h5py\n",
    "import numpy as np\n",
    "import pandas as pd\n",
    "import tensorflow as tf\n",
    "import baskerville\n",
    "from baskerville import seqnn\n",
    "from baskerville import gene as bgene\n",
    "from baskerville import dna\n",
    "import json\n",
    "import kipoiseq\n",
    "import pyfaidx"
   ]
  },
  {
   "cell_type": "code",
   "execution_count": 2,
   "id": "01753c08",
   "metadata": {},
   "outputs": [
    {
     "data": {
      "text/plain": [
       "[PhysicalDevice(name='/physical_device:GPU:0', device_type='GPU')]"
      ]
     },
     "execution_count": 2,
     "metadata": {},
     "output_type": "execute_result"
    }
   ],
   "source": [
    "gpus = tf.config.experimental.list_physical_devices('GPU')\n",
    "gpus"
   ]
  },
  {
   "cell_type": "code",
   "execution_count": 7,
   "id": "181b9176",
   "metadata": {},
   "outputs": [],
   "source": [
    "DEVICE = \"/GPU:0\""
   ]
  },
  {
   "cell_type": "markdown",
   "id": "d28480d0",
   "metadata": {},
   "source": [
    "Change the following paths to your personal paths"
   ]
  },
  {
   "cell_type": "code",
   "execution_count": 8,
   "id": "ff765d8c",
   "metadata": {},
   "outputs": [],
   "source": [
    "BORZOI_PATH = \"/Users/sofiasalazar/Desktop/IM_lab/borzoi_folder/borzoi\"\n",
    "models_path = os.path.join(BORZOI_PATH, \"examples/saved_models\" )\n",
    "fasta_file = \"/Users/sofiasalazar/Library/CloudStorage/Box-Box/imlab-data/Reference-Data/ref_sequences/hg38/Homo_sapiens_assembly38.fasta\"\n",
    "params_file = os.path.join(BORZOI_PATH, \"examples/params_pred.json\")\n",
    "targets_file = os.path.join(BORZOI_PATH, \"examples/targets_human.txt\")"
   ]
  },
  {
   "cell_type": "markdown",
   "id": "c882762f",
   "metadata": {},
   "source": [
    "The following classes will help us extract the reference genome sequence, mutate it and one hot encode it."
   ]
  },
  {
   "cell_type": "code",
   "execution_count": 20,
   "id": "81408721",
   "metadata": {},
   "outputs": [],
   "source": [
    "class FastaStringExtractor:\n",
    "\n",
    "    def __init__(self, fasta_file):\n",
    "        self.fasta = pyfaidx.Fasta(fasta_file)\n",
    "        self._chromosome_sizes = {k: len(v) for k, v in self.fasta.items()}\n",
    "    #import pd.Interval as Interval\n",
    "    def extract(self, interval: kipoiseq.Interval, snp_position = None, snp_base=None, **kwargs) -> str:\n",
    "        # Truncate interval if it extends beyond the chromosome lengths.\n",
    "        chromosome_length = self._chromosome_sizes[interval.chrom]\n",
    "        trimmed_interval = kipoiseq.Interval(interval.chrom,\n",
    "                                    max(interval.start, 0),\n",
    "                                    min(interval.end, chromosome_length),\n",
    "                                    )\n",
    "        \n",
    "        # pyfaidx wants a 1-based interval\n",
    "        sequence = str(self.fasta.get_seq(trimmed_interval.chrom,\n",
    "                                          trimmed_interval.start + 1,\n",
    "                                          trimmed_interval.stop).seq).upper()\n",
    "        \n",
    "        # Apply SNP modification if specified\n",
    "        if snp_position and snp_base:\n",
    "            pos = snp_position - trimmed_interval.start - 1\n",
    "            if 0 <= pos < len(sequence):\n",
    "                print(sequence[pos-1:pos+2])\n",
    "                sequence = sequence[:pos] + snp_base + sequence[pos + 1:]\n",
    "                print(sequence[pos-1:pos+2])\n",
    "                \n",
    "        # Fill truncated values with N's.\n",
    "        pad_upstream = 'N' * max(-interval.start, 0)\n",
    "        pad_downstream = 'N' * max(interval.end - chromosome_length, 0)\n",
    "        return pad_upstream + sequence + pad_downstream\n",
    "\n",
    "    def close(self):\n",
    "        return self.fasta.close()\n",
    "    \n",
    "def one_hot_encode(sequence):\n",
    "  return kipoiseq.transforms.functional.one_hot_dna(sequence).astype(np.float32)\n"
   ]
  },
  {
   "cell_type": "markdown",
   "id": "ef75e0d0",
   "metadata": {},
   "source": [
    "Borzoi prediction functions\n",
    "\n",
    "**Here we define how many model folds we want to use for the prediction**"
   ]
  },
  {
   "cell_type": "code",
   "execution_count": 10,
   "id": "146d4155",
   "metadata": {},
   "outputs": [],
   "source": [
    "n_reps = 1"
   ]
  },
  {
   "cell_type": "code",
   "execution_count": 11,
   "id": "09d3fe8e",
   "metadata": {},
   "outputs": [
    {
     "name": "stderr",
     "output_type": "stream",
     "text": [
      "2025-05-05 13:09:41.154901: I metal_plugin/src/device/metal_device.cc:1154] Metal device set to: Apple M1 Pro\n",
      "2025-05-05 13:09:41.154939: I metal_plugin/src/device/metal_device.cc:296] systemMemory: 32.00 GB\n",
      "2025-05-05 13:09:41.154952: I metal_plugin/src/device/metal_device.cc:313] maxCacheSize: 10.67 GB\n",
      "2025-05-05 13:09:41.155004: I tensorflow/core/common_runtime/pluggable_device/pluggable_device_factory.cc:306] Could not identify NUMA node of platform GPU ID 0, defaulting to 0. Your kernel may not have been built with NUMA support.\n",
      "2025-05-05 13:09:41.155040: I tensorflow/core/common_runtime/pluggable_device/pluggable_device_factory.cc:272] Created TensorFlow device (/job:localhost/replica:0/task:0/device:GPU:0 with 0 MB memory) -> physical PluggableDevice (device: 0, name: METAL, pci bus id: <undefined>)\n"
     ]
    }
   ],
   "source": [
    "seq_len = 524288\n",
    "rc = True         #Average across reverse-complement prediction\n",
    "\n",
    "with open(params_file) as params_open :\n",
    "    \n",
    "    params = json.load(params_open)\n",
    "    \n",
    "    params_model = params['model']\n",
    "    params_train = params['train']\n",
    "\n",
    "params_model['trunk'][-2]['cropping'] = 0\n",
    "\n",
    "\n",
    "targets_df = pd.read_csv(targets_file, index_col=0, sep='\\t')\n",
    "target_index = targets_df.index \n",
    "\n",
    "#Create local index of strand_pair (relative to sliced targets)\n",
    "if rc :\n",
    "    strand_pair = targets_df.strand_pair\n",
    "    \n",
    "    target_slice_dict = {ix : i for i, ix in enumerate(target_index.values.tolist())}\n",
    "    slice_pair = np.array([\n",
    "        target_slice_dict[ix] if ix in target_slice_dict else ix for ix in strand_pair.values.tolist()\n",
    "    ], dtype='int32')\n",
    "\n",
    "models = []\n",
    "for rep_ix in range(n_reps) :\n",
    "    model_file = os.path.join(BORZOI_PATH, f\"examples/saved_models/f3c{rep_ix}/train/model0_best.h5\")\n",
    "    seqnn_model = seqnn.SeqNN(params_model)\n",
    "    seqnn_model.restore(model_file, 0)\n",
    "    seqnn_model.build_slice(target_index)\n",
    "    if rc :\n",
    "        seqnn_model.strand_pair.append(slice_pair)\n",
    "    seqnn_model.build_ensemble(rc, [0])\n",
    "    \n",
    "    models.append(seqnn_model)\n",
    "\n",
    "def predict_tracks(models, sequence_one_hot):\n",
    "\n",
    "    predicted_tracks = []\n",
    "    for fold_ix in range(len(models)):\n",
    "\n",
    "        yh = models[fold_ix](sequence_one_hot[None, ...])[:, None, ...].astype(\n",
    "            \"float16\"\n",
    "        )\n",
    "\n",
    "        predicted_tracks.append(yh)\n",
    "\n",
    "    predicted_tracks = np.concatenate(predicted_tracks, axis=1)\n",
    "\n",
    "    return predicted_tracks\n",
    "\n",
    "def make_prediction(sequence):\n",
    "    with tf.device(DEVICE):\n",
    "        y_wt = predict_tracks(models, sequence)\n",
    "        return y_wt"
   ]
  },
  {
   "cell_type": "markdown",
   "id": "42b4b82e",
   "metadata": {},
   "source": [
    "## 5. Predict for a 3'aQTL\n",
    "\n",
    "In [this paper](https://www.nature.com/articles/s41588-021-00864-5), 3' alternative polyadenylation QTLs (1'aQTLs) where identified using gtex individuals. They were stored [here](https://doi.org/10.7303/syn22236281). \n",
    "\n",
    "For the purpose of this example, we will focus on the variant **rs10954213**: chr7_128949373_G_A (hg38), which is one of the whole blood 3'aQTLs that was reported on the paper (Figure 1b)"
   ]
  },
  {
   "cell_type": "code",
   "execution_count": 21,
   "id": "52345c66",
   "metadata": {},
   "outputs": [],
   "source": [
    "fasta_extractor = FastaStringExtractor(fasta_file)"
   ]
  },
  {
   "cell_type": "code",
   "execution_count": 13,
   "id": "17c31bf0",
   "metadata": {},
   "outputs": [],
   "source": [
    "sequence_interval = kipoiseq.Interval(\"chr7\", 128949373, 128949374)"
   ]
  },
  {
   "cell_type": "code",
   "execution_count": 22,
   "id": "edb49592",
   "metadata": {},
   "outputs": [],
   "source": [
    "reference_one_hot = one_hot_encode(fasta_extractor.extract(sequence_interval.resize(seq_len)))"
   ]
  },
  {
   "cell_type": "markdown",
   "id": "a1932146",
   "metadata": {},
   "source": [
    "Here the `snp_position` argument of the `extract` function refers to the position in the sequence where we want to introduce the mutation. `snp_base` is the nucleotide which will replace the reference nucleotide.\n",
    "\n",
    "Note that in the output, the reference and mutated nucleotides are printed in the middle of the upstream and downstream nucleotides."
   ]
  },
  {
   "cell_type": "code",
   "execution_count": 23,
   "id": "b86e43d0",
   "metadata": {},
   "outputs": [
    {
     "name": "stdout",
     "output_type": "stream",
     "text": [
      "TGA\n",
      "TAA\n"
     ]
    }
   ],
   "source": [
    "mutated_one_hot = one_hot_encode(fasta_extractor.extract(sequence_interval.resize(seq_len), snp_position=128949373, snp_base='A'))"
   ]
  },
  {
   "cell_type": "code",
   "execution_count": 24,
   "id": "888f3c91",
   "metadata": {},
   "outputs": [],
   "source": [
    "reference_one_hot = reference_one_hot.astype(\"float32\")\n",
    "mutated_one_hot = mutated_one_hot.astype(\"float32\")"
   ]
  },
  {
   "cell_type": "code",
   "execution_count": 29,
   "id": "4f52d91f",
   "metadata": {},
   "outputs": [],
   "source": [
    "pred_reference = make_prediction(reference_one_hot)"
   ]
  },
  {
   "cell_type": "code",
   "execution_count": 30,
   "id": "d4868b97",
   "metadata": {},
   "outputs": [
    {
     "data": {
      "text/plain": [
       "(1, 1, 16384, 7611)"
      ]
     },
     "execution_count": 30,
     "metadata": {},
     "output_type": "execute_result"
    }
   ],
   "source": [
    "pred_reference.shape"
   ]
  },
  {
   "cell_type": "markdown",
   "id": "fa632283",
   "metadata": {},
   "source": [
    "We remove the 0 dimension and average across the 1 dimension (folds)"
   ]
  },
  {
   "cell_type": "code",
   "execution_count": 31,
   "id": "ffc6993d",
   "metadata": {},
   "outputs": [
    {
     "data": {
      "text/plain": [
       "(16384, 7611)"
      ]
     },
     "execution_count": 31,
     "metadata": {},
     "output_type": "execute_result"
    }
   ],
   "source": [
    "pred_reference = pred_reference.squeeze(0).mean(axis = 0)\n",
    "pred_reference.shape"
   ]
  },
  {
   "cell_type": "markdown",
   "id": "8f988f00",
   "metadata": {},
   "source": [
    "Then we keep only the whole blood RNA-seq prediction [see track description here](https://github.com/calico/borzoi/blob/main/examples/targets_human.txt)"
   ]
  },
  {
   "cell_type": "code",
   "execution_count": 32,
   "id": "f5909f71",
   "metadata": {},
   "outputs": [
    {
     "data": {
      "text/plain": [
       "(16384, 3)"
      ]
     },
     "execution_count": 32,
     "metadata": {},
     "output_type": "execute_result"
    }
   ],
   "source": [
    "pred_reference = pred_reference[:, 7531:7534]\n",
    "pred_reference.shape"
   ]
  },
  {
   "cell_type": "markdown",
   "id": "17982a93",
   "metadata": {},
   "source": [
    "Average across the RNA blood tracks"
   ]
  },
  {
   "cell_type": "code",
   "execution_count": null,
   "id": "ea0441b2",
   "metadata": {},
   "outputs": [],
   "source": [
    "pred_reference = pred_reference.mean(axis = 1 )"
   ]
  },
  {
   "cell_type": "code",
   "execution_count": 34,
   "id": "1d01d0c8",
   "metadata": {},
   "outputs": [
    {
     "data": {
      "text/plain": [
       "(16384,)"
      ]
     },
     "execution_count": 34,
     "metadata": {},
     "output_type": "execute_result"
    }
   ],
   "source": [
    "pred_reference.shape"
   ]
  },
  {
   "cell_type": "markdown",
   "id": "0f6dc6fc",
   "metadata": {},
   "source": [
    "We do the same for the mutated sequence"
   ]
  },
  {
   "cell_type": "code",
   "execution_count": 35,
   "id": "53071411",
   "metadata": {},
   "outputs": [],
   "source": [
    "pred_mutated = make_prediction(mutated_one_hot)\n",
    "pred_mutated = pred_mutated.squeeze(0).mean(axis = 0)\n",
    "pred_mutated = pred_mutated[:, 7531:7534]\n",
    "pred_mutated = pred_mutated.mean(axis = 1 )"
   ]
  },
  {
   "cell_type": "code",
   "execution_count": 36,
   "id": "5a046eba",
   "metadata": {},
   "outputs": [
    {
     "data": {
      "text/plain": [
       "(16384,)"
      ]
     },
     "execution_count": 36,
     "metadata": {},
     "output_type": "execute_result"
    }
   ],
   "source": [
    "pred_mutated.shape"
   ]
  },
  {
   "cell_type": "code",
   "execution_count": 38,
   "id": "bd4ef791",
   "metadata": {},
   "outputs": [],
   "source": [
    "import matplotlib.pyplot as plt\n",
    "import seaborn as sns"
   ]
  },
  {
   "cell_type": "code",
   "execution_count": null,
   "id": "ebfc57a6",
   "metadata": {},
   "outputs": [],
   "source": [
    "def plot_tracks_nested(nested_tracks, interval, highlight_position = None, alpha = 0.4, height=1.5):\n",
    "    \"\"\"\n",
    "    nested_tracks: dict of dicts\n",
    "        Outer keys: data sources (e.g., replicates or conditions)\n",
    "        Inner keys: track names to plot (these become the rows)\n",
    "    interval: a kipoiseq interval with .start and .end\n",
    "    \"\"\"\n",
    "    all_inner_keys = set()\n",
    "    for subdict in nested_tracks.values():\n",
    "        all_inner_keys.update(subdict.keys())\n",
    "    all_inner_keys = sorted(all_inner_keys)\n",
    "\n",
    "    n_tracks = len(all_inner_keys)\n",
    "    fig, axes = plt.subplots(n_tracks, 1, figsize=(20, height * n_tracks), sharex=True)\n",
    "\n",
    "    if n_tracks == 1:\n",
    "        axes = [axes]\n",
    "\n",
    "    for ax, inner_key in zip(axes, all_inner_keys):\n",
    "        for outer_key, subdict in nested_tracks.items():\n",
    "            if inner_key in subdict:\n",
    "                y = subdict[inner_key]\n",
    "                x = np.linspace(interval.start, interval.end, num=len(y))\n",
    "                ax.fill_between(x, y, alpha=alpha, label=outer_key)\n",
    "        ax.set_title(inner_key, fontsize=11)\n",
    "        ax.legend(loc='upper right', fontsize=8, frameon=False)\n",
    "        sns.despine(ax=ax, top=True, right=True, bottom=True)\n",
    "        if highlight_position is not None and interval.start <= highlight_position <= interval.end:\n",
    "            ax.axvline(x=highlight_position, color='black', linestyle='--', linewidth=1)\n",
    "\n",
    "    axes[-1].set_xlabel(str(interval))\n",
    "    plt.tight_layout()\n",
    "    plt.show()"
   ]
  },
  {
   "cell_type": "markdown",
   "id": "9c5bebde",
   "metadata": {},
   "source": [
    "Since we are only interested in the 3'UTR region, we will center our plot on the 64 middle bins (for borzoi, each bin is 32 base pair-long). Remember that the prediction is centered at the 3'aQTL (dashed line on the plot). Indeed the coverage difference between the reference and alternative sequences is evident."
   ]
  },
  {
   "cell_type": "code",
   "execution_count": 45,
   "id": "aa4cff97",
   "metadata": {},
   "outputs": [
    {
     "data": {
      "text/plain": [
       "(64,)"
      ]
     },
     "execution_count": 45,
     "metadata": {},
     "output_type": "execute_result"
    }
   ],
   "source": [
    "pred_reference[8160:8224, ].shape"
   ]
  },
  {
   "cell_type": "code",
   "execution_count": 50,
   "id": "2065b9ad",
   "metadata": {},
   "outputs": [
    {
     "data": {
      "image/png": "[encoded data removed]",
      "text/plain": [
       "<Figure size 2000x150 with 1 Axes>"
      ]
     },
     "metadata": {},
     "output_type": "display_data"
    }
   ],
   "source": [
    "tracks = {'Reference': {'Whole Blood RNA-seq': pred_reference[8160:8224, ]},\n",
    "          'Mutated': {'Whole Blood RNA-seq': pred_mutated[8160:8224, ]}}\n",
    "plot_tracks_nested(tracks, sequence_interval.resize(64*32), highlight_position=sequence_interval.start)"
   ]
  }
 ],
 "metadata": {
  "kernelspec": {
   "display_name": "borzoiTools",
   "language": "python",
   "name": "python3"
  },
  "language_info": {
   "codemirror_mode": {
    "name": "ipython",
    "version": 3
   },
   "file_extension": ".py",
   "mimetype": "text/x-python",
   "name": "python",
   "nbconvert_exporter": "python",
   "pygments_lexer": "ipython3",
   "version": "3.10.17"
  }
 },
 "nbformat": 4,
 "nbformat_minor": 5
}
