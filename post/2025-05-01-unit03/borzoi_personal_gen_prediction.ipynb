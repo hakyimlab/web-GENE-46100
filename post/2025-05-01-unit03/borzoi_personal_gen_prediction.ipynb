{
  "cells": [
    {
      "cell_type": "markdown",
      "metadata": {},
      "source": [
        "---\n",
        "title: \"Borzoi prediction from personal genome\"\n",
        "author: \"Sofia Salazar\"\n",
        "date: \"2025-05-05\"\n",
        "description: 'Using Borzoi for predicting on a personal genome, derived from VCF'\n",
        "format:\n",
        "  html:\n",
        "    code-fold: true\n",
        "    code-summary: \"Show the code\"\n",
        "    code-tools: true\n",
        "    code-overflow: wrap\n",
        "editor_options: \n",
        "  chunk_output_type: console\n",
        "eval: false\n",
        "categories:\n",
        "  - gene46100\n",
        "  - notebook\n",
        "---"
      ]
    },
    {
      "cell_type": "markdown",
      "metadata": {
        "id": "OFA0CNDrpZvr"
      },
      "source": [
        "## 1. Set up"
      ]
    },
    {
      "cell_type": "markdown",
      "metadata": {},
      "source": [
        "Recommended: create a new conda environment, borzoi is not compatible with python > 3.10\n",
        "\n",
        "conda create --name borzoi46100 python=3.10\n",
        "\n",
        "Then, use borzoi46100 environment to run the notebook\n"
      ]
    },
    {
      "cell_type": "markdown",
      "metadata": {
        "id": "bUmfomj5qbgp"
      },
      "source": [
        "Install software repositories"
      ]
    },
    {
      "cell_type": "code",
      "execution_count": 1,
      "metadata": {
        "colab": {
          "base_uri": "https://localhost:8080/"
        },
        "id": "HztzzvWxp7YD",
        "outputId": "9e3192ea-14fe-414f-9b7b-881f580f6fa2"
      },
      "outputs": [],
      "source": [
        "import os\n",
        "GITHUB_DIR = '/Users/haekyungim/Github'\n",
        "\n",
        "# clone baskerville and borzoi if not already cloned\n",
        "baskerville_path = os.path.join(GITHUB_DIR, 'baskerville')\n",
        "borzoi_path = os.path.join(GITHUB_DIR, 'borzoi')\n",
        "if not os.path.exists(baskerville_path):\n",
        "    !git clone https://github.com/calico/baskerville.git {GITHUB_DIR}/baskerville\n",
        "\n",
        "if not os.path.exists(borzoi_path):\n",
        "    !git clone https://github.com/calico/borzoi.git {GITHUB_DIR}/borzoi"
      ]
    },
    {
      "cell_type": "markdown",
      "metadata": {
        "id": "1ICj2UCSHa_v"
      },
      "source": [
        "**After loading baskerville, restart runtime, run code from here**"
      ]
    },
    {
      "cell_type": "markdown",
      "metadata": {
        "id": "W_N3m7LCqhzM"
      },
      "source": [
        "Install libraries"
      ]
    },
    {
      "cell_type": "code",
      "execution_count": 2,
      "metadata": {
        "colab": {
          "base_uri": "https://localhost:8080/"
        },
        "id": "yYyF_GslpL2n",
        "outputId": "56e21a62-7fec-43fa-cac9-f30c402cdaa0"
      },
      "outputs": [],
      "source": [
        "try:\n",
        "    import baskerville\n",
        "except ImportError:\n",
        "    !pip install -e {GITHUB_DIR}/baskerville\n"
      ]
    },
    {
      "cell_type": "code",
      "execution_count": 3,
      "metadata": {
        "colab": {
          "base_uri": "https://localhost:8080/"
        },
        "id": "VuAleb_ZrPrm",
        "outputId": "811f86be-4d60-43c9-d103-f2177c7a6356"
      },
      "outputs": [],
      "source": [
        "#| output: false\n",
        "\n",
        "try:\n",
        "    import borzoi\n",
        "except ImportError:\n",
        "    !pip install -e {GITHUB_DIR}/borzoi"
      ]
    },
    {
      "cell_type": "markdown",
      "metadata": {},
      "source": [
        "NOTE: install tensorflow-metal if running on a mac"
      ]
    },
    {
      "cell_type": "code",
      "execution_count": 7,
      "metadata": {},
      "outputs": [
        {
          "name": "stdout",
          "output_type": "stream",
          "text": [
            "Apple Silicon detected, installing tensorflow-metal...\n",
            "Collecting tensorflow-metal\n",
            "  Downloading tensorflow_metal-1.2.0-cp310-cp310-macosx_12_0_arm64.whl.metadata (1.3 kB)\n",
            "Requirement already satisfied: wheel~=0.35 in /Users/haekyungim/miniconda3/envs/borzoi46100/lib/python3.10/site-packages (from tensorflow-metal) (0.45.1)\n",
            "Requirement already satisfied: six>=1.15.0 in /Users/haekyungim/miniconda3/envs/borzoi46100/lib/python3.10/site-packages (from tensorflow-metal) (1.17.0)\n",
            "Downloading tensorflow_metal-1.2.0-cp310-cp310-macosx_12_0_arm64.whl (1.4 MB)\n",
            "\u001b[2K   \u001b[90m━━━━━━━━━━━━━━━━━━━━━━━━━━━━━━━━━━━━━━━━\u001b[0m \u001b[32m1.4/1.4 MB\u001b[0m \u001b[31m23.8 MB/s\u001b[0m eta \u001b[36m0:00:00\u001b[0m\n",
            "\u001b[?25hInstalling collected packages: tensorflow-metal\n",
            "Successfully installed tensorflow-metal-1.2.0\n",
            "Note: you may need to restart the kernel to use updated packages.\n"
          ]
        }
      ],
      "source": [
        "# import platform\n",
        "# if platform.processor() == 'arm':\n",
        "#     print(\"Apple Silicon detected, installing tensorflow-metal...\")\n",
        "#     %pip install tensorflow-metal\n",
        "# else:\n",
        "#     print(\"Not running on Apple Silicon, skipping tensorflow-metal installation\")"
      ]
    },
    {
      "cell_type": "markdown",
      "metadata": {
        "id": "VAvWN2zsraz5"
      },
      "source": [
        "### Load libraries"
      ]
    },
    {
      "cell_type": "code",
      "execution_count": 4,
      "metadata": {
        "colab": {
          "base_uri": "https://localhost:8080/"
        },
        "id": "0IqXefx28pPV",
        "outputId": "125ea458-d0df-4254-8111-e55225a2c0d3"
      },
      "outputs": [],
      "source": [
        "#| output: false\n",
        "try:\n",
        "    import kipoiseq\n",
        "except ImportError:\n",
        "    %pip install kipoiseq\n",
        "from kipoiseq import Interval\n",
        "try:\n",
        "    import cyvcf2\n",
        "except ImportError:\n",
        "    %pip install cyvcf2\n",
        "import os\n",
        "import time\n",
        "import io\n",
        "import gzip\n",
        "\n",
        "#os.environ['CUDA_VISIBLE_DEVICES'] = '-1'\n",
        "\n",
        "import h5py\n",
        "import numpy as np\n",
        "import pandas as pd\n",
        "import tensorflow as tf\n",
        "\n",
        "import baskerville\n",
        "from baskerville import seqnn\n",
        "from baskerville import gene as bgene\n",
        "from baskerville import dna\n",
        "\n",
        "import json\n",
        "\n",
        "import pysam\n",
        "\n",
        "import pyfaidx\n",
        "\n",
        "import matplotlib.pyplot as plt\n",
        "import matplotlib.patches as patches"
      ]
    },
    {
      "cell_type": "markdown",
      "metadata": {
        "id": "5JWspdUWrmAS"
      },
      "source": [
        "### Configure GPU device"
      ]
    },
    {
      "cell_type": "code",
      "execution_count": 5,
      "metadata": {
        "colab": {
          "base_uri": "https://localhost:8080/"
        },
        "id": "M8GqpTlIriBZ",
        "outputId": "2ad0c701-ebb7-42a9-8f0a-a6787699465f"
      },
      "outputs": [
        {
          "name": "stdout",
          "output_type": "stream",
          "text": [
            "Num GPUs Available:  1\n"
          ]
        }
      ],
      "source": [
        "print(\"Num GPUs Available: \", len(tf.config.list_physical_devices('GPU')))\n",
        "gpu_device = tf.config.list_physical_devices('GPU')[0]\n",
        "tf.config.experimental.set_memory_growth(gpu_device, True)"
      ]
    },
    {
      "cell_type": "markdown",
      "metadata": {
        "id": "V1dJ_95urtRz"
      },
      "source": [
        "### Dowload model files"
      ]
    },
    {
      "cell_type": "code",
      "execution_count": 8,
      "metadata": {
        "colab": {
          "base_uri": "https://localhost:8080/"
        },
        "id": "xsVhm-CLtXes",
        "outputId": "ab55c597-0013-4644-be54-8970cfeb6bbe"
      },
      "outputs": [
        {
          "name": "stdout",
          "output_type": "stream",
          "text": [
            "mkdir: /Users/haekyungim/Library/CloudStorage/Box-Box/LargeFiles/imlab-data/data-Github/web-data/web-GENE-46100/borzoi/data: File exists\n",
            "/Users/haekyungim/Library/CloudStorage/Box-Box/LargeFiles/imlab-data/data-Github/web-data/web-GENE-46100/borzoi/data\n"
          ]
        }
      ],
      "source": [
        "PRE = '/Users/haekyungim/Library/CloudStorage/Box-Box/LargeFiles/imlab-data/data-Github/web-data/web-GENE-46100'\n",
        "CONTENT_DIR = PRE + '/borzoi'\n",
        "# Create borzoi/data directory if it doesn't exist\n",
        "if not os.path.exists(os.path.join(CONTENT_DIR)):\n",
        "    !mkdir {CONTENT_DIR}\n",
        "if not os.path.exists(os.path.join(CONTENT_DIR, '/data')):\n",
        "    !mkdir {CONTENT_DIR}/data\n",
        "\n",
        "# Create model file structure\n",
        "saved_models_path = os.path.join(CONTENT_DIR, 'data/saved_models')\n",
        "if not os.path.exists(saved_models_path):\n",
        "    !mkdir {saved_models_path}\n",
        "if not os.path.exists(os.path.join(saved_models_path, 'f0')):\n",
        "    !mkdir {saved_models_path}/f0\n",
        "if not os.path.exists(os.path.join(saved_models_path, 'f1')):\n",
        "    !mkdir {saved_models_path}/f1\n",
        "if not os.path.exists(os.path.join(saved_models_path, 'f2')):\n",
        "    !mkdir {saved_models_path}/f2\n",
        "if not os.path.exists(os.path.join(saved_models_path, 'f3')):\n",
        "    !mkdir {saved_models_path}/f3\n",
        "    \n",
        "#%cd {CONTENT_DIR}/data"
      ]
    },
    {
      "cell_type": "code",
      "execution_count": 14,
      "metadata": {},
      "outputs": [
        {
          "data": {
            "text/plain": [
              "'/Users/haekyungim/Library/CloudStorage/Box-Box/LargeFiles/imlab-data/data-Github/web-data/web-GENE-46100/borzoi/data/hg38.fa'"
            ]
          },
          "execution_count": 14,
          "metadata": {},
          "output_type": "execute_result"
        }
      ],
      "source": [
        "#DELET\n",
        "os.path.join(CONTENT_DIR, 'data/hg38.fa')"
      ]
    },
    {
      "cell_type": "code",
      "execution_count": 11,
      "metadata": {},
      "outputs": [],
      "source": [
        "#Download model weights\n",
        "if not os.path.exists(os.path.join(saved_models_path, 'f0', 'model0_best.h5')):\n",
        "    !wget https://storage.googleapis.com/seqnn-share/borzoi/f0/model0_best.h5 -O {saved_models_path}/f0/model0_best.h5\n",
        "if not os.path.exists(os.path.join(saved_models_path, 'f1', 'model0_best.h5')): \n",
        "    !wget https://storage.googleapis.com/seqnn-share/borzoi/f1/model0_best.h5 -O {saved_models_path}/f1/model0_best.h5\n",
        "if not os.path.exists(os.path.join(saved_models_path, 'f2', 'model0_best.h5')):\n",
        "    !wget https://storage.googleapis.com/seqnn-share/borzoi/f2/model0_best.h5 -O {saved_models_path}/f2/model0_best.h5\n",
        "if not os.path.exists(os.path.join(saved_models_path, 'f3', 'model0_best.h5')):\n",
        "    !wget https://storage.googleapis.com/seqnn-share/borzoi/f3/model0_best.h5 -O {saved_models_path}/f3/model0_best.h5\n"
      ]
    },
    {
      "cell_type": "code",
      "execution_count": 28,
      "metadata": {
        "colab": {
          "base_uri": "https://localhost:8080/"
        },
        "id": "noY_QjrN9cfu",
        "outputId": "ed59c16f-294c-4392-d53a-30bb2c33be53"
      },
      "outputs": [
        {
          "name": "stdout",
          "output_type": "stream",
          "text": [
            "--2025-05-04 23:36:43--  https://storage.googleapis.com/seqnn-share/helper/gencode41_basic_nort.gtf.gz\n",
            "Resolving storage.googleapis.com (storage.googleapis.com)... 142.250.190.155, 142.250.191.123, 142.250.191.187, ...\n",
            "Connecting to storage.googleapis.com (storage.googleapis.com)|142.250.190.155|:443... connected.\n",
            "HTTP request sent, awaiting response... 200 OK\n",
            "Length: 30909907 (29M) [application/octet-stream]\n",
            "Saving to: ‘STDOUT’\n",
            "\n",
            "-                   100%[===================>]  29.48M  35.0MB/s    in 0.8s    \n",
            "\n",
            "2025-05-04 23:36:45 (35.0 MB/s) - written to stdout [30909907/30909907]\n",
            "\n"
          ]
        }
      ],
      "source": [
        "#| output: false\n",
        "\n",
        "#Download and uncompress annotation files\n",
        "if not os.path.exists(os.path.join(CONTENT_DIR, 'data', 'gencode41_basic_nort.gtf')):\n",
        "    !wget  -O - https://storage.googleapis.com/seqnn-share/helper/gencode41_basic_nort.gtf.gz | gunzip -c > {os.path.join(CONTENT_DIR, 'data', 'gencode41_basic_nort.gtf')}\n",
        "if not os.path.exists(os.path.join(CONTENT_DIR, 'data', 'gencode41_basic_protein_splice.csv.gz')):\n",
        "    !wget https://storage.googleapis.com/seqnn-share/helper/gencode41_basic_protein_splice.csv.gz -O {os.path.join(CONTENT_DIR, 'data', 'gencode41_basic_protein_splice.csv.gz')}\n",
        "if not os.path.exists(os.path.join(CONTENT_DIR, 'data', 'polyadb_human_v3.csv.gz')):\n",
        "    !wget https://storage.googleapis.com/seqnn-share/helper/polyadb_human_v3.csv.gz -O {os. path.join(CONTENT_DIR, 'data', 'polyadb_human_v3.csv.gz')}"
      ]
    },
    {
      "cell_type": "markdown",
      "metadata": {
        "id": "asaDPqsUr9Zl"
      },
      "source": [
        "### Download reference genome"
      ]
    },
    {
      "cell_type": "code",
      "execution_count": 15,
      "metadata": {
        "colab": {
          "base_uri": "https://localhost:8080/"
        },
        "id": "mfn10yalr_Ur",
        "outputId": "5e2ff7a0-3391-4bfb-94c4-384b0f064329"
      },
      "outputs": [],
      "source": [
        "#| output: false\n",
        "#fasta_file = '/content/data/genome.fa'\n",
        "fasta_file = os.path.join(CONTENT_DIR, 'data/hg38.fa')\n",
        "if not os.path.exists(fasta_file):\n",
        "    !wget -O - http://hgdownload.cse.ucsc.edu/goldenPath/hg38/bigZips/hg38.fa.gz | gunzip -c > {fasta_file}"
      ]
    },
    {
      "cell_type": "code",
      "execution_count": 17,
      "metadata": {
        "id": "Q3PfSYRTu-hQ"
      },
      "outputs": [
        {
          "name": "stdout",
          "output_type": "stream",
          "text": [
            "--2025-05-04 23:18:01--  https://uchicago.box.com/shared/static/u526pjh29w93ufn65yomlch4z8lkb1sp.gz\n",
            "Resolving uchicago.box.com (uchicago.box.com)... 74.112.186.157\n",
            "Connecting to uchicago.box.com (uchicago.box.com)|74.112.186.157|:443... connected.\n",
            "HTTP request sent, awaiting response... 301 Moved Permanently\n",
            "Location: /public/static/u526pjh29w93ufn65yomlch4z8lkb1sp.gz [following]\n",
            "--2025-05-04 23:18:05--  https://uchicago.box.com/public/static/u526pjh29w93ufn65yomlch4z8lkb1sp.gz\n",
            "Reusing existing connection to uchicago.box.com:443.\n",
            "HTTP request sent, awaiting response... 301 Moved Permanently\n",
            "Location: https://uchicago.app.box.com/public/static/u526pjh29w93ufn65yomlch4z8lkb1sp.gz [following]\n",
            "--2025-05-04 23:18:06--  https://uchicago.app.box.com/public/static/u526pjh29w93ufn65yomlch4z8lkb1sp.gz\n",
            "Resolving uchicago.app.box.com (uchicago.app.box.com)... 74.112.186.157\n",
            "Connecting to uchicago.app.box.com (uchicago.app.box.com)|74.112.186.157|:443... connected.\n",
            "HTTP request sent, awaiting response... 302 Found\n",
            "Location: https://public.boxcloud.com/d/1/b1!RHvdIthE36FYyn0QLtnT0Bd4TIsiBQIoBEWvZGN7fVlSkjJkj5zRGnxAgcyWT75KdCvMqjeykC5OtsuTJP9LtQazK-z4ZyX6W9K4IWYfpcPQ67INeF0g8ST99TB4sR-fsAZxsGiDA80d3RwZom5lXnpC8__U5y9y5MkwgaaUV14pLDVPP7tNkFtPppWdkrcIo_78YFKZ5hB2J4ZqdH1_vZsfAVD7HeXu69e8rmSIeiSrGI2RlvPRH6ArsbuJSmMQ6GTjHLCgeAW2zq-EwzqvWYVvyra6-BfS1WGFZ02PiLIsSP4mxL9l7BR95kJqzk9zTmejGYBVxFGX1Q2fjpbQtKBBRxx0wjsnUwlQ1dzV3I251e5PSRgsZt-Ln03YYtOQZCiCLa7tPHt1Lj-5Zq_RS-8uPqaEaIaVxO3BL9H1XLOCvo16rQF5TWJ5cP5uv49l6z1llm37VYm-E_9wKg3r-VHqGZqJDcoB-EObe-UqMgSn0dQJyzsMmeI4eYhx8crMaGYFP18HGeA403GYC_VAqZ3T7dJnxyxAOCnL_3tvzJO9n5zNb6cDCuUSO6jvCKYuQ62fDgqKdtGK4Gc3BTfLZt6ikXKBTdp3Iqv9fxV8c3ecSV92UWyM95YiFftzYDzYKK8K4Qg68JhPE8BGDQCaElazdGWUHSv6aG9FofMB-YInY2YexGCeYWA5VRFkaUSEFv19TtqLjUB_zksXQQdfhnm9D9Ri2aV1iZSw7EhcI8SX7BbHxWp5-4KaVdQ4Da2_iq-mp4dzQUOCiZBULNIcAov1Upu3pSOGmSqTDuuAGm2a9yakG-D__hiSoPL2W-3gKX2XOEqqAypS10cVq0iE7WfDro0xf3el1UfN9DnSBx_i1lkspAF1gwWoMBbt-PCjTQn1QrC4brBNsHXXgs-4YPiJhtxitocc3rmQ7QiBpwufdihSnEb-gxxQwP_P2ixrVpcBn4GEfErjkpOYrjN2Kvuedu_raeWS2c8Ek2sQkJpM9A0aiwxblg-ZRjFszKntmL9auguHq5l8QKVCcvz5Okr49dpd1dxTZsK4HCC0DuclTebjWKUmE3d5jZDk5zM6aJ2NcADklr5H-cuZSi4fdbcCHeufIE92k_6bahN9WK0MQrcv4yTlKsGkaveWgxDpu4tNqnFTe_ckgr6OWzppsITVOiBMO5SilHeCRNfaBdSXIPZ4R76ATrIySz51YLGCsQpkeB-qXEgAMXDIQaKHkN0_wpqsQlJlsXOchvJ3Zs_g8ZtooEM14-sYhP7jwDYK30_Gq5PMAhYBTT33XUh_NOJiHOLFU-3jgi7thJ_AeMBWfgedpXC0coX7isbLsqhPOXewyWmQxKFxauYz7jv6GmomfUgsmAcAuMKmKcbUZX10DfWgvlH3LYGgfdLsXuDY8j3B2On0Ya_mMfkLZVgR8enXtrvQzCjV1SKsh85oVPUJF_GVojV_MtEgIHINRfK_DuqhO6LfMLjSzwCKfdN0C8vBYluHH_bIgTvVm9SkasNQCb0hpnRdrgpNXDp0M49qHok1UCFmbT1xHWUk7_ZSWPerEpUQQ9dRM8ngDU6pq6FgLaKiM8ksIIF4VZMg/download [following]\n",
            "--2025-05-04 23:18:10--  https://public.boxcloud.com/d/1/b1!RHvdIthE36FYyn0QLtnT0Bd4TIsiBQIoBEWvZGN7fVlSkjJkj5zRGnxAgcyWT75KdCvMqjeykC5OtsuTJP9LtQazK-z4ZyX6W9K4IWYfpcPQ67INeF0g8ST99TB4sR-fsAZxsGiDA80d3RwZom5lXnpC8__U5y9y5MkwgaaUV14pLDVPP7tNkFtPppWdkrcIo_78YFKZ5hB2J4ZqdH1_vZsfAVD7HeXu69e8rmSIeiSrGI2RlvPRH6ArsbuJSmMQ6GTjHLCgeAW2zq-EwzqvWYVvyra6-BfS1WGFZ02PiLIsSP4mxL9l7BR95kJqzk9zTmejGYBVxFGX1Q2fjpbQtKBBRxx0wjsnUwlQ1dzV3I251e5PSRgsZt-Ln03YYtOQZCiCLa7tPHt1Lj-5Zq_RS-8uPqaEaIaVxO3BL9H1XLOCvo16rQF5TWJ5cP5uv49l6z1llm37VYm-E_9wKg3r-VHqGZqJDcoB-EObe-UqMgSn0dQJyzsMmeI4eYhx8crMaGYFP18HGeA403GYC_VAqZ3T7dJnxyxAOCnL_3tvzJO9n5zNb6cDCuUSO6jvCKYuQ62fDgqKdtGK4Gc3BTfLZt6ikXKBTdp3Iqv9fxV8c3ecSV92UWyM95YiFftzYDzYKK8K4Qg68JhPE8BGDQCaElazdGWUHSv6aG9FofMB-YInY2YexGCeYWA5VRFkaUSEFv19TtqLjUB_zksXQQdfhnm9D9Ri2aV1iZSw7EhcI8SX7BbHxWp5-4KaVdQ4Da2_iq-mp4dzQUOCiZBULNIcAov1Upu3pSOGmSqTDuuAGm2a9yakG-D__hiSoPL2W-3gKX2XOEqqAypS10cVq0iE7WfDro0xf3el1UfN9DnSBx_i1lkspAF1gwWoMBbt-PCjTQn1QrC4brBNsHXXgs-4YPiJhtxitocc3rmQ7QiBpwufdihSnEb-gxxQwP_P2ixrVpcBn4GEfErjkpOYrjN2Kvuedu_raeWS2c8Ek2sQkJpM9A0aiwxblg-ZRjFszKntmL9auguHq5l8QKVCcvz5Okr49dpd1dxTZsK4HCC0DuclTebjWKUmE3d5jZDk5zM6aJ2NcADklr5H-cuZSi4fdbcCHeufIE92k_6bahN9WK0MQrcv4yTlKsGkaveWgxDpu4tNqnFTe_ckgr6OWzppsITVOiBMO5SilHeCRNfaBdSXIPZ4R76ATrIySz51YLGCsQpkeB-qXEgAMXDIQaKHkN0_wpqsQlJlsXOchvJ3Zs_g8ZtooEM14-sYhP7jwDYK30_Gq5PMAhYBTT33XUh_NOJiHOLFU-3jgi7thJ_AeMBWfgedpXC0coX7isbLsqhPOXewyWmQxKFxauYz7jv6GmomfUgsmAcAuMKmKcbUZX10DfWgvlH3LYGgfdLsXuDY8j3B2On0Ya_mMfkLZVgR8enXtrvQzCjV1SKsh85oVPUJF_GVojV_MtEgIHINRfK_DuqhO6LfMLjSzwCKfdN0C8vBYluHH_bIgTvVm9SkasNQCb0hpnRdrgpNXDp0M49qHok1UCFmbT1xHWUk7_ZSWPerEpUQQ9dRM8ngDU6pq6FgLaKiM8ksIIF4VZMg/download\n",
            "Resolving public.boxcloud.com (public.boxcloud.com)... 74.112.186.164\n",
            "Connecting to public.boxcloud.com (public.boxcloud.com)|74.112.186.164|:443... connected.\n",
            "HTTP request sent, awaiting response... 200 OK\n",
            "Length: 374610665 (357M) [application/octet-stream]\n",
            "Saving to: ‘/Users/haekyungim/Library/CloudStorage/Box-Box/LargeFiles/imlab-data/data-Github/web-data/web-GENE-46100/borzoi/data/ALL.chr22.shapeit2_integrated_SNPs_v2a_27022019.GRCh38.phased.gz’\n",
            "\n",
            "/Users/haekyungim/L 100%[===================>] 357.26M  97.6MB/s    in 4.0s    \n",
            "\n",
            "2025-05-04 23:18:19 (90.1 MB/s) - ‘/Users/haekyungim/Library/CloudStorage/Box-Box/LargeFiles/imlab-data/data-Github/web-data/web-GENE-46100/borzoi/data/ALL.chr22.shapeit2_integrated_SNPs_v2a_27022019.GRCh38.phased.gz’ saved [374610665/374610665]\n",
            "\n"
          ]
        }
      ],
      "source": [
        "### download vcf file and index for chromosome 22\n",
        "VCF_FILE = os.path.join(CONTENT_DIR, 'data/ALL.chr22.shapeit2_integrated_SNPs_v2a_27022019.GRCh38.phased.gz')\n",
        "if not os.path.exists(VCF_FILE):\n",
        "    !wget https://uchicago.box.com/shared/static/u526pjh29w93ufn65yomlch4z8lkb1sp.gz -O {VCF_FILE}\n"
      ]
    },
    {
      "cell_type": "code",
      "execution_count": 18,
      "metadata": {
        "colab": {
          "base_uri": "https://localhost:8080/"
        },
        "id": "q4uCc2dszkE5",
        "outputId": "5ebabc68-7d50-420c-d7c0-169f64b20e34"
      },
      "outputs": [
        {
          "name": "stdout",
          "output_type": "stream",
          "text": [
            "ALL.chr22.shapeit2_integrated_SNPs_v2a_27022019.GRCh38.phased.gz\n",
            "gencode41_basic_nort.gtf\n",
            "gencode41_basic_nort.gtf.gz\n",
            "gencode41_basic_protein_splice.csv.gz\n",
            "hg38.fa\n",
            "polyadb_human_v3.csv.gz\n",
            "\u001b[34msaved_models\u001b[m\u001b[m\n"
          ]
        }
      ],
      "source": [
        "#!ls /content/data\n",
        "!ls {CONTENT_DIR}/data"
      ]
    },
    {
      "cell_type": "code",
      "execution_count": 19,
      "metadata": {
        "colab": {
          "base_uri": "https://localhost:8080/"
        },
        "id": "lcQfgTK8c5AQ",
        "outputId": "0a10b962-384f-4cc4-ffae-9bd985b438df"
      },
      "outputs": [
        {
          "name": "stdout",
          "output_type": "stream",
          "text": [
            "/Users/haekyungim/Library/CloudStorage/Box-Box/LargeFiles/imlab-data/data-Github/web-data/web-GENE-46100/borzoi\n"
          ]
        }
      ],
      "source": [
        "%cd {CONTENT_DIR}"
      ]
    },
    {
      "cell_type": "markdown",
      "metadata": {
        "id": "CRSvHpaBgZI2"
      },
      "source": [
        "#### Download htslib to index genome"
      ]
    },
    {
      "cell_type": "code",
      "execution_count": null,
      "metadata": {
        "colab": {
          "base_uri": "https://localhost:8080/"
        },
        "id": "bOM5wjBlbwcT",
        "outputId": "a2f94259-2b87-4b17-fd2d-f1c2ce3a41c4"
      },
      "outputs": [],
      "source": [
        "#| output: false\n",
        "!wget https://github.com/samtools/htslib/releases/download/1.9/htslib-1.9.tar.bz2\n",
        "!tar -vxjf htslib-1.9.tar.bz2\n",
        "%cd htslib-1.9\n",
        "!autoreconf -i\n",
        "!./configure\n",
        "!make\n",
        "!make install\n",
        "\n"
      ]
    },
    {
      "cell_type": "code",
      "execution_count": 21,
      "metadata": {},
      "outputs": [
        {
          "name": "stdout",
          "output_type": "stream",
          "text": [
            "\u001b[34m==>\u001b[0m \u001b[1mAuto-updating Homebrew...\u001b[0m\n",
            "Adjust how often this is run with HOMEBREW_AUTO_UPDATE_SECS or disable with\n",
            "HOMEBREW_NO_AUTO_UPDATE. Hide these hints with HOMEBREW_NO_ENV_HINTS (see `man brew`).\n",
            "\u001b[34m==>\u001b[0m \u001b[1mDownloading https://ghcr.io/v2/homebrew/portable-ruby/portable-ruby/blobs/sha256:40e7f5d7514a7e9757facdd39006f7a351d3d7986d3a228be13c8b1c3216727b\u001b[0m\n",
            "######################################################################### 100.0%\n",
            "\u001b[34m==>\u001b[0m \u001b[1mPouring portable-ruby-3.4.3.arm64_big_sur.bottle.tar.gz\u001b[0m\n",
            "\u001b[34m==>\u001b[0m \u001b[1mAuto-updated Homebrew!\u001b[0m\n",
            "Updated 2 taps (homebrew/core and homebrew/cask).\n",
            "\u001b[34m==>\u001b[0m \u001b[1mNew Formulae\u001b[0m\n",
            "bkmr                       newsraft                   tdom\n",
            "camlpdf                    policy-engine              tmex\n",
            "elfio                      readerwriterqueue          undercutf1\n",
            "iccmax                     rofi                       unoserver\n",
            "infat                      sequoia-chameleon-gnupg\n",
            "miniflux                   sexpect\n",
            "\u001b[34m==>\u001b[0m \u001b[1mNew Casks\u001b[0m\n",
            "cloudpouch                               font-harmonyos-sans-sc\n",
            "clover-chord-systems                     font-harmonyos-sans-tc\n",
            "elemental                                font-noto-serif-dives-akuru\n",
            "elemental@6                              font-wdxl-lubrifont-jp-n\n",
            "font-asta-sans                           font-wdxl-lubrifont-sc\n",
            "font-bizter                              font-wdxl-lubrifont-tc\n",
            "font-harmonyos-sans                      meru\n",
            "font-harmonyos-sans-naskh-arabic         sc-menu\n",
            "\n",
            "You have \u001b[1m13\u001b[0m outdated formulae installed.\n",
            "\n",
            "\u001b[34m==>\u001b[0m \u001b[1mDownloading https://ghcr.io/v2/homebrew/core/htslib/manifests/1.21\u001b[0m\n",
            "######################################################################### 100.0%\n",
            "\u001b[32m==>\u001b[0m \u001b[1mFetching \u001b[32mhtslib\u001b[39m\u001b[0m\n",
            "\u001b[34m==>\u001b[0m \u001b[1mDownloading https://ghcr.io/v2/homebrew/core/htslib/blobs/sha256:5666590893b\u001b[0m\n",
            "######################################################################### 100.0%\n",
            "\u001b[34m==>\u001b[0m \u001b[1mPouring htslib--1.21.arm64_sequoia.bottle.tar.gz\u001b[0m\n",
            "🍺  /opt/homebrew/Cellar/htslib/1.21: 51 files, 5.6MB\n",
            "\u001b[34m==>\u001b[0m \u001b[1mRunning `brew cleanup htslib`...\u001b[0m\n",
            "Disable this behaviour by setting HOMEBREW_NO_INSTALL_CLEANUP.\n",
            "Hide these hints with HOMEBREW_NO_ENV_HINTS (see `man brew`).\n"
          ]
        }
      ],
      "source": [
        "## if you Permission denied error on a mac, try\n",
        "!brew install htslib"
      ]
    },
    {
      "cell_type": "markdown",
      "metadata": {
        "id": "9yr1ker8dc1t"
      },
      "source": [
        "#### Index vcf"
      ]
    },
    {
      "cell_type": "code",
      "execution_count": 22,
      "metadata": {
        "id": "Kt9VHKpHdeA-"
      },
      "outputs": [],
      "source": [
        "!tabix {VCF_FILE}"
      ]
    },
    {
      "cell_type": "markdown",
      "metadata": {
        "id": "2xC4WXJOIY48"
      },
      "source": [
        "### Define paths"
      ]
    },
    {
      "cell_type": "code",
      "execution_count": 40,
      "metadata": {
        "id": "3tpn_nWlIbHe"
      },
      "outputs": [],
      "source": [
        "models_path = CONTENT_DIR + '/data/saved_models/'\n",
        "params_file = GITHUB_DIR + '/borzoi/examples/params_pred.json'\n",
        "targets_file = GITHUB_DIR + '/borzoi/examples/targets_human.txt'"
      ]
    },
    {
      "cell_type": "markdown",
      "metadata": {
        "id": "xLgpTxaYHYzu"
      },
      "source": [
        "Load splice site annotation"
      ]
    },
    {
      "cell_type": "code",
      "execution_count": 26,
      "metadata": {
        "colab": {
          "base_uri": "https://localhost:8080/"
        },
        "id": "pojk1VfkHcoL",
        "outputId": "c3e5471a-3ba8-41e8-9ea1-762853e47dcc"
      },
      "outputs": [
        {
          "name": "stdout",
          "output_type": "stream",
          "text": [
            "len(splice_df) = 404837\n"
          ]
        }
      ],
      "source": [
        "splice_df = pd.read_csv(CONTENT_DIR+'/data/gencode41_basic_protein_splice.csv.gz', sep='\\t', compression='gzip')\n",
        "print(\"len(splice_df) = \" + str(len(splice_df)))"
      ]
    },
    {
      "cell_type": "markdown",
      "metadata": {
        "id": "ebfshlqMC-Q3"
      },
      "source": [
        "Load transcriptome"
      ]
    },
    {
      "cell_type": "code",
      "execution_count": 29,
      "metadata": {
        "id": "qEtVMAwTC9Bz"
      },
      "outputs": [],
      "source": [
        "transcriptome = bgene.Transcriptome(CONTENT_DIR + '/data/gencode41_basic_nort.gtf')"
      ]
    },
    {
      "cell_type": "markdown",
      "metadata": {
        "id": "n9Rik3IVDYdZ"
      },
      "source": [
        "## 2. Define functions"
      ]
    },
    {
      "cell_type": "markdown",
      "metadata": {
        "id": "VdsPQTiHDfFm"
      },
      "source": [
        "#### FastaStringExtractor\n",
        "From reference seq fasta:\n",
        "- Indexes ref sequence\n",
        "- Gets chromosome sizes into a dictionary\n",
        "\n",
        "Extract function:\n",
        "- gets target chromosome length from kipoiseq interval and chr sizes dictionary\n",
        "- truncates interval if it extends beyond chromosome lengths\n",
        "- extracts sequence\n",
        "\n",
        "#### make_seq_1hot\n",
        "- one hot encodes given sequence\n",
        "\n",
        "#### predict_tracks\n",
        "- makes prediction of ALL tracks given an encoded sequence\n"
      ]
    },
    {
      "cell_type": "code",
      "execution_count": 31,
      "metadata": {
        "id": "t5Xp3e83DX6G"
      },
      "outputs": [],
      "source": [
        "class FastaStringExtractor:\n",
        "\n",
        "    def __init__(self, fasta_file):\n",
        "        self.fasta = pyfaidx.Fasta(fasta_file)\n",
        "        self._chromosome_sizes = {k: len(v) for k, v in self.fasta.items()}\n",
        "    #import pd.Interval as Interval\n",
        "\n",
        "    def extract(self, interval: Interval, **kwargs) -> str:\n",
        "        # Truncate interval if it extends beyond the chromosome lengths.\n",
        "        chromosome_length = self._chromosome_sizes[interval.chrom]\n",
        "        trimmed_interval = Interval(interval.chrom,\n",
        "                                    max(interval.start, 0),\n",
        "                                    min(interval.end, chromosome_length),\n",
        "                                    )\n",
        "        # pyfaidx wants a 1-based interval\n",
        "        sequence = str(self.fasta.get_seq(trimmed_interval.chrom,\n",
        "                                          trimmed_interval.start + 1,\n",
        "                                          trimmed_interval.stop).seq).upper()\n",
        "        # Fill truncated values with N's.\n",
        "        pad_upstream = 'N' * max(-interval.start, 0)\n",
        "        pad_downstream = 'N' * max(interval.end - chromosome_length, 0)\n",
        "        return pad_upstream + sequence + pad_downstream # returns padded sequence\n",
        "\n",
        "    def close(self):\n",
        "        return self.fasta.close()"
      ]
    },
    {
      "cell_type": "code",
      "execution_count": 32,
      "metadata": {
        "id": "ARgo3OX7Duw0"
      },
      "outputs": [],
      "source": [
        "# Make one-hot coded sequence (modified from borzoi)\n",
        "def make_seq_1hot(sequence):\n",
        "    return dna.dna_1hot(sequence).astype(\"float32\")\n",
        "\n",
        "def predict_tracks(models, sequence_one_hot):\n",
        "\n",
        "  predicted_tracks = []\n",
        "  for fold_ix in range(len(models)):\n",
        "\n",
        "    yh = models[fold_ix](sequence_one_hot[None, ...])[:, None, ...].astype(\"float16\")\n",
        "\n",
        "    predicted_tracks.append(yh)\n",
        "\n",
        "  predicted_tracks = np.concatenate(predicted_tracks, axis=1)\n",
        "\n",
        "  return predicted_tracks"
      ]
    },
    {
      "cell_type": "markdown",
      "metadata": {
        "id": "HXc_BmeCE-ay"
      },
      "source": [
        "\n",
        "#### vcf_to_seq_faster\n",
        "- Modifies ref sequence to personal sequence given the vcf"
      ]
    },
    {
      "cell_type": "code",
      "execution_count": 33,
      "metadata": {
        "id": "Zya-2yCYD3mt"
      },
      "outputs": [],
      "source": [
        "def vcf_to_seq_faster(target_interval, individual, vcf_file, fasta_extractor):\n",
        "  # target_inverval is a kipoiseq interval, e.g. kipoiseq.Interval(\"chr22\", 18118779, 18145669)\n",
        "  # individual is the id of the individual in the vcf file\n",
        "\n",
        "  target_fa = fasta_extractor.extract(target_interval.resize(SEQUENCE_LENGTH))\n",
        "  window_coords = target_interval.resize(SEQUENCE_LENGTH)\n",
        "      # two haplotypes per individual\n",
        "  haplo_1 = list(target_fa[:])\n",
        "  haplo_2 = list(target_fa[:])\n",
        "\n",
        "  # Open the VCF file\n",
        "  vcf_reader = cyvcf2.VCF(vcf_file)\n",
        "\n",
        "  # Specific genomic region\n",
        "  CHROM = window_coords.chrom\n",
        "  START = max(1,window_coords.start)\n",
        "  END = min(window_coords.end, fasta_extractor._chromosome_sizes[CHROM]-1)\n",
        "\n",
        "  count1 = 0\n",
        "  count2 = 0\n",
        "\n",
        "  # Iterate through variants in the specified region\n",
        "  for variant in vcf_reader(CHROM + ':' + str(START) + '-' + str(END)):\n",
        "      # Access the individual's genotype using index (0-based) of the sample\n",
        "      individual_index = vcf_reader.samples.index(individual)\n",
        "      genotype = variant.genotypes[individual_index]\n",
        "      ALT=variant.ALT[0]\n",
        "      REF=variant.REF\n",
        "      POS=variant.POS\n",
        "      if REF == target_fa[POS - window_coords.start - 1]:\n",
        "        if genotype[0] == 1:\n",
        "          haplo_1[POS - window_coords.start - 1] = ALT\n",
        "          count1 = count1 + 1\n",
        "        if genotype[1] == 1:\n",
        "          haplo_2[POS - window_coords.start - 1] = ALT\n",
        "          count2 = count2 + 1\n",
        "      else:\n",
        "        print(\"ERROR: REF in vcf \"+ REF + \"!= REF from the build\" + target_fa[POS - window_coords.start - 1])\n",
        "  print(\"number of changes haplo1:\")\n",
        "  print(count1)\n",
        "  print(\"number of changes haplo2:\")\n",
        "  print(count2)\n",
        "  return haplo_1, haplo_2"
      ]
    },
    {
      "cell_type": "markdown",
      "metadata": {
        "id": "TtxqMU7rl1Ry"
      },
      "source": [
        "#### make_prediction function"
      ]
    },
    {
      "cell_type": "code",
      "execution_count": 34,
      "metadata": {
        "id": "ZSxi1i07l6nc"
      },
      "outputs": [],
      "source": [
        "def make_prediction(gene, interval, haplo, sequence_one_hot, window = 131072): # snp_pos, alt_allele\n",
        "    with tf.device('/GPU:0'):\n",
        "        search_gene = gene # gene to predict\n",
        "\n",
        "        resized_interval = interval.resize(SEQUENCE_LENGTH)\n",
        "        start = resized_interval.start\n",
        "        end = resized_interval.end\n",
        "        center_pos = start + SEQUENCE_LENGTH//2 # figure center position\n",
        "\n",
        "        chrom = resized_interval.chr # chromosome\n",
        "\n",
        "        #Get exon bin range\n",
        "        gene_keys = [gene_key for gene_key in transcriptome.genes.keys() if search_gene in gene_key]\n",
        "\n",
        "        gene = transcriptome.genes[gene_keys[0]]\n",
        "\n",
        "        #Determine output sequence start\n",
        "        seq_out_start = start + seqnn_model.model_strides[0]*seqnn_model.target_crops[0]\n",
        "        seq_out_len = seqnn_model.model_strides[0]*seqnn_model.target_lengths[0]\n",
        "\n",
        "        #Determine output positions of gene exons\n",
        "        gene_slice = gene.output_slice(seq_out_start, seq_out_len, seqnn_model.model_strides[0], False)\n",
        "\n",
        "        #Make predictions\n",
        "        #y_wt\n",
        "        return predict_tracks(models, sequence_one_hot)\n"
      ]
    },
    {
      "cell_type": "markdown",
      "metadata": {
        "id": "tYHp-buud3MJ"
      },
      "source": [
        "#### Get indexes of tracks function"
      ]
    },
    {
      "cell_type": "code",
      "execution_count": 35,
      "metadata": {
        "id": "FrN18-RbHDg7"
      },
      "outputs": [],
      "source": [
        "# Get indexes of track\n",
        "def get_track_idx(tracks):\n",
        "  track_idx = []\n",
        "  targets_df['local_index'] = np.arange(len(targets_df))\n",
        "  for track in tracks:\n",
        "    track_idx.append(targets_df.loc[targets_df['description'] == track]['local_index'].tolist())\n",
        "  return track_idx"
      ]
    },
    {
      "cell_type": "markdown",
      "metadata": {
        "id": "w90VJs4Ud75b"
      },
      "source": [
        "#### Plot tracks function"
      ]
    },
    {
      "cell_type": "code",
      "execution_count": 36,
      "metadata": {
        "id": "jPn0GAGbJjVD"
      },
      "outputs": [],
      "source": [
        "def plot_tracks(prediction, interval, haplo, anno_df=None, tracks=[],\n",
        "                log = [False, False, False],\n",
        "                sqrt_scale = [False, False, False]):\n",
        "  # Gene slice not included\n",
        "  bin_size = 32\n",
        "  pad = 16\n",
        "\n",
        "  resized_interval = interval.resize(SEQUENCE_LENGTH)\n",
        "  start = resized_interval.start\n",
        "  end = resized_interval.end\n",
        "  center_pos = start + SEQUENCE_LENGTH//2 # figure center position\n",
        "  window=131072\n",
        "\n",
        "  plot_start = center_pos - window // 2\n",
        "  plot_end = center_pos + window // 2\n",
        "\n",
        "  plot_start_bin = (plot_start - start) // bin_size - pad\n",
        "  plot_end_bin = (plot_end - start) // bin_size - pad\n",
        "\n",
        "  track_idx = get_track_idx(tracks)\n",
        "  track_scales = [0.01, 0.01, 0.01]\n",
        "  track_transforms = [3./4., 3./4., 3./4.]\n",
        "  soft_clips = [384., 384., 384.]\n",
        "\n",
        "  # Get annotation positions\n",
        "  anno_poses = []\n",
        "  if anno_df is not None:\n",
        "      anno_poses = anno_df.query(\n",
        "          \"chrom == '\"\n",
        "          + interval.chr\n",
        "          + \"' and position_hg38 >= \"\n",
        "          + str(plot_start)\n",
        "          + \" and position_hg38 < \"\n",
        "          + str(plot_end)\n",
        "        )[\"position_hg38\"].values.tolist()\n",
        "  # BIG plot\n",
        "  fig, axes = plt.subplots(len(tracks), figsize=(20, 1.5 * len(tracks)), sharex = True)\n",
        "\n",
        "  for ax, track, track_index, track_scale, track_transform, clip_soft in zip(axes,\n",
        "        tracks, track_idx, track_scales, track_transforms, soft_clips):\n",
        "    # Plot track densities\n",
        "    y = np.array(np.copy(prediction), dtype = np.float32)\n",
        "    y = np.mean(y[..., track_index], axis=(0, 1, 3))\n",
        "    y = y[plot_start_bin:plot_end_bin]\n",
        "    signal = np.max(y)\n",
        "    if log:\n",
        "      y = np.log2(y + 1.0)\n",
        "    elif sqrt_scale:\n",
        "      y = np.sqrt(y + 1.0)\n",
        "\n",
        "    max_y = np.max(y)\n",
        "    print(\"Max signal for \"+ str(track) + \" = \" + str(round(signal, 4)))\n",
        "    print(\"Max transformed signal for \"+ str(track) + \" = \" + str(round(max_y, 4)))\n",
        "    print(\"---\")\n",
        "    ax.bar(np.arange(plot_end_bin - plot_start_bin) + plot_start_bin,\n",
        "            y,\n",
        "            width=1.0,\n",
        "            color=\"green\",\n",
        "            alpha=0.5)\n",
        "            # label=\"Prediction\",)\n",
        "    # X axis tick annotations\n",
        "    xtick_vals = []\n",
        "    for _, anno_pos in enumerate(anno_poses):\n",
        "      pas_bin = int((anno_pos - start) // 32) - 16\n",
        "      xtick_vals.append(pas_bin)\n",
        "      bin_end = pas_bin + 3 - 0.5\n",
        "      bin_start = bin_end - 5\n",
        "\n",
        "      ax.axvline(x=pas_bin,\n",
        "                color=\"cyan\",\n",
        "                linewidth=2,\n",
        "                alpha=0.5,\n",
        "                linestyle=\"-\",\n",
        "                zorder=-1,)\n",
        "\n",
        "    plt.xlim(plot_start_bin, plot_end_bin - 1)\n",
        "    plt.xticks([], [])\n",
        "    plt.yticks([], [])\n",
        "\n",
        "    ax.set(ylabel = \"Signal(log)\" if log else \"Signal\")# , fontsize = 8)\n",
        "    ax.set_title(\"Track: \" + str(track)+ \" in \"+ str(haplo), fontsize=10)\n",
        "    # plt.legend(fontsize=8)\n",
        "    plt.tight_layout()\n",
        "  ax.set_xlabel(\n",
        "            interval.chr\n",
        "            + \":\"\n",
        "            + str(plot_start)\n",
        "            + \"-\"\n",
        "            + str(plot_end)\n",
        "            + \" (\"\n",
        "            + str(window)\n",
        "            + \"bp window)\")\n",
        "            # fontsize=8,)\n",
        "  plt.show()"
      ]
    },
    {
      "cell_type": "markdown",
      "metadata": {
        "id": "WMx0vV8rGDp1"
      },
      "source": [
        "### Extract fasta"
      ]
    },
    {
      "cell_type": "code",
      "execution_count": 37,
      "metadata": {
        "id": "_Q4vMhZuGF31"
      },
      "outputs": [],
      "source": [
        "fasta_extractor = FastaStringExtractor(fasta_file)"
      ]
    },
    {
      "cell_type": "markdown",
      "metadata": {
        "id": "fLuB8aRGH31e"
      },
      "source": [
        "## 3.Model configuration"
      ]
    },
    {
      "cell_type": "code",
      "execution_count": 43,
      "metadata": {},
      "outputs": [],
      "source": [
        "#| output: false\n",
        "SEQUENCE_LENGTH = 524288\n",
        "n_folds = 4       #To use only one model fold, change to 'n_folds = 1'\n",
        "rc = True         #Average across reverse-complement prediction\n",
        "\n",
        "#Read model parameters\n",
        "\n",
        "with open(params_file) as params_open :\n",
        "\n",
        "    params = json.load(params_open)\n",
        "\n",
        "    params_model = params['model']\n",
        "    params_train = params['train']\n",
        "\n",
        "#Read targets\n",
        "\n",
        "targets_df = pd.read_csv(targets_file, index_col=0, sep='\\t')\n",
        "target_index = targets_df.index\n",
        "\n",
        "#Create local index of strand_pair (relative to sliced targets)\n",
        "if rc :\n",
        "    strand_pair = targets_df.strand_pair\n",
        "\n",
        "    target_slice_dict = {ix : i for i, ix in enumerate(target_index.values.tolist())}\n",
        "    slice_pair = np.array([\n",
        "        target_slice_dict[ix] if ix in target_slice_dict else ix for ix in strand_pair.values.tolist()\n",
        "    ], dtype='int32')\n"
      ]
    },
    {
      "cell_type": "code",
      "execution_count": 47,
      "metadata": {
        "colab": {
          "base_uri": "https://localhost:8080/"
        },
        "id": "8PqSozs1H5rs",
        "outputId": "20540e23-7311-470a-989d-d48c91343a33"
      },
      "outputs": [],
      "source": [
        "\n",
        "#Initialize model ensemble\n",
        "\n",
        "models = []\n",
        "for fold_ix in range(n_folds) :\n",
        "\n",
        "    model_file = models_path + \"f\" + str(fold_ix) + \"/model0_best.h5\"\n",
        "\n",
        "    seqnn_model = seqnn.SeqNN(params_model)\n",
        "    seqnn_model.restore(model_file, 0)\n",
        "    seqnn_model.build_slice(target_index)\n",
        "    if rc :\n",
        "        seqnn_model.strand_pair.append(slice_pair)\n",
        "    #seqnn_model.build_ensemble(rc, '0')\n",
        "    seqnn_model.build_ensemble(rc, [0])\n",
        "\n",
        "    models.append(seqnn_model)"
      ]
    },
    {
      "cell_type": "markdown",
      "metadata": {
        "id": "YbJzPCHAIbmx"
      },
      "source": [
        "## 4. Build sequence"
      ]
    },
    {
      "cell_type": "code",
      "execution_count": 49,
      "metadata": {
        "colab": {
          "base_uri": "https://localhost:8080/"
        },
        "id": "dpoPR07FIdU5",
        "outputId": "11e7a561-6077-444d-f5c6-93cc6aad15b2"
      },
      "outputs": [
        {
          "name": "stdout",
          "output_type": "stream",
          "text": [
            "number of changes haplo1:\n",
            "414\n",
            "number of changes haplo2:\n",
            "133\n"
          ]
        }
      ],
      "source": [
        "# read VCFs and encode haplotypes\n",
        "CHROM = 'chr22'\n",
        "vcf_file = CONTENT_DIR + \"/data/ALL.\" + CHROM + \".shapeit2_integrated_SNPs_v2a_27022019.GRCh38.phased.gz\"\n",
        "target_interval = kipoiseq.Interval(CHROM, 18118779, 18145669)\n",
        "haplo1, haplo2 = vcf_to_seq_faster(target_interval, 'HG00097', vcf_file, fasta_extractor)\n",
        "haplo0 = fasta_extractor.extract(target_interval.resize(SEQUENCE_LENGTH)) # ref seq\n",
        "\n",
        "# removed extra dimension as input layer is of shape=(None, 524288, 4)\n",
        "haplo1_enc = make_seq_1hot(\"\".join(haplo1))\n",
        "haplo2_enc = make_seq_1hot(\"\".join(haplo2))\n",
        "haplo0_enc = make_seq_1hot(\"\".join(haplo0))"
      ]
    },
    {
      "cell_type": "markdown",
      "metadata": {
        "id": "u0HH8BOqlnbh"
      },
      "source": [
        "## 5. Predict"
      ]
    },
    {
      "cell_type": "markdown",
      "metadata": {
        "id": "e3fSGxiHri8-"
      },
      "source": [
        "ENSG00000099968"
      ]
    },
    {
      "cell_type": "code",
      "execution_count": 50,
      "metadata": {
        "id": "13ihQaz0ipVe"
      },
      "outputs": [],
      "source": [
        "sequences = [haplo0_enc, haplo1_enc, haplo2_enc]\n",
        "my_tracks = ['CAGE:B lymphoblastoid cell line: GM12878 ENCODE, biol_',\n",
        "                          'DNASE:CD14-positive monocyte female',\n",
        "                          'RNA:blood']"
      ]
    },
    {
      "cell_type": "code",
      "execution_count": 51,
      "metadata": {
        "colab": {
          "base_uri": "https://localhost:8080/",
          "height": 1000
        },
        "id": "yzyYvbNfiOkH",
        "outputId": "f318a409-356c-4c44-de13-3e88653b7e83"
      },
      "outputs": [
        {
          "name": "stdout",
          "output_type": "stream",
          "text": [
            "Reference\n",
            "Max signal for CAGE:B lymphoblastoid cell line: GM12878 ENCODE, biol_ = 38.1346\n",
            "Max transformed signal for CAGE:B lymphoblastoid cell line: GM12878 ENCODE, biol_ = 5.2904\n",
            "---\n",
            "Max signal for DNASE:CD14-positive monocyte female = 11.8511\n",
            "Max transformed signal for DNASE:CD14-positive monocyte female = 3.6838\n",
            "---\n",
            "Max signal for RNA:blood = 2.7051\n",
            "Max transformed signal for RNA:blood = 1.8895\n",
            "---\n"
          ]
        },
        {
          "data": {
            "image/png": "[encoded data removed]",
            "text/plain": [
              "<Figure size 2000x450 with 3 Axes>"
            ]
          },
          "metadata": {},
          "output_type": "display_data"
        },
        {
          "name": "stdout",
          "output_type": "stream",
          "text": [
            "Haplotype 1\n",
            "Max signal for CAGE:B lymphoblastoid cell line: GM12878 ENCODE, biol_ = 39.2737\n",
            "Max transformed signal for CAGE:B lymphoblastoid cell line: GM12878 ENCODE, biol_ = 5.3318\n",
            "---\n",
            "Max signal for DNASE:CD14-positive monocyte female = 11.8428\n",
            "Max transformed signal for DNASE:CD14-positive monocyte female = 3.6829\n",
            "---\n",
            "Max signal for RNA:blood = 2.689\n",
            "Max transformed signal for RNA:blood = 1.8832\n",
            "---\n"
          ]
        },
        {
          "data": {
            "image/png": "[encoded data removed]",
            "text/plain": [
              "<Figure size 2000x450 with 3 Axes>"
            ]
          },
          "metadata": {},
          "output_type": "display_data"
        },
        {
          "name": "stdout",
          "output_type": "stream",
          "text": [
            "Haplotype 2\n",
            "Max signal for CAGE:B lymphoblastoid cell line: GM12878 ENCODE, biol_ = 38.5659\n",
            "Max transformed signal for CAGE:B lymphoblastoid cell line: GM12878 ENCODE, biol_ = 5.3062\n",
            "---\n",
            "Max signal for DNASE:CD14-positive monocyte female = 11.8301\n",
            "Max transformed signal for DNASE:CD14-positive monocyte female = 3.6815\n",
            "---\n",
            "Max signal for RNA:blood = 2.7414\n",
            "Max transformed signal for RNA:blood = 1.9036\n",
            "---\n"
          ]
        },
        {
          "data": {
            "image/png": "[encoded data removed]",
            "text/plain": [
              "<Figure size 2000x450 with 3 Axes>"
            ]
          },
          "metadata": {},
          "output_type": "display_data"
        }
      ],
      "source": [
        "for h in range(0, len(sequences)):\n",
        "  haplotypes = [\"Reference\", \"Haplotype 1\", \"Haplotype 2\"]\n",
        "  prediction = make_prediction(gene = 'ENSG00000099968', interval = target_interval,\n",
        "                               haplo = haplotypes[h], sequence_one_hot=sequences[h])\n",
        "  print(haplotypes[h])\n",
        "  plot_tracks(prediction, interval = target_interval, haplo = haplotypes[h],\n",
        "              tracks = my_tracks, log = [True, True, False])"
      ]
    },
    {
      "cell_type": "code",
      "execution_count": 52,
      "metadata": {
        "colab": {
          "base_uri": "https://localhost:8080/"
        },
        "id": "rhtZZ79BfyG7",
        "outputId": "495870e7-f0fd-4b12-9ccf-b53dc0ab7c86"
      },
      "outputs": [
        {
          "data": {
            "text/plain": [
              "(1, 4, 16352, 7611)"
            ]
          },
          "execution_count": 52,
          "metadata": {},
          "output_type": "execute_result"
        }
      ],
      "source": [
        "prediction.shape"
      ]
    }
  ],
  "metadata": {
    "accelerator": "GPU",
    "colab": {
      "gpuType": "A100",
      "machine_shape": "hm",
      "provenance": []
    },
    "kernelspec": {
      "display_name": "borzoi46100",
      "language": "python",
      "name": "python3"
    },
    "language_info": {
      "codemirror_mode": {
        "name": "ipython",
        "version": 3
      },
      "file_extension": ".py",
      "mimetype": "text/x-python",
      "name": "python",
      "nbconvert_exporter": "python",
      "pygments_lexer": "ipython3",
      "version": "3.10.16"
    }
  },
  "nbformat": 4,
  "nbformat_minor": 0
}
